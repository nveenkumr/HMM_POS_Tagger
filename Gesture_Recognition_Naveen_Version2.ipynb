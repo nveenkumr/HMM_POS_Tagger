{
  "nbformat": 4,
  "nbformat_minor": 0,
  "metadata": {
    "kernelspec": {
      "display_name": "Python 3",
      "language": "python",
      "name": "python3"
    },
    "language_info": {
      "codemirror_mode": {
        "name": "ipython",
        "version": 3
      },
      "file_extension": ".py",
      "mimetype": "text/x-python",
      "name": "python",
      "nbconvert_exporter": "python",
      "pygments_lexer": "ipython3",
      "version": "3.6.8"
    },
    "colab": {
      "name": "Gesture Recognition_Naveen_Version2.ipynb",
      "provenance": [],
      "collapsed_sections": [
        "c_Bu-NuJS2Wl",
        "BOJgcaLvS2Wt",
        "r1Xf6qGBS2Wu",
        "v2bTUJwxS2Wv",
        "1z3hMMDsS2Wx",
        "BA4cBX41S2Wy",
        "6HTETJWrS2W0",
        "_FY_w6DcS2W0",
        "-37FAc7PS2W2",
        "tDK0_wYjS2W3",
        "rv_UmvUxS2W4",
        "jkel888cS2W5"
      ],
      "toc_visible": true,
      "include_colab_link": true
    },
    "accelerator": "GPU"
  },
  "cells": [
    {
      "cell_type": "markdown",
      "metadata": {
        "id": "view-in-github",
        "colab_type": "text"
      },
      "source": [
        "<a href=\"https://colab.research.google.com/github/nveenkumr/HMM_POS_Tagger/blob/main/Gesture_Recognition_Naveen_Version2.ipynb\" target=\"_parent\"><img src=\"https://colab.research.google.com/assets/colab-badge.svg\" alt=\"Open In Colab\"/></a>"
      ]
    },
    {
      "cell_type": "markdown",
      "metadata": {
        "id": "8ZN9rkNNS2WQ"
      },
      "source": [
        "# Gesture Recognition \n",
        "In this group project, we are going to build a 3D Conv model that will be able to predict the 5 gestures correctly. "
      ]
    },
    {
      "cell_type": "code",
      "metadata": {
        "colab": {
          "base_uri": "https://localhost:8080/",
          "height": 237
        },
        "id": "Ff3TaI1-S_qW",
        "outputId": "1797ce57-4106-497d-ee0e-b63d601dbd48"
      },
      "source": [
        "!pip install gdown\n",
        "import gdown\n",
        "url = \"https://drive.google.com/uc?id=1ehyrYBQ5rbQQe6yL4XbLWe3FMvuVUGiL\"\n",
        "output = \"Project_data.zip\"\n",
        "gdown.download(url, output, quiet=False)\n"
      ],
      "execution_count": 3,
      "outputs": [
        {
          "output_type": "stream",
          "text": [
            "Requirement already satisfied: gdown in /usr/local/lib/python3.7/dist-packages (3.6.4)\n",
            "Requirement already satisfied: six in /usr/local/lib/python3.7/dist-packages (from gdown) (1.15.0)\n",
            "Requirement already satisfied: requests in /usr/local/lib/python3.7/dist-packages (from gdown) (2.23.0)\n",
            "Requirement already satisfied: tqdm in /usr/local/lib/python3.7/dist-packages (from gdown) (4.41.1)\n",
            "Requirement already satisfied: urllib3!=1.25.0,!=1.25.1,<1.26,>=1.21.1 in /usr/local/lib/python3.7/dist-packages (from requests->gdown) (1.24.3)\n",
            "Requirement already satisfied: certifi>=2017.4.17 in /usr/local/lib/python3.7/dist-packages (from requests->gdown) (2020.12.5)\n",
            "Requirement already satisfied: idna<3,>=2.5 in /usr/local/lib/python3.7/dist-packages (from requests->gdown) (2.10)\n",
            "Requirement already satisfied: chardet<4,>=3.0.2 in /usr/local/lib/python3.7/dist-packages (from requests->gdown) (3.0.4)\n"
          ],
          "name": "stdout"
        },
        {
          "output_type": "stream",
          "text": [
            "Downloading...\n",
            "From: https://drive.google.com/uc?id=1ehyrYBQ5rbQQe6yL4XbLWe3FMvuVUGiL\n",
            "To: /content/Project_data.zip\n",
            "1.71GB [00:10, 158MB/s] \n"
          ],
          "name": "stderr"
        },
        {
          "output_type": "execute_result",
          "data": {
            "application/vnd.google.colaboratory.intrinsic+json": {
              "type": "string"
            },
            "text/plain": [
              "'Project_data.zip'"
            ]
          },
          "metadata": {
            "tags": []
          },
          "execution_count": 3
        }
      ]
    },
    {
      "cell_type": "code",
      "metadata": {
        "id": "DoyZCtgmS_Vn"
      },
      "source": [
        "#unzip the download folder \n",
        "import shutil\n",
        "shutil.unpack_archive(\"Project_data.zip\" , \"Project_data\")"
      ],
      "execution_count": 4,
      "outputs": []
    },
    {
      "cell_type": "code",
      "metadata": {
        "id": "96GI62RPS2WV"
      },
      "source": [
        "#Let's import the following libraries to get started.\n",
        "import numpy as np\n",
        "import os\n",
        "#from scipy.misc import imread, imresize\n",
        "import imageio \n",
        "from skimage.transform import rescale, resize, downscale_local_mean\n",
        "from skimage import transform,io\n",
        "import cv2\n",
        "import datetime\n",
        "import os\n",
        "from abc import ABC, abstractmethod"
      ],
      "execution_count": 30,
      "outputs": []
    },
    {
      "cell_type": "markdown",
      "metadata": {
        "id": "p9GFVdT0S2WW"
      },
      "source": [
        "We set the random seed so that the results don't vary drastically."
      ]
    },
    {
      "cell_type": "code",
      "metadata": {
        "id": "GGGTwOVrS2WW"
      },
      "source": [
        "np.random.seed(30)\n",
        "import random as rn\n",
        "rn.seed(30)\n",
        "from keras import backend as K\n",
        "import tensorflow as tf\n",
        "tf.random.set_seed(30)"
      ],
      "execution_count": 9,
      "outputs": []
    },
    {
      "cell_type": "code",
      "metadata": {
        "id": "m7M_wW9JS2WX"
      },
      "source": [
        "from keras.models import Sequential, Model\n",
        "from keras.layers import Dense, GRU, Flatten, TimeDistributed, Flatten, BatchNormalization, Activation, Dropout,LSTM\n",
        "from keras.layers.convolutional import Conv3D,Conv2D, MaxPooling3D,MaxPooling2D\n",
        "from keras.callbacks import ModelCheckpoint, ReduceLROnPlateau\n",
        "from keras import optimizers\n",
        "from keras.applications import ResNet50\n",
        "from keras.applications.resnet50 import preprocess_input\n",
        "from keras.layers.recurrent import LSTM, GRU\n",
        "\n",
        "import cv2\n",
        "import matplotlib.pyplot as plt\n",
        "% matplotlib inline"
      ],
      "execution_count": 10,
      "outputs": []
    },
    {
      "cell_type": "markdown",
      "metadata": {
        "id": "mffddKnTS2WY"
      },
      "source": [
        "In this block, you read the folder names for training and validation. You also set the batch_size here. Note that you set the batch size in such a way that you are able to use the GPU in full capacity. You keep increasing the batch size until the machine throws an error."
      ]
    },
    {
      "cell_type": "code",
      "metadata": {
        "id": "uejFUwc-VOv6"
      },
      "source": [
        "train_doc = np.random.permutation(open('./Project_data/Project_data/train.csv').readlines())\n",
        "val_doc = np.random.permutation(open('./Project_data/Project_data/val.csv').readlines())\n",
        "#batch_size = 60 #experiment with the batch size"
      ],
      "execution_count": 12,
      "outputs": []
    },
    {
      "cell_type": "code",
      "metadata": {
        "colab": {
          "base_uri": "https://localhost:8080/"
        },
        "id": "BRoCl_myVS6T",
        "outputId": "fbd75436-ecb0-4d70-9171-264f64b0b0e6"
      },
      "source": [
        "# displaying top 10 videos \n",
        "train_doc[:10]"
      ],
      "execution_count": 13,
      "outputs": [
        {
          "output_type": "execute_result",
          "data": {
            "text/plain": [
              "array(['WIN_20180926_16_54_08_Pro_Right_Swipe_new;Right_Swipe_new;1\\n',\n",
              "       'WIN_20180925_18_02_58_Pro_Thumbs_Down_new;Thumbs_Down_new;3\\n',\n",
              "       'WIN_20180925_17_33_08_Pro_Left_Swipe_new;Left_Swipe_new;0\\n',\n",
              "       'WIN_20180925_17_51_17_Pro_Thumbs_Up_new;Thumbs_Up_new;4\\n',\n",
              "       'WIN_20180926_17_17_35_Pro_Left_Swipe_new;Left_Swipe_new;0\\n',\n",
              "       'WIN_20180926_17_30_47_Pro_Thumbs_Up_new;Thumbs_Up_new;4\\n',\n",
              "       'WIN_20180926_17_29_23_Pro_Stop_new;Stop_new;2\\n',\n",
              "       'WIN_20180926_17_12_26_Pro_Thumbs_Up_new;Thumbs_Up_new;4\\n',\n",
              "       'WIN_20180926_17_29_01_Pro_Stop_new;Stop_new;2\\n',\n",
              "       'WIN_20180907_16_32_11_Pro_Stop Gesture_new;Stop Gesture_new;2\\n'],\n",
              "      dtype='<U88')"
            ]
          },
          "metadata": {
            "tags": []
          },
          "execution_count": 13
        }
      ]
    },
    {
      "cell_type": "code",
      "metadata": {
        "id": "AnGlyP6QS2WZ"
      },
      "source": [
        "# the entire dataset is placed in below directory\n",
        "main_folder='./Project_data/Project_data/'"
      ],
      "execution_count": 14,
      "outputs": []
    },
    {
      "cell_type": "markdown",
      "metadata": {
        "id": "VicRDkleS2WZ"
      },
      "source": [
        "##### Plotting"
      ]
    },
    {
      "cell_type": "code",
      "metadata": {
        "jupyter": {
          "outputs_hidden": true
        },
        "id": "Vzqv9kE3S2WZ"
      },
      "source": [
        "def plot(Model):\n",
        "    fig, axes = plt.subplots(nrows=1, ncols=2, figsize=(15,4))\n",
        "    axes[0].plot(Model.history['loss'])   \n",
        "    axes[0].plot(Model.history['val_loss'])\n",
        "    axes[0].legend(['loss','val_loss'])\n",
        "\n",
        "    axes[1].plot(Model.history['categorical_accuracy'])   \n",
        "    axes[1].plot(Model.history['val_categorical_accuracy'])\n",
        "    axes[1].legend(['categorical_accuracy','val_categorical_accuracy'])"
      ],
      "execution_count": 15,
      "outputs": []
    },
    {
      "cell_type": "markdown",
      "metadata": {
        "id": "PcpnPsD3S2Wa"
      },
      "source": [
        "## Generator\n",
        "This is one of the most important part of the code. The overall structure of the generator has been given. In the generator, you are going to preprocess the images as you have images of 2 different dimensions as well as create a batch of video frames. You have to experiment with `img_idx`, `y`,`z` and normalization such that you get high accuracy."
      ]
    },
    {
      "cell_type": "code",
      "metadata": {
        "id": "Kj6DVrBOS2Wb"
      },
      "source": [
        "# referred ABC library use case from this link https://riptutorial.com/python/example/23083/why-how-to-use-abcmeta-and--abstractmethod\n",
        "\n",
        "class BuildModel(ABC):\n",
        "    \n",
        "    def initialize_src_path(self,main_folder):\n",
        "        self.train_doc = np.random.permutation(open(main_folder + '/' + 'train.csv').readlines())\n",
        "        self.val_doc = np.random.permutation(open(main_folder + '/' + 'val.csv').readlines())\n",
        "        self.train_path = main_folder + '/' + 'train'\n",
        "        self.val_path =  main_folder + '/' + 'val'\n",
        "        self.num_train_sequences = len(self.train_doc)\n",
        "        self.num_val_sequences = len(self.val_doc)\n",
        "        \n",
        "    def initialize_image_properties(self,image_height=100,image_width=100):\n",
        "        self.image_height=image_height\n",
        "        self.image_width=image_width\n",
        "        self.channels=3\n",
        "        self.num_classes=5\n",
        "        self.total_frames=30\n",
        "          \n",
        "    def initialize_hyperparams(self,frames_to_sample=30,batch_size=40,num_epochs=20):\n",
        "        self.frames_to_sample=frames_to_sample\n",
        "        self.batch_size=batch_size\n",
        "        self.num_epochs=num_epochs\n",
        "        \n",
        "        \n",
        "    def generator(self,source_path, folder_list, augment=False):\n",
        "        img_idx = np.round(np.linspace(0,self.total_frames-1,self.frames_to_sample)).astype(int)\n",
        "        batch_size=self.batch_size\n",
        "        while True:\n",
        "            t = np.random.permutation(folder_list)\n",
        "            num_batches = len(t)//batch_size\n",
        "        \n",
        "            for batch in range(num_batches): \n",
        "                batch_data, batch_labels= self.one_batch_data(source_path,t,batch,batch_size,img_idx,augment)\n",
        "                yield batch_data, batch_labels \n",
        "\n",
        "            remaining_seq=len(t)%batch_size\n",
        "        \n",
        "            if (remaining_seq != 0):\n",
        "                batch_data, batch_labels= self.one_batch_data(source_path,t,num_batches,batch_size,img_idx,augment,remaining_seq)\n",
        "                yield batch_data, batch_labels \n",
        "    \n",
        "    \n",
        "    def one_batch_data(self,source_path,t,batch,batch_size,img_idx,augment,remaining_seq=0):\n",
        "    \n",
        "        seq_len = remaining_seq if remaining_seq else batch_size\n",
        "    \n",
        "        batch_data = np.zeros((seq_len,len(img_idx),self.image_height,self.image_width,self.channels)) \n",
        "        batch_labels = np.zeros((seq_len,self.num_classes)) \n",
        "    \n",
        "        if (augment): batch_data_aug = np.zeros((seq_len,len(img_idx),self.image_height,self.image_width,self.channels))\n",
        "\n",
        "        \n",
        "        for folder in range(seq_len): \n",
        "            imgs = os.listdir(source_path+'/'+ t[folder + (batch*batch_size)].split(';')[0]) \n",
        "            for idx,item in enumerate(img_idx): \n",
        "                image = imageio.imread(source_path+'/'+ t[folder + (batch*batch_size)].strip().split(';')[0]+'/'+imgs[item]).astype(np.float32)\n",
        "                image_resized=transform.resize(image,(self.image_height,self.image_width,3))\n",
        "            \n",
        "\n",
        "                batch_data[folder,idx,:,:,0] = (image_resized[:,:,0])/255\n",
        "                batch_data[folder,idx,:,:,1] = (image_resized[:,:,1])/255\n",
        "                batch_data[folder,idx,:,:,2] = (image_resized[:,:,2])/255\n",
        "            \n",
        "                if (augment):\n",
        "                    shifted = cv2.warpAffine(image, \n",
        "                                             np.float32([[1, 0, np.random.randint(-30,30)],[0, 1, np.random.randint(-30,30)]]), \n",
        "                                            (image.shape[1], image.shape[0]))\n",
        "                    \n",
        "                    gray = cv2.cvtColor(shifted,cv2.COLOR_BGR2GRAY)\n",
        "\n",
        "                    x0, y0 = np.argwhere(gray > 0).min(axis=0)\n",
        "                    x1, y1 = np.argwhere(gray > 0).max(axis=0) \n",
        "                    \n",
        "                    cropped=shifted[x0:x1,y0:y1,:]\n",
        "                    \n",
        "                    image_resized=imresize(cropped,(self.image_height,self.image_width,3))\n",
        "            \n",
        "                    batch_data_aug[folder,idx,:,:,0] = (image_resized[:,:,0])/255\n",
        "                    batch_data_aug[folder,idx,:,:,1] = (image_resized[:,:,1])/255\n",
        "                    batch_data_aug[folder,idx,:,:,2] = (image_resized[:,:,2])/255\n",
        "                \n",
        "            \n",
        "            batch_labels[folder, int(t[folder + (batch*batch_size)].strip().split(';')[2])] = 1\n",
        "            \n",
        "    \n",
        "        if (augment):\n",
        "            batch_data=np.concatenate([batch_data,batch_data_aug])\n",
        "            batch_labels=np.concatenate([batch_labels,batch_labels])\n",
        "\n",
        "        \n",
        "        return(batch_data,batch_labels)\n",
        "    \n",
        "    \n",
        "    def train_model(self, model, augment_data=False):\n",
        "        train_generator = self.generator(self.train_path, self.train_doc,augment=augment_data)\n",
        "        val_generator = self.generator(self.val_path, self.val_doc)\n",
        "\n",
        "        model_name = 'model_init' + '_' + str(datetime.datetime.now()).replace(' ','').replace(':','_') + '/'\n",
        "    \n",
        "        if not os.path.exists(model_name):\n",
        "            os.mkdir(model_name)\n",
        "        \n",
        "        filepath = model_name + 'model-{epoch:05d}-{loss:.5f}-{categorical_accuracy:.5f}-{val_loss:.5f}-{val_categorical_accuracy:.5f}.h5'\n",
        "\n",
        "        checkpoint = ModelCheckpoint(filepath, monitor='val_loss', verbose=1, save_best_only=False, save_weights_only=False, mode='auto', period=1)\n",
        "        LR = ReduceLROnPlateau(monitor='val_loss', factor=0.2, verbose=1, patience=4)\n",
        "        callbacks_list = [checkpoint, LR]\n",
        "\n",
        "        if (self.num_train_sequences%self.batch_size) == 0:\n",
        "            steps_per_epoch = int(self.num_train_sequences/self.batch_size)\n",
        "        else:\n",
        "            steps_per_epoch = (self.num_train_sequences//self.batch_size) + 1\n",
        "\n",
        "        if (self.num_val_sequences%self.batch_size) == 0:\n",
        "            validation_steps = int(self.num_val_sequences/self.batch_size)\n",
        "        else:\n",
        "            validation_steps = (self.num_val_sequences//self.batch_size) + 1\n",
        "    \n",
        "        history=model.fit(train_generator, steps_per_epoch=steps_per_epoch, epochs=self.num_epochs, verbose=1, \n",
        "                            callbacks=callbacks_list, validation_data=val_generator, \n",
        "                            validation_steps=validation_steps, class_weight=None, workers=1, initial_epoch=0)\n",
        "        return history\n",
        "\n",
        "        \n",
        "    @abstractmethod\n",
        "    def define_model(self):\n",
        "        pass"
      ],
      "execution_count": 35,
      "outputs": []
    },
    {
      "cell_type": "markdown",
      "metadata": {
        "id": "yi0H8N1mS2Wf"
      },
      "source": [
        "## Model\n",
        "Here you make the model using different functionalities that Keras provides. Remember to use `Conv3D` and `MaxPooling3D` and not `Conv2D` and `Maxpooling2D` for a 3D convolution model. You would want to use `TimeDistributed` while building a Conv2D + RNN model. Also remember that the last layer is the softmax. Design the network in such a way that the model is able to give good accuracy on the least number of parameters so that it can fit in the memory of the webcam."
      ]
    },
    {
      "cell_type": "markdown",
      "metadata": {
        "id": "ZN0BwyNTS2Wi"
      },
      "source": [
        "## Model1"
      ]
    },
    {
      "cell_type": "code",
      "metadata": {
        "jupyter": {
          "outputs_hidden": true
        },
        "id": "Z-IfH9h6S2Wj"
      },
      "source": [
        "class Model1Conv3D(BuildModel):\n",
        "    \n",
        "    def define_model(self):\n",
        "\n",
        "        model = Sequential()\n",
        "        model.add(Conv3D(16, (3, 3, 3), padding='same',\n",
        "                 input_shape=(self.frames_to_sample,self.image_height,self.image_width,self.channels)))\n",
        "        model.add(Activation('relu'))\n",
        "        model.add(BatchNormalization())\n",
        "        model.add(MaxPooling3D(pool_size=(2, 2, 2)))\n",
        "\n",
        "        model.add(Conv3D(32, (2, 2, 2), padding='same'))\n",
        "        model.add(Activation('relu'))\n",
        "        model.add(BatchNormalization())\n",
        "        model.add(MaxPooling3D(pool_size=(2, 2, 2)))\n",
        "\n",
        "        model.add(Conv3D(64, (2, 2, 2), padding='same'))\n",
        "        model.add(Activation('relu'))\n",
        "        model.add(BatchNormalization())\n",
        "        model.add(MaxPooling3D(pool_size=(2, 2, 2)))\n",
        "\n",
        "        model.add(Conv3D(128, (2, 2, 2), padding='same'))\n",
        "        model.add(Activation('relu'))\n",
        "        model.add(BatchNormalization())\n",
        "        model.add(MaxPooling3D(pool_size=(2, 2, 2)))\n",
        "\n",
        "        model.add(Flatten())\n",
        "        model.add(Dense(128,activation='relu'))\n",
        "        model.add(BatchNormalization())\n",
        "        model.add(Dropout(0.5))\n",
        "\n",
        "        model.add(Dense(64,activation='relu'))\n",
        "        model.add(BatchNormalization())\n",
        "        model.add(Dropout(0.25))\n",
        "\n",
        "\n",
        "        model.add(Dense(self.num_classes,activation='softmax'))\n",
        "\n",
        "        optimiser = optimizers.Adam()\n",
        "        #optimiser = 'sgd'\n",
        "        model.compile(optimizer=optimiser, loss='categorical_crossentropy', metrics=['categorical_accuracy'])\n",
        "        return model"
      ],
      "execution_count": null,
      "outputs": []
    },
    {
      "cell_type": "code",
      "metadata": {
        "scrolled": true,
        "id": "n7DULuKeS2Wj",
        "outputId": "47e8079b-0183-4883-e359-5fa7bc98d27a"
      },
      "source": [
        "Conv3D1=Model1Conv3D()\n",
        "Conv3D1.initialize_src_path(main_folder)\n",
        "Conv3D1.initialize_image_properties(image_height=160,image_width=160)\n",
        "Conv3D1.initialize_hyperparams(frames_to_sample=30,batch_size=30,num_epochs=1)\n",
        "Conv3D1_model=Conv3D1.define_model()\n",
        "Conv3D1_model.summary()"
      ],
      "execution_count": null,
      "outputs": [
        {
          "output_type": "stream",
          "text": [
            "_________________________________________________________________\n",
            "Layer (type)                 Output Shape              Param #   \n",
            "=================================================================\n",
            "conv3d_1 (Conv3D)            (None, 30, 160, 160, 16)  1312      \n",
            "_________________________________________________________________\n",
            "activation_1 (Activation)    (None, 30, 160, 160, 16)  0         \n",
            "_________________________________________________________________\n",
            "batch_normalization_1 (Batch (None, 30, 160, 160, 16)  64        \n",
            "_________________________________________________________________\n",
            "max_pooling3d_1 (MaxPooling3 (None, 15, 80, 80, 16)    0         \n",
            "_________________________________________________________________\n",
            "conv3d_2 (Conv3D)            (None, 15, 80, 80, 32)    4128      \n",
            "_________________________________________________________________\n",
            "activation_2 (Activation)    (None, 15, 80, 80, 32)    0         \n",
            "_________________________________________________________________\n",
            "batch_normalization_2 (Batch (None, 15, 80, 80, 32)    128       \n",
            "_________________________________________________________________\n",
            "max_pooling3d_2 (MaxPooling3 (None, 7, 40, 40, 32)     0         \n",
            "_________________________________________________________________\n",
            "conv3d_3 (Conv3D)            (None, 7, 40, 40, 64)     16448     \n",
            "_________________________________________________________________\n",
            "activation_3 (Activation)    (None, 7, 40, 40, 64)     0         \n",
            "_________________________________________________________________\n",
            "batch_normalization_3 (Batch (None, 7, 40, 40, 64)     256       \n",
            "_________________________________________________________________\n",
            "max_pooling3d_3 (MaxPooling3 (None, 3, 20, 20, 64)     0         \n",
            "_________________________________________________________________\n",
            "conv3d_4 (Conv3D)            (None, 3, 20, 20, 128)    65664     \n",
            "_________________________________________________________________\n",
            "activation_4 (Activation)    (None, 3, 20, 20, 128)    0         \n",
            "_________________________________________________________________\n",
            "batch_normalization_4 (Batch (None, 3, 20, 20, 128)    512       \n",
            "_________________________________________________________________\n",
            "max_pooling3d_4 (MaxPooling3 (None, 1, 10, 10, 128)    0         \n",
            "_________________________________________________________________\n",
            "flatten_1 (Flatten)          (None, 12800)             0         \n",
            "_________________________________________________________________\n",
            "dense_1 (Dense)              (None, 128)               1638528   \n",
            "_________________________________________________________________\n",
            "batch_normalization_5 (Batch (None, 128)               512       \n",
            "_________________________________________________________________\n",
            "dropout_1 (Dropout)          (None, 128)               0         \n",
            "_________________________________________________________________\n",
            "dense_2 (Dense)              (None, 64)                8256      \n",
            "_________________________________________________________________\n",
            "batch_normalization_6 (Batch (None, 64)                256       \n",
            "_________________________________________________________________\n",
            "dropout_2 (Dropout)          (None, 64)                0         \n",
            "_________________________________________________________________\n",
            "dense_3 (Dense)              (None, 5)                 325       \n",
            "=================================================================\n",
            "Total params: 1,736,389\n",
            "Trainable params: 1,735,525\n",
            "Non-trainable params: 864\n",
            "_________________________________________________________________\n"
          ],
          "name": "stdout"
        }
      ]
    },
    {
      "cell_type": "code",
      "metadata": {
        "jupyter": {
          "outputs_hidden": true
        },
        "id": "smqhxRmIS2Wk",
        "outputId": "89831aff-6a72-47d5-dfc1-95b101e8890f"
      },
      "source": [
        "Conv3D1.train_model(Conv3D1_model)"
      ],
      "execution_count": null,
      "outputs": [
        {
          "output_type": "stream",
          "text": [
            "Epoch 1/1\n",
            "23/23 [==============================] - 204s 9s/step - loss: 1.5136 - categorical_accuracy: 0.4649 - val_loss: 0.8331 - val_categorical_accuracy: 0.6300\n",
            "\n",
            "Epoch 00001: saving model to model_init_2020-08-1616_16_30.688010/model-00001-1.53126-0.45701-0.83308-0.63000.h5\n"
          ],
          "name": "stdout"
        },
        {
          "output_type": "execute_result",
          "data": {
            "text/plain": [
              "<keras.callbacks.History at 0x7f93e7e9a1d0>"
            ]
          },
          "metadata": {
            "tags": []
          },
          "execution_count": 9
        }
      ]
    },
    {
      "cell_type": "markdown",
      "metadata": {
        "id": "c_Bu-NuJS2Wl"
      },
      "source": [
        "### Got below memory exhaust error with image resolution of 160x160, 30 frames and a batch_size of 40\n",
        "ResourceExhaustedError: OOM when allocating tensor with shape[40,16,30,160,160] and type float on /job:localhost/replica:0/task:0/device:GPU:0 by allocator GPU_0_bfc"
      ]
    },
    {
      "cell_type": "code",
      "metadata": {
        "id": "uFPVigY6S2Wl",
        "outputId": "b2a4e126-3b2f-48c6-d301-10351213bd10"
      },
      "source": [
        "print(\"Memory util is {} Gigs\". format(getsizeof(np.zeros((40,16,30,160,160)))/(1024*1024*1024)))"
      ],
      "execution_count": null,
      "outputs": [
        {
          "output_type": "stream",
          "text": [
            "Memory util is 3.662109524011612 Gigs\n"
          ],
          "name": "stdout"
        }
      ]
    },
    {
      "cell_type": "markdown",
      "metadata": {
        "id": "7HY4Jap5S2Wm"
      },
      "source": [
        "\n",
        "##### So, we will look for variations in other features"
      ]
    },
    {
      "cell_type": "markdown",
      "metadata": {
        "id": "3jo0wDkWS2Wm"
      },
      "source": [
        "##### Below are the experiments to see how training time is affected by image resolution, number of images in sequence and batch size"
      ]
    },
    {
      "cell_type": "code",
      "metadata": {
        "id": "9tkuE7dTS2Wm",
        "outputId": "3f723fc3-caf1-4cea-9040-63416f6eba91"
      },
      "source": [
        "Conv3D1=Model1Conv3D()\n",
        "Conv3D1.initialize_src_path(main_folder)\n",
        "Conv3D1.initialize_image_properties(image_height=160,image_width=160)\n",
        "Conv3D1.initialize_hyperparams(frames_to_sample=16,batch_size=30,num_epochs=3)\n",
        "Conv3D1_model=Conv3D1.define_model()\n",
        "print(\"Total Params:\", Conv3D1_model.count_params())\n",
        "Conv3D1.train_model(Conv3D1_model)"
      ],
      "execution_count": null,
      "outputs": [
        {
          "output_type": "stream",
          "text": [
            "Total Params: 1736389\n",
            "Epoch 1/3\n",
            "23/23 [==============================] - 53s 2s/step - loss: 1.6277 - categorical_accuracy: 0.3885 - val_loss: 3.9580 - val_categorical_accuracy: 0.2500\n",
            "\n",
            "Epoch 00001: saving model to model_init_2020-08-1617_01_45.929110/model-00001-1.64183-0.39065-3.95799-0.25000.h5\n",
            "Epoch 2/3\n",
            "23/23 [==============================] - 43s 2s/step - loss: 1.1354 - categorical_accuracy: 0.5819 - val_loss: 1.6435 - val_categorical_accuracy: 0.4100\n",
            "\n",
            "Epoch 00002: saving model to model_init_2020-08-1617_01_45.929110/model-00002-1.17624-0.56561-1.64351-0.41000.h5\n",
            "Epoch 3/3\n",
            "23/23 [==============================] - 45s 2s/step - loss: 0.9947 - categorical_accuracy: 0.6193 - val_loss: 1.0035 - val_categorical_accuracy: 0.6700\n",
            "\n",
            "Epoch 00003: saving model to model_init_2020-08-1617_01_45.929110/model-00003-0.94799-0.63047-1.00350-0.67000.h5\n"
          ],
          "name": "stdout"
        },
        {
          "output_type": "execute_result",
          "data": {
            "text/plain": [
              "<keras.callbacks.History at 0x7f93c41282b0>"
            ]
          },
          "metadata": {
            "tags": []
          },
          "execution_count": 11
        }
      ]
    },
    {
      "cell_type": "code",
      "metadata": {
        "id": "rk5cJ7oNS2Wn",
        "outputId": "442d6d3a-04cd-4ca0-d61d-e50451d7d8cc"
      },
      "source": [
        "Conv3D1=Model1Conv3D()\n",
        "Conv3D1.initialize_src_path(main_folder)\n",
        "Conv3D1.initialize_image_properties(image_height=100,image_width=100)\n",
        "Conv3D1.initialize_hyperparams(frames_to_sample=30,batch_size=30,num_epochs=2)\n",
        "Conv3D1_model=Conv3D1.define_model()\n",
        "print(\"Total Params:\", Conv3D1_model.count_params())\n",
        "Conv3D1.train_model(Conv3D1_model)"
      ],
      "execution_count": null,
      "outputs": [
        {
          "output_type": "stream",
          "text": [
            "Total Params: 687813\n",
            "Epoch 1/2\n",
            "23/23 [==============================] - 79s 3s/step - loss: 1.6746 - categorical_accuracy: 0.3740 - val_loss: 1.7242 - val_categorical_accuracy: 0.4900\n",
            "\n",
            "Epoch 00001: saving model to model_init_2020-08-1617_04_30.486189/model-00001-1.67093-0.37557-1.72425-0.49000.h5\n",
            "Epoch 2/2\n",
            "23/23 [==============================] - 69s 3s/step - loss: 1.1362 - categorical_accuracy: 0.5264 - val_loss: 1.3776 - val_categorical_accuracy: 0.4300\n",
            "\n",
            "Epoch 00002: saving model to model_init_2020-08-1617_04_30.486189/model-00002-1.12311-0.53394-1.37759-0.43000.h5\n"
          ],
          "name": "stdout"
        },
        {
          "output_type": "execute_result",
          "data": {
            "text/plain": [
              "<keras.callbacks.History at 0x7f93be45fd68>"
            ]
          },
          "metadata": {
            "tags": []
          },
          "execution_count": 12
        }
      ]
    },
    {
      "cell_type": "code",
      "metadata": {
        "id": "hK1pm-0sS2Wn",
        "outputId": "b528a518-148c-4133-d54e-59db307aec51"
      },
      "source": [
        "Conv3D1=Model1Conv3D()\n",
        "Conv3D1.initialize_src_path(main_folder)\n",
        "Conv3D1.initialize_image_properties(image_height=100,image_width=100)\n",
        "Conv3D1.initialize_hyperparams(frames_to_sample=30,batch_size=60,num_epochs=2)\n",
        "Conv3D1_model=Conv3D1.define_model()\n",
        "print(\"Total Params:\", Conv3D1_model.count_params())\n",
        "Conv3D1.train_model(Conv3D1_model)"
      ],
      "execution_count": null,
      "outputs": [
        {
          "output_type": "stream",
          "text": [
            "Total Params: 687813\n",
            "Epoch 1/2\n",
            "12/12 [==============================] - 85s 7s/step - loss: 1.7575 - categorical_accuracy: 0.3912 - val_loss: 1.5500 - val_categorical_accuracy: 0.5100\n",
            "\n",
            "Epoch 00001: saving model to model_init_2020-08-1617_08_15.254703/model-00001-1.77822-0.36953-1.55002-0.51000.h5\n",
            "Epoch 2/2\n",
            "12/12 [==============================] - 69s 6s/step - loss: 1.2420 - categorical_accuracy: 0.5109 - val_loss: 1.6054 - val_categorical_accuracy: 0.5200\n",
            "\n",
            "Epoch 00002: saving model to model_init_2020-08-1617_08_15.254703/model-00002-1.21911-0.52489-1.60541-0.52000.h5\n"
          ],
          "name": "stdout"
        },
        {
          "output_type": "execute_result",
          "data": {
            "text/plain": [
              "<keras.callbacks.History at 0x7f93bcf3cac8>"
            ]
          },
          "metadata": {
            "tags": []
          },
          "execution_count": 13
        }
      ]
    },
    {
      "cell_type": "code",
      "metadata": {
        "id": "5QFO8L08S2Wo",
        "outputId": "0b38dece-7575-47e5-9210-196ae3a7addd"
      },
      "source": [
        "Conv3D1=Model1Conv3D()\n",
        "Conv3D1.initialize_src_path(main_folder)\n",
        "Conv3D1.initialize_image_properties(image_height=100,image_width=100)\n",
        "Conv3D1.initialize_hyperparams(frames_to_sample=16,batch_size=60,num_epochs=2)\n",
        "Conv3D1_model=Conv3D1.define_model()\n",
        "print(\"Total Params:\", Conv3D1_model.count_params())\n",
        "Conv3D1.train_model(Conv3D1_model)"
      ],
      "execution_count": null,
      "outputs": [
        {
          "output_type": "stream",
          "text": [
            "Total Params: 687813\n",
            "Epoch 1/2\n",
            "12/12 [==============================] - 49s 4s/step - loss: 1.7386 - categorical_accuracy: 0.3683 - val_loss: 1.5293 - val_categorical_accuracy: 0.4000\n",
            "\n",
            "Epoch 00001: saving model to model_init_2020-08-1617_11_20.715262/model-00001-1.72374-0.37104-1.52934-0.40000.h5\n",
            "Epoch 2/2\n",
            "12/12 [==============================] - 36s 3s/step - loss: 1.0320 - categorical_accuracy: 0.6065 - val_loss: 0.9372 - val_categorical_accuracy: 0.6500\n",
            "\n",
            "Epoch 00002: saving model to model_init_2020-08-1617_11_20.715262/model-00002-1.06453-0.60181-0.93719-0.65000.h5\n"
          ],
          "name": "stdout"
        },
        {
          "output_type": "execute_result",
          "data": {
            "text/plain": [
              "<keras.callbacks.History at 0x7f93bb4c3c88>"
            ]
          },
          "metadata": {
            "tags": []
          },
          "execution_count": 14
        }
      ]
    },
    {
      "cell_type": "code",
      "metadata": {
        "id": "2G6WjUQMS2Wo",
        "outputId": "15940a3c-9092-4299-cfd1-818542c53da1"
      },
      "source": [
        "Conv3D1=Model1Conv3D()\n",
        "Conv3D1.initialize_src_path(main_folder)\n",
        "Conv3D1.initialize_image_properties(image_height=100,image_width=100)\n",
        "Conv3D1.initialize_hyperparams(frames_to_sample=16,batch_size=80,num_epochs=2)\n",
        "Conv3D1_model=Conv3D1.define_model()\n",
        "print(\"Total Params:\", Conv3D1_model.count_params())\n",
        "Conv3D1.train_model(Conv3D1_model)"
      ],
      "execution_count": null,
      "outputs": [
        {
          "output_type": "stream",
          "text": [
            "Total Params: 687813\n",
            "Epoch 1/2\n",
            "9/9 [==============================] - 48s 5s/step - loss: 1.7574 - categorical_accuracy: 0.3451 - val_loss: 1.9968 - val_categorical_accuracy: 0.3100\n",
            "\n",
            "Epoch 00001: saving model to model_init_2020-08-1617_13_10.165483/model-00001-1.77228-0.33484-1.99684-0.31000.h5\n",
            "Epoch 2/2\n",
            "9/9 [==============================] - 35s 4s/step - loss: 1.2499 - categorical_accuracy: 0.5087 - val_loss: 3.1389 - val_categorical_accuracy: 0.2800\n",
            "\n",
            "Epoch 00002: saving model to model_init_2020-08-1617_13_10.165483/model-00002-1.23484-0.51433-3.13887-0.28000.h5\n"
          ],
          "name": "stdout"
        },
        {
          "output_type": "execute_result",
          "data": {
            "text/plain": [
              "<keras.callbacks.History at 0x7f93ba02bda0>"
            ]
          },
          "metadata": {
            "tags": []
          },
          "execution_count": 15
        }
      ]
    },
    {
      "cell_type": "code",
      "metadata": {
        "id": "LW4uzAdNS2Wo",
        "outputId": "c31d9359-59e4-4e3f-dc51-e68ef9bb600d"
      },
      "source": [
        "Conv3D1=Model1Conv3D()\n",
        "Conv3D1.initialize_src_path(main_folder)\n",
        "Conv3D1.initialize_image_properties(image_height=160,image_width=160)\n",
        "Conv3D1.initialize_hyperparams(frames_to_sample=30,batch_size=15,num_epochs=2)\n",
        "Conv3D1_model=Conv3D1.define_model()\n",
        "print(\"Total Params:\", Conv3D1_model.count_params())\n",
        "Conv3D1.train_model(Conv3D1_model)"
      ],
      "execution_count": null,
      "outputs": [
        {
          "output_type": "stream",
          "text": [
            "Total Params: 1736389\n",
            "Epoch 1/2\n",
            "45/45 [==============================] - 92s 2s/step - loss: 1.6831 - categorical_accuracy: 0.4046 - val_loss: 1.3615 - val_categorical_accuracy: 0.5600\n",
            "\n",
            "Epoch 00001: saving model to model_init_2020-08-1617_15_08.949975/model-00001-1.65831-0.41176-1.36150-0.56000.h5\n",
            "Epoch 2/2\n",
            "45/45 [==============================] - 82s 2s/step - loss: 1.2130 - categorical_accuracy: 0.5511 - val_loss: 1.1875 - val_categorical_accuracy: 0.5200\n",
            "\n",
            "Epoch 00002: saving model to model_init_2020-08-1617_15_08.949975/model-00002-1.20331-0.54902-1.18746-0.52000.h5\n"
          ],
          "name": "stdout"
        },
        {
          "output_type": "execute_result",
          "data": {
            "text/plain": [
              "<keras.callbacks.History at 0x7f93b8623e10>"
            ]
          },
          "metadata": {
            "tags": []
          },
          "execution_count": 16
        }
      ]
    },
    {
      "cell_type": "code",
      "metadata": {
        "id": "26Uv5XmbS2Wo",
        "outputId": "dce33649-2fe0-4602-8b4a-5cbd8f82646a"
      },
      "source": [
        "Conv3D1=Model1Conv3D()\n",
        "Conv3D1.initialize_src_path(main_folder)\n",
        "Conv3D1.initialize_image_properties(image_height=160,image_width=160)\n",
        "Conv3D1.initialize_hyperparams(frames_to_sample=16,batch_size=15,num_epochs=2)\n",
        "Conv3D1_model=Conv3D1.define_model()\n",
        "print(\"Total Params:\", Conv3D1_model.count_params())\n",
        "Conv3D1.train_model(Conv3D1_model)"
      ],
      "execution_count": null,
      "outputs": [
        {
          "output_type": "stream",
          "text": [
            "Total Params: 1736389\n",
            "Epoch 1/2\n",
            "45/45 [==============================] - 50s 1s/step - loss: 1.5897 - categorical_accuracy: 0.4000 - val_loss: 1.0868 - val_categorical_accuracy: 0.5400\n",
            "\n",
            "Epoch 00001: saving model to model_init_2020-08-1617_18_17.993001/model-00001-1.59139-0.40121-1.08683-0.54000.h5\n",
            "Epoch 2/2\n",
            "45/45 [==============================] - 43s 950ms/step - loss: 1.1454 - categorical_accuracy: 0.5349 - val_loss: 0.9778 - val_categorical_accuracy: 0.5800\n",
            "\n",
            "Epoch 00002: saving model to model_init_2020-08-1617_18_17.993001/model-00002-1.12281-0.53846-0.97781-0.58000.h5\n"
          ],
          "name": "stdout"
        },
        {
          "output_type": "execute_result",
          "data": {
            "text/plain": [
              "<keras.callbacks.History at 0x7f93b6c8ee48>"
            ]
          },
          "metadata": {
            "tags": []
          },
          "execution_count": 17
        }
      ]
    },
    {
      "cell_type": "code",
      "metadata": {
        "id": "bMJWswflS2Wp",
        "outputId": "ad1dbb50-e114-469a-bd03-c31b989de441"
      },
      "source": [
        "Conv3D1=Model1Conv3D()\n",
        "Conv3D1.initialize_src_path(main_folder)\n",
        "Conv3D1.initialize_image_properties(image_height=100,image_width=100)\n",
        "Conv3D1.initialize_hyperparams(frames_to_sample=16,batch_size=15,num_epochs=2)\n",
        "Conv3D1_model=Conv3D1.define_model()\n",
        "print(\"Total Params:\", Conv3D1_model.count_params())\n",
        "Conv3D1.train_model(Conv3D1_model)"
      ],
      "execution_count": null,
      "outputs": [
        {
          "output_type": "stream",
          "text": [
            "Total Params: 687813\n",
            "Epoch 1/2\n",
            "45/45 [==============================] - 41s 919ms/step - loss: 1.6723 - categorical_accuracy: 0.4146 - val_loss: 1.9720 - val_categorical_accuracy: 0.4000\n",
            "\n",
            "Epoch 00001: saving model to model_init_2020-08-1617_20_03.766322/model-00001-1.69347-0.40422-1.97202-0.40000.h5\n",
            "Epoch 2/2\n",
            "45/45 [==============================] - 32s 719ms/step - loss: 1.2445 - categorical_accuracy: 0.5333 - val_loss: 1.2650 - val_categorical_accuracy: 0.5900\n",
            "\n",
            "Epoch 00002: saving model to model_init_2020-08-1617_20_03.766322/model-00002-1.25375-0.53092-1.26502-0.59000.h5\n"
          ],
          "name": "stdout"
        },
        {
          "output_type": "execute_result",
          "data": {
            "text/plain": [
              "<keras.callbacks.History at 0x7f93b5455eb8>"
            ]
          },
          "metadata": {
            "tags": []
          },
          "execution_count": 18
        }
      ]
    },
    {
      "cell_type": "code",
      "metadata": {
        "id": "K-1gW8bdS2Wp",
        "outputId": "f80d5ef6-8e62-43ce-ca6e-41701c10403f"
      },
      "source": [
        "Conv3D1=Model1Conv3D()\n",
        "Conv3D1.initialize_src_path(main_folder)\n",
        "Conv3D1.initialize_image_properties(image_height=100,image_width=100)\n",
        "Conv3D1.initialize_hyperparams(frames_to_sample=16,batch_size=10,num_epochs=2)\n",
        "Conv3D1_model=Conv3D1.define_model()\n",
        "print(\"Total Params:\", Conv3D1_model.count_params())\n",
        "Conv3D1.train_model(Conv3D1_model)"
      ],
      "execution_count": null,
      "outputs": [
        {
          "output_type": "stream",
          "text": [
            "Total Params: 687813\n",
            "Epoch 1/2\n",
            "67/67 [==============================] - 41s 610ms/step - loss: 1.6569 - categorical_accuracy: 0.3762 - val_loss: 2.4628 - val_categorical_accuracy: 0.3200\n",
            "\n",
            "Epoch 00001: saving model to model_init_2020-08-1617_25_16.764318/model-00001-1.65110-0.38009-2.46278-0.32000.h5\n",
            "Epoch 2/2\n",
            "67/67 [==============================] - 33s 492ms/step - loss: 1.1996 - categorical_accuracy: 0.5040 - val_loss: 1.0205 - val_categorical_accuracy: 0.6500\n",
            "\n",
            "Epoch 00002: saving model to model_init_2020-08-1617_25_16.764318/model-00002-1.20257-0.50226-1.02054-0.65000.h5\n"
          ],
          "name": "stdout"
        },
        {
          "output_type": "execute_result",
          "data": {
            "text/plain": [
              "<keras.callbacks.History at 0x7f93b40f17f0>"
            ]
          },
          "metadata": {
            "tags": []
          },
          "execution_count": 19
        }
      ]
    },
    {
      "cell_type": "markdown",
      "metadata": {
        "id": "Eo3wZxRpS2Wq"
      },
      "source": [
        "##### It is evident from above experiments image resolution and number of frames in sequence have more impact on training time than batch_size"
      ]
    },
    {
      "cell_type": "markdown",
      "metadata": {
        "id": "1s12437qS2Wq"
      },
      "source": [
        "##### Here experimentations are carried with batch size fixed around 15-40 and changing the resolution and number of image per sequence based on the device memory constraints ."
      ]
    },
    {
      "cell_type": "markdown",
      "metadata": {
        "id": "krDOldVrS2Wq"
      },
      "source": [
        "# Model 1 - Base Model - Batch Size 40 Frame 160*160 and Epoch 15"
      ]
    },
    {
      "cell_type": "code",
      "metadata": {
        "jupyter": {
          "outputs_hidden": true
        },
        "id": "06S54CcKS2Wq"
      },
      "source": [
        "class ModelConv3D1(BuildModel):\n",
        "    \n",
        "    def define_model(self,filtersize=(3,3,3),dense_neurons=64,dropout=0.25):\n",
        "\n",
        "        model = Sequential()\n",
        "        model.add(Conv3D(16, filtersize, padding='same',\n",
        "                 input_shape=(self.frames_to_sample,self.image_height,self.image_width,self.channels)))\n",
        "        model.add(Activation('relu'))\n",
        "        model.add(BatchNormalization())\n",
        "        model.add(MaxPooling3D(pool_size=(2, 2, 2)))\n",
        "\n",
        "        model.add(Conv3D(32, filtersize, padding='same'))\n",
        "        model.add(Activation('relu'))\n",
        "        model.add(BatchNormalization())\n",
        "        model.add(MaxPooling3D(pool_size=(2, 2, 2)))\n",
        "\n",
        "        model.add(Conv3D(64, filtersize, padding='same'))\n",
        "        model.add(Activation('relu'))\n",
        "        model.add(BatchNormalization())\n",
        "        model.add(MaxPooling3D(pool_size=(2, 2, 2)))\n",
        "\n",
        "        model.add(Conv3D(128, filtersize, padding='same'))\n",
        "        model.add(Activation('relu'))\n",
        "        model.add(BatchNormalization())\n",
        "        model.add(MaxPooling3D(pool_size=(2, 2, 2)))\n",
        "\n",
        "        model.add(Flatten())\n",
        "        model.add(Dense(dense_neurons,activation='relu'))\n",
        "        model.add(BatchNormalization())\n",
        "        model.add(Dropout(dropout))\n",
        "\n",
        "        model.add(Dense(dense_neurons,activation='relu'))\n",
        "        model.add(BatchNormalization())\n",
        "        model.add(Dropout(dropout))\n",
        "\n",
        "\n",
        "        model.add(Dense(self.num_classes,activation='softmax'))\n",
        "\n",
        "        optimiser = optimizers.Adam()\n",
        "        model.compile(optimizer=optimiser, loss='categorical_crossentropy', metrics=['categorical_accuracy'])\n",
        "        return model"
      ],
      "execution_count": 36,
      "outputs": []
    },
    {
      "cell_type": "code",
      "metadata": {
        "colab": {
          "base_uri": "https://localhost:8080/"
        },
        "id": "wnEqFN6IS2Wq",
        "outputId": "c256a59d-fe44-47d1-85ac-22f9c15a2629"
      },
      "source": [
        "Conv3D1=ModelConv3D1()\n",
        "Conv3D1.initialize_src_path(main_folder)\n",
        "Conv3D1.initialize_image_properties(image_height=160,image_width=160)\n",
        "Conv3D1.initialize_hyperparams(frames_to_sample=20,batch_size=40,num_epochs=15)\n",
        "Conv3D1_model=Conv3D1.define_model()\n",
        "Conv3D1_model.summary()"
      ],
      "execution_count": 37,
      "outputs": [
        {
          "output_type": "stream",
          "text": [
            "Model: \"sequential_4\"\n",
            "_________________________________________________________________\n",
            "Layer (type)                 Output Shape              Param #   \n",
            "=================================================================\n",
            "conv3d_16 (Conv3D)           (None, 20, 160, 160, 16)  1312      \n",
            "_________________________________________________________________\n",
            "activation_16 (Activation)   (None, 20, 160, 160, 16)  0         \n",
            "_________________________________________________________________\n",
            "batch_normalization_24 (Batc (None, 20, 160, 160, 16)  64        \n",
            "_________________________________________________________________\n",
            "max_pooling3d_16 (MaxPooling (None, 10, 80, 80, 16)    0         \n",
            "_________________________________________________________________\n",
            "conv3d_17 (Conv3D)           (None, 10, 80, 80, 32)    13856     \n",
            "_________________________________________________________________\n",
            "activation_17 (Activation)   (None, 10, 80, 80, 32)    0         \n",
            "_________________________________________________________________\n",
            "batch_normalization_25 (Batc (None, 10, 80, 80, 32)    128       \n",
            "_________________________________________________________________\n",
            "max_pooling3d_17 (MaxPooling (None, 5, 40, 40, 32)     0         \n",
            "_________________________________________________________________\n",
            "conv3d_18 (Conv3D)           (None, 5, 40, 40, 64)     55360     \n",
            "_________________________________________________________________\n",
            "activation_18 (Activation)   (None, 5, 40, 40, 64)     0         \n",
            "_________________________________________________________________\n",
            "batch_normalization_26 (Batc (None, 5, 40, 40, 64)     256       \n",
            "_________________________________________________________________\n",
            "max_pooling3d_18 (MaxPooling (None, 2, 20, 20, 64)     0         \n",
            "_________________________________________________________________\n",
            "conv3d_19 (Conv3D)           (None, 2, 20, 20, 128)    221312    \n",
            "_________________________________________________________________\n",
            "activation_19 (Activation)   (None, 2, 20, 20, 128)    0         \n",
            "_________________________________________________________________\n",
            "batch_normalization_27 (Batc (None, 2, 20, 20, 128)    512       \n",
            "_________________________________________________________________\n",
            "max_pooling3d_19 (MaxPooling (None, 1, 10, 10, 128)    0         \n",
            "_________________________________________________________________\n",
            "flatten_4 (Flatten)          (None, 12800)             0         \n",
            "_________________________________________________________________\n",
            "dense_12 (Dense)             (None, 64)                819264    \n",
            "_________________________________________________________________\n",
            "batch_normalization_28 (Batc (None, 64)                256       \n",
            "_________________________________________________________________\n",
            "dropout_8 (Dropout)          (None, 64)                0         \n",
            "_________________________________________________________________\n",
            "dense_13 (Dense)             (None, 64)                4160      \n",
            "_________________________________________________________________\n",
            "batch_normalization_29 (Batc (None, 64)                256       \n",
            "_________________________________________________________________\n",
            "dropout_9 (Dropout)          (None, 64)                0         \n",
            "_________________________________________________________________\n",
            "dense_14 (Dense)             (None, 5)                 325       \n",
            "=================================================================\n",
            "Total params: 1,117,061\n",
            "Trainable params: 1,116,325\n",
            "Non-trainable params: 736\n",
            "_________________________________________________________________\n"
          ],
          "name": "stdout"
        }
      ]
    },
    {
      "cell_type": "code",
      "metadata": {
        "colab": {
          "base_uri": "https://localhost:8080/"
        },
        "id": "iilLiLWvS2Wr",
        "outputId": "c86d91df-e25c-4355-f7d7-e87a3c27bfff"
      },
      "source": [
        "print(\"Total Params:\", Conv3D1_model.count_params())\n",
        "accuracy_check_model1 = Conv3D1.train_model(Conv3D1_model)"
      ],
      "execution_count": null,
      "outputs": [
        {
          "output_type": "stream",
          "text": [
            "Total Params: 1117061\n",
            "WARNING:tensorflow:`period` argument is deprecated. Please use `save_freq` to specify the frequency in number of batches seen.\n",
            "Epoch 1/15\n",
            "17/17 [==============================] - 200s 10s/step - loss: 1.6478 - categorical_accuracy: 0.4162 - val_loss: 1.5126 - val_categorical_accuracy: 0.3200\n",
            "\n",
            "Epoch 00001: saving model to model_init_2021-03-2715_47_06.872192/model-00001-1.46348-0.47662-1.51259-0.32000.h5\n",
            "Epoch 2/15\n",
            "17/17 [==============================] - 171s 11s/step - loss: 1.0338 - categorical_accuracy: 0.6020 - val_loss: 1.8714 - val_categorical_accuracy: 0.1400\n",
            "\n",
            "Epoch 00002: saving model to model_init_2021-03-2715_47_06.872192/model-00002-1.01156-0.61689-1.87144-0.14000.h5\n",
            "Epoch 3/15\n",
            "17/17 [==============================] - 163s 10s/step - loss: 0.7512 - categorical_accuracy: 0.7204 - val_loss: 2.1387 - val_categorical_accuracy: 0.2000\n",
            "\n",
            "Epoch 00003: saving model to model_init_2021-03-2715_47_06.872192/model-00003-0.72849-0.73152-2.13865-0.20000.h5\n",
            "Epoch 4/15\n",
            "17/17 [==============================] - 165s 10s/step - loss: 0.5655 - categorical_accuracy: 0.7930 - val_loss: 2.5154 - val_categorical_accuracy: 0.2100\n",
            "\n",
            "Epoch 00004: saving model to model_init_2021-03-2715_47_06.872192/model-00004-0.55270-0.79638-2.51541-0.21000.h5\n",
            "Epoch 5/15\n",
            "17/17 [==============================] - 166s 10s/step - loss: 0.4500 - categorical_accuracy: 0.8364 - val_loss: 2.9450 - val_categorical_accuracy: 0.1900\n",
            "\n",
            "Epoch 00005: saving model to model_init_2021-03-2715_47_06.872192/model-00005-0.44020-0.83560-2.94498-0.19000.h5\n",
            "\n",
            "Epoch 00005: ReduceLROnPlateau reducing learning rate to 0.00020000000949949026.\n",
            "Epoch 6/15\n",
            "17/17 [==============================] - 162s 10s/step - loss: 0.3470 - categorical_accuracy: 0.8873 - val_loss: 2.8417 - val_categorical_accuracy: 0.2300\n",
            "\n",
            "Epoch 00006: saving model to model_init_2021-03-2715_47_06.872192/model-00006-0.33766-0.89291-2.84170-0.23000.h5\n",
            "Epoch 7/15\n",
            "17/17 [==============================] - 167s 10s/step - loss: 0.2993 - categorical_accuracy: 0.8945 - val_loss: 3.0310 - val_categorical_accuracy: 0.2100\n",
            "\n",
            "Epoch 00007: saving model to model_init_2021-03-2715_47_06.872192/model-00007-0.29817-0.90196-3.03096-0.21000.h5\n",
            "Epoch 8/15\n",
            "17/17 [==============================] - 166s 10s/step - loss: 0.2536 - categorical_accuracy: 0.9214 - val_loss: 3.1302 - val_categorical_accuracy: 0.1800\n",
            "\n",
            "Epoch 00008: saving model to model_init_2021-03-2715_47_06.872192/model-00008-0.22850-0.93967-3.13022-0.18000.h5\n",
            "Epoch 9/15\n",
            "17/17 [==============================] - 163s 10s/step - loss: 0.2127 - categorical_accuracy: 0.9414 - val_loss: 3.4227 - val_categorical_accuracy: 0.1800\n",
            "\n",
            "Epoch 00009: saving model to model_init_2021-03-2715_47_06.872192/model-00009-0.21493-0.94118-3.42270-0.18000.h5\n",
            "\n",
            "Epoch 00009: ReduceLROnPlateau reducing learning rate to 4.0000001899898055e-05.\n",
            "Epoch 10/15\n",
            "17/17 [==============================] - 166s 10s/step - loss: 0.2070 - categorical_accuracy: 0.9331 - val_loss: 3.3351 - val_categorical_accuracy: 0.2100\n",
            "\n",
            "Epoch 00010: saving model to model_init_2021-03-2715_47_06.872192/model-00010-0.19629-0.94721-3.33512-0.21000.h5\n",
            "Epoch 11/15\n",
            "17/17 [==============================] - 167s 10s/step - loss: 0.1785 - categorical_accuracy: 0.9594 - val_loss: 3.0860 - val_categorical_accuracy: 0.2200\n",
            "\n",
            "Epoch 00011: saving model to model_init_2021-03-2715_47_06.872192/model-00011-0.16915-0.96682-3.08603-0.22000.h5\n",
            "Epoch 12/15\n",
            "17/17 [==============================] - 161s 10s/step - loss: 0.1649 - categorical_accuracy: 0.9719 - val_loss: 3.4947 - val_categorical_accuracy: 0.1800\n",
            "\n",
            "Epoch 00012: saving model to model_init_2021-03-2715_47_06.872192/model-00012-0.16860-0.96682-3.49467-0.18000.h5\n",
            "Epoch 13/15\n",
            "17/17 [==============================] - 165s 10s/step - loss: 0.1636 - categorical_accuracy: 0.9702 - val_loss: 3.4292 - val_categorical_accuracy: 0.2100\n",
            "\n",
            "Epoch 00013: saving model to model_init_2021-03-2715_47_06.872192/model-00013-0.16807-0.96983-3.42917-0.21000.h5\n",
            "\n",
            "Epoch 00013: ReduceLROnPlateau reducing learning rate to 8.000000525498762e-06.\n",
            "Epoch 14/15\n",
            "17/17 [==============================] - 165s 10s/step - loss: 0.1614 - categorical_accuracy: 0.9689 - val_loss: 3.3624 - val_categorical_accuracy: 0.2600\n",
            "\n",
            "Epoch 00014: saving model to model_init_2021-03-2715_47_06.872192/model-00014-0.17195-0.96531-3.36236-0.26000.h5\n",
            "Epoch 15/15\n",
            " 4/17 [======>.......................] - ETA: 1:45 - loss: 0.1431 - categorical_accuracy: 0.9802"
          ],
          "name": "stdout"
        }
      ]
    },
    {
      "cell_type": "code",
      "metadata": {
        "id": "0lks_jNnS2Wr",
        "outputId": "daae63ef-3db0-4836-c3f0-9842277b6aa9"
      },
      "source": [
        "plot(accuracy_check_model1)"
      ],
      "execution_count": null,
      "outputs": [
        {
          "output_type": "display_data",
          "data": {
            "image/png": "[encoded data removed]",
            "text/plain": [
              "<Figure size 1080x288 with 2 Axes>"
            ]
          },
          "metadata": {
            "tags": []
          }
        }
      ]
    },
    {
      "cell_type": "markdown",
      "metadata": {
        "id": "4eaBRCSUS2Wr"
      },
      "source": [
        "##### Model is clearly overfitting. So we need to do data augmentation"
      ]
    },
    {
      "cell_type": "markdown",
      "metadata": {
        "id": "2_-9xxP_S2Wr"
      },
      "source": [
        "# Model 2 - Augment Data , (3,3,3) filter & 160x160 image resolution"
      ]
    },
    {
      "cell_type": "code",
      "metadata": {
        "id": "ZjgTKO_yS2Ws",
        "outputId": "6faf4840-8b49-47a2-e049-7262bd17756d"
      },
      "source": [
        "Conv3D2=ModelConv3D1()\n",
        "Conv3D2.initialize_src_path(main_folder)\n",
        "Conv3D2.initialize_image_properties(image_height=160,image_width=160)\n",
        "Conv3D2.initialize_hyperparams(frames_to_sample=20,batch_size=20,num_epochs=25)\n",
        "Conv3D2_model=Conv3D2.define_model(dense_neurons=256,dropout=0.5)\n",
        "Conv3D2_model.summary()"
      ],
      "execution_count": null,
      "outputs": [
        {
          "output_type": "stream",
          "text": [
            "_________________________________________________________________\n",
            "Layer (type)                 Output Shape              Param #   \n",
            "=================================================================\n",
            "conv3d_45 (Conv3D)           (None, 20, 160, 160, 16)  1312      \n",
            "_________________________________________________________________\n",
            "activation_45 (Activation)   (None, 20, 160, 160, 16)  0         \n",
            "_________________________________________________________________\n",
            "batch_normalization_67 (Batc (None, 20, 160, 160, 16)  64        \n",
            "_________________________________________________________________\n",
            "max_pooling3d_45 (MaxPooling (None, 10, 80, 80, 16)    0         \n",
            "_________________________________________________________________\n",
            "conv3d_46 (Conv3D)           (None, 10, 80, 80, 32)    13856     \n",
            "_________________________________________________________________\n",
            "activation_46 (Activation)   (None, 10, 80, 80, 32)    0         \n",
            "_________________________________________________________________\n",
            "batch_normalization_68 (Batc (None, 10, 80, 80, 32)    128       \n",
            "_________________________________________________________________\n",
            "max_pooling3d_46 (MaxPooling (None, 5, 40, 40, 32)     0         \n",
            "_________________________________________________________________\n",
            "conv3d_47 (Conv3D)           (None, 5, 40, 40, 64)     55360     \n",
            "_________________________________________________________________\n",
            "activation_47 (Activation)   (None, 5, 40, 40, 64)     0         \n",
            "_________________________________________________________________\n",
            "batch_normalization_69 (Batc (None, 5, 40, 40, 64)     256       \n",
            "_________________________________________________________________\n",
            "max_pooling3d_47 (MaxPooling (None, 2, 20, 20, 64)     0         \n",
            "_________________________________________________________________\n",
            "conv3d_48 (Conv3D)           (None, 2, 20, 20, 128)    221312    \n",
            "_________________________________________________________________\n",
            "activation_48 (Activation)   (None, 2, 20, 20, 128)    0         \n",
            "_________________________________________________________________\n",
            "batch_normalization_70 (Batc (None, 2, 20, 20, 128)    512       \n",
            "_________________________________________________________________\n",
            "max_pooling3d_48 (MaxPooling (None, 1, 10, 10, 128)    0         \n",
            "_________________________________________________________________\n",
            "flatten_12 (Flatten)         (None, 12800)             0         \n",
            "_________________________________________________________________\n",
            "dense_34 (Dense)             (None, 256)               3277056   \n",
            "_________________________________________________________________\n",
            "batch_normalization_71 (Batc (None, 256)               1024      \n",
            "_________________________________________________________________\n",
            "dropout_23 (Dropout)         (None, 256)               0         \n",
            "_________________________________________________________________\n",
            "dense_35 (Dense)             (None, 256)               65792     \n",
            "_________________________________________________________________\n",
            "batch_normalization_72 (Batc (None, 256)               1024      \n",
            "_________________________________________________________________\n",
            "dropout_24 (Dropout)         (None, 256)               0         \n",
            "_________________________________________________________________\n",
            "dense_36 (Dense)             (None, 5)                 1285      \n",
            "=================================================================\n",
            "Total params: 3,638,981\n",
            "Trainable params: 3,637,477\n",
            "Non-trainable params: 1,504\n",
            "_________________________________________________________________\n"
          ],
          "name": "stdout"
        }
      ]
    },
    {
      "cell_type": "code",
      "metadata": {
        "id": "CySN8KU3S2Ws",
        "outputId": "0974dc85-9085-41f2-93ba-dc3f8d30a900"
      },
      "source": [
        "print(\"Total Params:\", Conv3D2_model.count_params())\n",
        "accuracy_check_model2=Conv3D2.train_model(Conv3D2_model,augment_data=True)"
      ],
      "execution_count": null,
      "outputs": [
        {
          "output_type": "stream",
          "text": [
            "Total Params: 3638981\n",
            "Epoch 1/25\n",
            "34/34 [==============================] - 141s 4s/step - loss: 1.8069 - categorical_accuracy: 0.4238 - val_loss: 1.9540 - val_categorical_accuracy: 0.5000\n",
            "\n",
            "Epoch 00001: saving model to model_init_2020-08-1617_42_18.017403/model-00001-1.83489-0.41780-1.95398-0.50000.h5\n",
            "Epoch 2/25\n",
            "34/34 [==============================] - 122s 4s/step - loss: 1.4144 - categorical_accuracy: 0.5155 - val_loss: 1.1473 - val_categorical_accuracy: 0.6600\n",
            "\n",
            "Epoch 00002: saving model to model_init_2020-08-1617_42_18.017403/model-00002-1.36471-0.52413-1.14731-0.66000.h5\n",
            "Epoch 3/25\n",
            "34/34 [==============================] - 130s 4s/step - loss: 1.2399 - categorical_accuracy: 0.5710 - val_loss: 1.6087 - val_categorical_accuracy: 0.5700\n",
            "\n",
            "Epoch 00003: saving model to model_init_2020-08-1617_42_18.017403/model-00003-1.18566-0.57692-1.60868-0.57000.h5\n",
            "Epoch 4/25\n",
            "34/34 [==============================] - 127s 4s/step - loss: 1.1306 - categorical_accuracy: 0.6056 - val_loss: 1.4984 - val_categorical_accuracy: 0.7100\n",
            "\n",
            "Epoch 00004: saving model to model_init_2020-08-1617_42_18.017403/model-00004-1.07981-0.62066-1.49840-0.71000.h5\n",
            "Epoch 5/25\n",
            "34/34 [==============================] - 129s 4s/step - loss: 0.9600 - categorical_accuracy: 0.6409 - val_loss: 1.1438 - val_categorical_accuracy: 0.6800\n",
            "\n",
            "Epoch 00005: saving model to model_init_2020-08-1617_42_18.017403/model-00005-0.95850-0.64027-1.14375-0.68000.h5\n",
            "Epoch 6/25\n",
            "34/34 [==============================] - 127s 4s/step - loss: 0.7867 - categorical_accuracy: 0.7167 - val_loss: 2.4211 - val_categorical_accuracy: 0.4200\n",
            "\n",
            "Epoch 00006: saving model to model_init_2020-08-1617_42_18.017403/model-00006-0.78921-0.71795-2.42109-0.42000.h5\n",
            "Epoch 7/25\n",
            "34/34 [==============================] - 127s 4s/step - loss: 0.7181 - categorical_accuracy: 0.7299 - val_loss: 0.9322 - val_categorical_accuracy: 0.7300\n",
            "\n",
            "Epoch 00007: saving model to model_init_2020-08-1617_42_18.017403/model-00007-0.72134-0.73152-0.93217-0.73000.h5\n",
            "Epoch 8/25\n",
            "34/34 [==============================] - 126s 4s/step - loss: 0.6574 - categorical_accuracy: 0.7656 - val_loss: 1.3504 - val_categorical_accuracy: 0.5700\n",
            "\n",
            "Epoch 00008: saving model to model_init_2020-08-1617_42_18.017403/model-00008-0.62141-0.77225-1.35042-0.57000.h5\n",
            "Epoch 9/25\n",
            "34/34 [==============================] - 126s 4s/step - loss: 0.6761 - categorical_accuracy: 0.7369 - val_loss: 1.9524 - val_categorical_accuracy: 0.5200\n",
            "\n",
            "Epoch 00009: saving model to model_init_2020-08-1617_42_18.017403/model-00009-0.68733-0.73454-1.95243-0.52000.h5\n",
            "Epoch 10/25\n",
            "34/34 [==============================] - 126s 4s/step - loss: 0.6879 - categorical_accuracy: 0.7811 - val_loss: 0.8623 - val_categorical_accuracy: 0.7300\n",
            "\n",
            "Epoch 00010: saving model to model_init_2020-08-1617_42_18.017403/model-00010-0.55445-0.79638-0.86229-0.73000.h5\n",
            "Epoch 11/25\n",
            "34/34 [==============================] - 126s 4s/step - loss: 0.6026 - categorical_accuracy: 0.7932 - val_loss: 1.2083 - val_categorical_accuracy: 0.6900\n",
            "\n",
            "Epoch 00011: saving model to model_init_2020-08-1617_42_18.017403/model-00011-0.61259-0.78808-1.20830-0.69000.h5\n",
            "Epoch 12/25\n",
            "34/34 [==============================] - 129s 4s/step - loss: 0.4730 - categorical_accuracy: 0.8197 - val_loss: 1.1301 - val_categorical_accuracy: 0.6500\n",
            "\n",
            "Epoch 00012: saving model to model_init_2020-08-1617_42_18.017403/model-00012-0.46369-0.82353-1.13009-0.65000.h5\n",
            "Epoch 13/25\n",
            "34/34 [==============================] - 129s 4s/step - loss: 0.3764 - categorical_accuracy: 0.8683 - val_loss: 0.9786 - val_categorical_accuracy: 0.6900\n",
            "\n",
            "Epoch 00013: saving model to model_init_2020-08-1617_42_18.017403/model-00013-0.33319-0.88160-0.97859-0.69000.h5\n",
            "Epoch 14/25\n",
            "34/34 [==============================] - 130s 4s/step - loss: 0.5135 - categorical_accuracy: 0.8046 - val_loss: 1.2616 - val_categorical_accuracy: 0.6700\n",
            "\n",
            "Epoch 00014: saving model to model_init_2020-08-1617_42_18.017403/model-00014-0.46549-0.82051-1.26158-0.67000.h5\n",
            "\n",
            "Epoch 00014: ReduceLROnPlateau reducing learning rate to 0.00020000000949949026.\n",
            "Epoch 15/25\n",
            "34/34 [==============================] - 127s 4s/step - loss: 0.3913 - categorical_accuracy: 0.8517 - val_loss: 1.4699 - val_categorical_accuracy: 0.6100\n",
            "\n",
            "Epoch 00015: saving model to model_init_2020-08-1617_42_18.017403/model-00015-0.38823-0.85219-1.46991-0.61000.h5\n",
            "Epoch 16/25\n",
            "34/34 [==============================] - 127s 4s/step - loss: 0.3967 - categorical_accuracy: 0.8808 - val_loss: 0.8091 - val_categorical_accuracy: 0.7500\n",
            "\n",
            "Epoch 00016: saving model to model_init_2020-08-1617_42_18.017403/model-00016-0.32031-0.89442-0.80907-0.75000.h5\n",
            "Epoch 17/25\n",
            "34/34 [==============================] - 127s 4s/step - loss: 0.3132 - categorical_accuracy: 0.8907 - val_loss: 0.7824 - val_categorical_accuracy: 0.7300\n",
            "\n",
            "Epoch 00017: saving model to model_init_2020-08-1617_42_18.017403/model-00017-0.29026-0.90045-0.78243-0.73000.h5\n",
            "Epoch 18/25\n",
            "34/34 [==============================] - 128s 4s/step - loss: 0.2623 - categorical_accuracy: 0.9047 - val_loss: 0.5505 - val_categorical_accuracy: 0.8200\n",
            "\n",
            "Epoch 00018: saving model to model_init_2020-08-1617_42_18.017403/model-00018-0.25812-0.90649-0.55049-0.82000.h5\n",
            "Epoch 19/25\n",
            "34/34 [==============================] - 127s 4s/step - loss: 0.2311 - categorical_accuracy: 0.9227 - val_loss: 0.5539 - val_categorical_accuracy: 0.8100\n",
            "\n",
            "Epoch 00019: saving model to model_init_2020-08-1617_42_18.017403/model-00019-0.23209-0.92081-0.55387-0.81000.h5\n",
            "Epoch 20/25\n",
            "34/34 [==============================] - 129s 4s/step - loss: 0.2215 - categorical_accuracy: 0.9172 - val_loss: 0.5704 - val_categorical_accuracy: 0.8200\n",
            "\n",
            "Epoch 00020: saving model to model_init_2020-08-1617_42_18.017403/model-00020-0.22185-0.91931-0.57042-0.82000.h5\n",
            "Epoch 21/25\n",
            "34/34 [==============================] - 129s 4s/step - loss: 0.2029 - categorical_accuracy: 0.9257 - val_loss: 0.5227 - val_categorical_accuracy: 0.8200\n",
            "\n",
            "Epoch 00021: saving model to model_init_2020-08-1617_42_18.017403/model-00021-0.18515-0.93213-0.52273-0.82000.h5\n",
            "Epoch 22/25\n",
            "34/34 [==============================] - 128s 4s/step - loss: 0.2864 - categorical_accuracy: 0.9154 - val_loss: 0.6376 - val_categorical_accuracy: 0.8100\n",
            "\n",
            "Epoch 00022: saving model to model_init_2020-08-1617_42_18.017403/model-00022-0.22163-0.92986-0.63764-0.81000.h5\n",
            "Epoch 23/25\n",
            "34/34 [==============================] - 128s 4s/step - loss: 0.2869 - categorical_accuracy: 0.9135 - val_loss: 0.7965 - val_categorical_accuracy: 0.7300\n",
            "\n",
            "Epoch 00023: saving model to model_init_2020-08-1617_42_18.017403/model-00023-0.21366-0.92383-0.79653-0.73000.h5\n",
            "Epoch 24/25\n",
            "34/34 [==============================] - 127s 4s/step - loss: 0.2347 - categorical_accuracy: 0.9224 - val_loss: 0.6919 - val_categorical_accuracy: 0.7900\n",
            "\n",
            "Epoch 00024: saving model to model_init_2020-08-1617_42_18.017403/model-00024-0.20233-0.92459-0.69185-0.79000.h5\n",
            "Epoch 25/25\n",
            "34/34 [==============================] - 128s 4s/step - loss: 0.1878 - categorical_accuracy: 0.9441 - val_loss: 0.5610 - val_categorical_accuracy: 0.8500\n",
            "\n",
            "Epoch 00025: saving model to model_init_2020-08-1617_42_18.017403/model-00025-0.16651-0.95098-0.56096-0.85000.h5\n",
            "\n",
            "Epoch 00025: ReduceLROnPlateau reducing learning rate to 4.0000001899898055e-05.\n"
          ],
          "name": "stdout"
        }
      ]
    },
    {
      "cell_type": "code",
      "metadata": {
        "id": "edbWgBLlS2Ws",
        "outputId": "b85dd126-4e9a-49cc-95f0-86711f1d7e70"
      },
      "source": [
        "plot(accuracy_check_model2)"
      ],
      "execution_count": null,
      "outputs": [
        {
          "output_type": "display_data",
          "data": {
            "image/png": "[encoded data removed]",
            "text/plain": [
              "<Figure size 1080x288 with 2 Axes>"
            ]
          },
          "metadata": {
            "tags": []
          }
        }
      ]
    },
    {
      "cell_type": "markdown",
      "metadata": {
        "id": "Obz1YMOZS2Ws"
      },
      "source": [
        "##### Model is not overfitting and we get a best validation accuracy of 85% and training accuracy of 91%. Next we will try to reduce the filter size and image resolution and see if get better results. Moreover since we see minor oscillations  in loss, let's try lowering the learning rate to 0.0002"
      ]
    },
    {
      "cell_type": "markdown",
      "metadata": {
        "id": "BOJgcaLvS2Wt"
      },
      "source": [
        "# Model 3 - Reduce filter size to (2,2,2) and image res to 120 x  120"
      ]
    },
    {
      "cell_type": "code",
      "metadata": {
        "jupyter": {
          "outputs_hidden": true
        },
        "id": "JPz71NWqS2Wt"
      },
      "source": [
        "class ModelConv3D3(BuildModel):\n",
        "    \n",
        "    def define_model(self,filtersize=(3,3,3),dense_neurons=64,dropout=0.25):\n",
        "\n",
        "        model = Sequential()\n",
        "        model.add(Conv3D(16, filtersize, padding='same',\n",
        "                 input_shape=(self.frames_to_sample,self.image_height,self.image_width,self.channels)))\n",
        "        model.add(Activation('relu'))\n",
        "        model.add(BatchNormalization())\n",
        "        model.add(MaxPooling3D(pool_size=(2, 2, 2)))\n",
        "\n",
        "        model.add(Conv3D(32, filtersize, padding='same'))\n",
        "        model.add(Activation('relu'))\n",
        "        model.add(BatchNormalization())\n",
        "        model.add(MaxPooling3D(pool_size=(2, 2, 2)))\n",
        "\n",
        "        model.add(Conv3D(64, filtersize, padding='same'))\n",
        "        model.add(Activation('relu'))\n",
        "        model.add(BatchNormalization())\n",
        "        model.add(MaxPooling3D(pool_size=(2, 2, 2)))\n",
        "\n",
        "        model.add(Conv3D(128, filtersize, padding='same'))\n",
        "        model.add(Activation('relu'))\n",
        "        model.add(BatchNormalization())\n",
        "        model.add(MaxPooling3D(pool_size=(2, 2, 2)))\n",
        "\n",
        "        model.add(Flatten())\n",
        "        model.add(Dense(dense_neurons,activation='relu'))\n",
        "        model.add(BatchNormalization())\n",
        "        model.add(Dropout(dropout))\n",
        "\n",
        "        model.add(Dense(dense_neurons,activation='relu'))\n",
        "        model.add(BatchNormalization())\n",
        "        model.add(Dropout(dropout))\n",
        "\n",
        "\n",
        "        model.add(Dense(self.num_classes,activation='softmax'))\n",
        "\n",
        "        optimiser = optimizers.Adam(lr=0.0002)\n",
        "        model.compile(optimizer=optimiser, loss='categorical_crossentropy', metrics=['categorical_accuracy'])\n",
        "        return model"
      ],
      "execution_count": null,
      "outputs": []
    },
    {
      "cell_type": "code",
      "metadata": {
        "id": "XKAkYKjCS2Wt",
        "outputId": "92263103-e589-40d4-fcb8-9580c48bebd6"
      },
      "source": [
        "Conv3D3=ModelConv3D3()\n",
        "Conv3D3.initialize_src_path(main_folder)\n",
        "Conv3D3.initialize_image_properties(image_height=120,image_width=120)\n",
        "Conv3D3.initialize_hyperparams(frames_to_sample=16,batch_size=30,num_epochs=30)\n",
        "Conv3D3_model=Conv3D3.define_model(filtersize=(2,2,2),dense_neurons=256,dropout=0.5)\n",
        "Conv3D3_model.summary()"
      ],
      "execution_count": null,
      "outputs": [
        {
          "output_type": "stream",
          "text": [
            "_________________________________________________________________\n",
            "Layer (type)                 Output Shape              Param #   \n",
            "=================================================================\n",
            "conv3d_49 (Conv3D)           (None, 16, 120, 120, 16)  400       \n",
            "_________________________________________________________________\n",
            "activation_49 (Activation)   (None, 16, 120, 120, 16)  0         \n",
            "_________________________________________________________________\n",
            "batch_normalization_73 (Batc (None, 16, 120, 120, 16)  64        \n",
            "_________________________________________________________________\n",
            "max_pooling3d_49 (MaxPooling (None, 8, 60, 60, 16)     0         \n",
            "_________________________________________________________________\n",
            "conv3d_50 (Conv3D)           (None, 8, 60, 60, 32)     4128      \n",
            "_________________________________________________________________\n",
            "activation_50 (Activation)   (None, 8, 60, 60, 32)     0         \n",
            "_________________________________________________________________\n",
            "batch_normalization_74 (Batc (None, 8, 60, 60, 32)     128       \n",
            "_________________________________________________________________\n",
            "max_pooling3d_50 (MaxPooling (None, 4, 30, 30, 32)     0         \n",
            "_________________________________________________________________\n",
            "conv3d_51 (Conv3D)           (None, 4, 30, 30, 64)     16448     \n",
            "_________________________________________________________________\n",
            "activation_51 (Activation)   (None, 4, 30, 30, 64)     0         \n",
            "_________________________________________________________________\n",
            "batch_normalization_75 (Batc (None, 4, 30, 30, 64)     256       \n",
            "_________________________________________________________________\n",
            "max_pooling3d_51 (MaxPooling (None, 2, 15, 15, 64)     0         \n",
            "_________________________________________________________________\n",
            "conv3d_52 (Conv3D)           (None, 2, 15, 15, 128)    65664     \n",
            "_________________________________________________________________\n",
            "activation_52 (Activation)   (None, 2, 15, 15, 128)    0         \n",
            "_________________________________________________________________\n",
            "batch_normalization_76 (Batc (None, 2, 15, 15, 128)    512       \n",
            "_________________________________________________________________\n",
            "max_pooling3d_52 (MaxPooling (None, 1, 7, 7, 128)      0         \n",
            "_________________________________________________________________\n",
            "flatten_13 (Flatten)         (None, 6272)              0         \n",
            "_________________________________________________________________\n",
            "dense_37 (Dense)             (None, 256)               1605888   \n",
            "_________________________________________________________________\n",
            "batch_normalization_77 (Batc (None, 256)               1024      \n",
            "_________________________________________________________________\n",
            "dropout_25 (Dropout)         (None, 256)               0         \n",
            "_________________________________________________________________\n",
            "dense_38 (Dense)             (None, 256)               65792     \n",
            "_________________________________________________________________\n",
            "batch_normalization_78 (Batc (None, 256)               1024      \n",
            "_________________________________________________________________\n",
            "dropout_26 (Dropout)         (None, 256)               0         \n",
            "_________________________________________________________________\n",
            "dense_39 (Dense)             (None, 5)                 1285      \n",
            "=================================================================\n",
            "Total params: 1,762,613\n",
            "Trainable params: 1,761,109\n",
            "Non-trainable params: 1,504\n",
            "_________________________________________________________________\n"
          ],
          "name": "stdout"
        }
      ]
    },
    {
      "cell_type": "code",
      "metadata": {
        "id": "YvfUVnt4S2Wt",
        "outputId": "06ce0f2a-d8ff-4f0f-f25c-0abbd0be9155"
      },
      "source": [
        "print(\"Total Params:\", Conv3D3_model.count_params())\n",
        "accuracy_check_model3=Conv3D3.train_model(Conv3D3_model,augment_data=True)"
      ],
      "execution_count": null,
      "outputs": [
        {
          "output_type": "stream",
          "text": [
            "Total Params: 1762613\n",
            "Epoch 1/30\n",
            "23/23 [==============================] - 96s 4s/step - loss: 2.1788 - categorical_accuracy: 0.3200 - val_loss: 1.3590 - val_categorical_accuracy: 0.5200\n",
            "\n",
            "Epoch 00001: saving model to model_init_2020-08-1618_41_23.634089/model-00001-2.21701-0.31297-1.35900-0.52000.h5\n",
            "Epoch 2/30\n",
            "23/23 [==============================] - 77s 3s/step - loss: 1.5549 - categorical_accuracy: 0.4712 - val_loss: 1.2507 - val_categorical_accuracy: 0.5700\n",
            "\n",
            "Epoch 00002: saving model to model_init_2020-08-1618_41_23.634089/model-00002-1.52271-0.47662-1.25067-0.57000.h5\n",
            "Epoch 3/30\n",
            "23/23 [==============================] - 86s 4s/step - loss: 1.4844 - categorical_accuracy: 0.5250 - val_loss: 0.9676 - val_categorical_accuracy: 0.6900\n",
            "\n",
            "Epoch 00003: saving model to model_init_2020-08-1618_41_23.634089/model-00003-1.39894-0.53243-0.96760-0.69000.h5\n",
            "Epoch 4/30\n",
            "23/23 [==============================] - 85s 4s/step - loss: 1.2263 - categorical_accuracy: 0.5591 - val_loss: 0.7995 - val_categorical_accuracy: 0.7100\n",
            "\n",
            "Epoch 00004: saving model to model_init_2020-08-1618_41_23.634089/model-00004-1.21016-0.56787-0.79952-0.71000.h5\n",
            "Epoch 5/30\n",
            "23/23 [==============================] - 86s 4s/step - loss: 1.0902 - categorical_accuracy: 0.6098 - val_loss: 0.8467 - val_categorical_accuracy: 0.7100\n",
            "\n",
            "Epoch 00005: saving model to model_init_2020-08-1618_41_23.634089/model-00005-1.10416-0.60106-0.84668-0.71000.h5\n",
            "Epoch 6/30\n",
            "23/23 [==============================] - 86s 4s/step - loss: 1.2200 - categorical_accuracy: 0.5978 - val_loss: 0.6728 - val_categorical_accuracy: 0.7400\n",
            "\n",
            "Epoch 00006: saving model to model_init_2020-08-1618_41_23.634089/model-00006-1.09824-0.61463-0.67283-0.74000.h5\n",
            "Epoch 7/30\n",
            "23/23 [==============================] - 85s 4s/step - loss: 0.9745 - categorical_accuracy: 0.6517 - val_loss: 0.6791 - val_categorical_accuracy: 0.7500\n",
            "\n",
            "Epoch 00007: saving model to model_init_2020-08-1618_41_23.634089/model-00007-0.95932-0.65762-0.67909-0.75000.h5\n",
            "Epoch 8/30\n",
            "23/23 [==============================] - 85s 4s/step - loss: 0.9302 - categorical_accuracy: 0.6640 - val_loss: 0.7849 - val_categorical_accuracy: 0.7400\n",
            "\n",
            "Epoch 00008: saving model to model_init_2020-08-1618_41_23.634089/model-00008-0.92448-0.67044-0.78487-0.74000.h5\n",
            "Epoch 9/30\n",
            "23/23 [==============================] - 85s 4s/step - loss: 0.8683 - categorical_accuracy: 0.7037 - val_loss: 0.7202 - val_categorical_accuracy: 0.7700\n",
            "\n",
            "Epoch 00009: saving model to model_init_2020-08-1618_41_23.634089/model-00009-0.81976-0.70513-0.72019-0.77000.h5\n",
            "Epoch 10/30\n",
            "23/23 [==============================] - 84s 4s/step - loss: 0.7831 - categorical_accuracy: 0.7109 - val_loss: 0.6956 - val_categorical_accuracy: 0.7400\n",
            "\n",
            "Epoch 00010: saving model to model_init_2020-08-1618_41_23.634089/model-00010-0.77774-0.71267-0.69564-0.74000.h5\n",
            "\n",
            "Epoch 00010: ReduceLROnPlateau reducing learning rate to 3.9999998989515007e-05.\n",
            "Epoch 11/30\n",
            "23/23 [==============================] - 84s 4s/step - loss: 0.8230 - categorical_accuracy: 0.7114 - val_loss: 0.6871 - val_categorical_accuracy: 0.7400\n",
            "\n",
            "Epoch 00011: saving model to model_init_2020-08-1618_41_23.634089/model-00011-0.80788-0.70664-0.68714-0.74000.h5\n",
            "Epoch 12/30\n",
            "23/23 [==============================] - 85s 4s/step - loss: 0.7972 - categorical_accuracy: 0.7120 - val_loss: 0.6728 - val_categorical_accuracy: 0.7600\n",
            "\n",
            "Epoch 00012: saving model to model_init_2020-08-1618_41_23.634089/model-00012-0.76135-0.72021-0.67277-0.76000.h5\n",
            "Epoch 13/30\n",
            "23/23 [==============================] - 86s 4s/step - loss: 0.6918 - categorical_accuracy: 0.7499 - val_loss: 0.6935 - val_categorical_accuracy: 0.7500\n",
            "\n",
            "Epoch 00013: saving model to model_init_2020-08-1618_41_23.634089/model-00013-0.69989-0.74661-0.69354-0.75000.h5\n",
            "Epoch 14/30\n",
            "23/23 [==============================] - 86s 4s/step - loss: 0.7141 - categorical_accuracy: 0.7411 - val_loss: 0.6853 - val_categorical_accuracy: 0.7600\n",
            "\n",
            "Epoch 00014: saving model to model_init_2020-08-1618_41_23.634089/model-00014-0.72140-0.73756-0.68535-0.76000.h5\n",
            "\n",
            "Epoch 00014: ReduceLROnPlateau reducing learning rate to 7.999999797903002e-06.\n",
            "Epoch 15/30\n",
            "23/23 [==============================] - 85s 4s/step - loss: 0.7127 - categorical_accuracy: 0.7499 - val_loss: 0.6777 - val_categorical_accuracy: 0.7500\n",
            "\n",
            "Epoch 00015: saving model to model_init_2020-08-1618_41_23.634089/model-00015-0.70512-0.74661-0.67772-0.75000.h5\n",
            "Epoch 16/30\n",
            "23/23 [==============================] - 84s 4s/step - loss: 0.8613 - categorical_accuracy: 0.7074 - val_loss: 0.6687 - val_categorical_accuracy: 0.7600\n",
            "\n",
            "Epoch 00016: saving model to model_init_2020-08-1618_41_23.634089/model-00016-0.76708-0.72851-0.66869-0.76000.h5\n",
            "Epoch 17/30\n",
            "23/23 [==============================] - 85s 4s/step - loss: 0.7418 - categorical_accuracy: 0.7276 - val_loss: 0.6639 - val_categorical_accuracy: 0.7600\n",
            "\n",
            "Epoch 00017: saving model to model_init_2020-08-1618_41_23.634089/model-00017-0.71589-0.73002-0.66386-0.76000.h5\n",
            "Epoch 18/30\n",
            "23/23 [==============================] - 85s 4s/step - loss: 0.7654 - categorical_accuracy: 0.7154 - val_loss: 0.6529 - val_categorical_accuracy: 0.7700\n",
            "\n",
            "Epoch 00018: saving model to model_init_2020-08-1618_41_23.634089/model-00018-0.71228-0.73680-0.65287-0.77000.h5\n",
            "Epoch 19/30\n",
            "23/23 [==============================] - 87s 4s/step - loss: 0.6937 - categorical_accuracy: 0.7393 - val_loss: 0.6490 - val_categorical_accuracy: 0.7700\n",
            "\n",
            "Epoch 00019: saving model to model_init_2020-08-1618_41_23.634089/model-00019-0.68928-0.74208-0.64905-0.77000.h5\n",
            "Epoch 20/30\n",
            "23/23 [==============================] - 87s 4s/step - loss: 0.6791 - categorical_accuracy: 0.7397 - val_loss: 0.6480 - val_categorical_accuracy: 0.7700\n",
            "\n",
            "Epoch 00020: saving model to model_init_2020-08-1618_41_23.634089/model-00020-0.68889-0.73605-0.64798-0.77000.h5\n",
            "Epoch 21/30\n",
            "23/23 [==============================] - 86s 4s/step - loss: 0.7407 - categorical_accuracy: 0.7308 - val_loss: 0.6465 - val_categorical_accuracy: 0.7700\n",
            "\n",
            "Epoch 00021: saving model to model_init_2020-08-1618_41_23.634089/model-00021-0.69791-0.73982-0.64652-0.77000.h5\n",
            "Epoch 22/30\n",
            "23/23 [==============================] - 85s 4s/step - loss: 0.7508 - categorical_accuracy: 0.7359 - val_loss: 0.6409 - val_categorical_accuracy: 0.7700\n",
            "\n",
            "Epoch 00022: saving model to model_init_2020-08-1618_41_23.634089/model-00022-0.70643-0.74510-0.64085-0.77000.h5\n",
            "Epoch 23/30\n",
            "23/23 [==============================] - 85s 4s/step - loss: 0.7125 - categorical_accuracy: 0.7371 - val_loss: 0.6439 - val_categorical_accuracy: 0.7700\n",
            "\n",
            "Epoch 00023: saving model to model_init_2020-08-1618_41_23.634089/model-00023-0.70788-0.73982-0.64386-0.77000.h5\n",
            "Epoch 24/30\n",
            "23/23 [==============================] - 86s 4s/step - loss: 0.6895 - categorical_accuracy: 0.7458 - val_loss: 0.6456 - val_categorical_accuracy: 0.7700\n",
            "\n",
            "Epoch 00024: saving model to model_init_2020-08-1618_41_23.634089/model-00024-0.68857-0.74887-0.64563-0.77000.h5\n",
            "Epoch 25/30\n",
            "23/23 [==============================] - 86s 4s/step - loss: 0.6350 - categorical_accuracy: 0.7709 - val_loss: 0.6441 - val_categorical_accuracy: 0.7700\n",
            "\n",
            "Epoch 00025: saving model to model_init_2020-08-1618_41_23.634089/model-00025-0.64938-0.76848-0.64412-0.77000.h5\n",
            "Epoch 26/30\n",
            "23/23 [==============================] - 85s 4s/step - loss: 0.6952 - categorical_accuracy: 0.7649 - val_loss: 0.6411 - val_categorical_accuracy: 0.7700\n",
            "\n",
            "Epoch 00026: saving model to model_init_2020-08-1618_41_23.634089/model-00026-0.65314-0.77526-0.64112-0.77000.h5\n",
            "\n",
            "Epoch 00026: ReduceLROnPlateau reducing learning rate to 1.5999999959603884e-06.\n",
            "Epoch 27/30\n",
            "23/23 [==============================] - 86s 4s/step - loss: 0.6812 - categorical_accuracy: 0.7513 - val_loss: 0.6411 - val_categorical_accuracy: 0.7600\n",
            "\n",
            "Epoch 00027: saving model to model_init_2020-08-1618_41_23.634089/model-00027-0.68048-0.74811-0.64113-0.76000.h5\n",
            "Epoch 28/30\n",
            "23/23 [==============================] - 86s 4s/step - loss: 0.6714 - categorical_accuracy: 0.7565 - val_loss: 0.6396 - val_categorical_accuracy: 0.7700\n",
            "\n",
            "Epoch 00028: saving model to model_init_2020-08-1618_41_23.634089/model-00028-0.64460-0.77300-0.63955-0.77000.h5\n",
            "Epoch 29/30\n",
            "23/23 [==============================] - 85s 4s/step - loss: 0.7535 - categorical_accuracy: 0.7227 - val_loss: 0.6398 - val_categorical_accuracy: 0.7700\n",
            "\n",
            "Epoch 00029: saving model to model_init_2020-08-1618_41_23.634089/model-00029-0.70868-0.74434-0.63977-0.77000.h5\n",
            "Epoch 30/30\n",
            "23/23 [==============================] - 85s 4s/step - loss: 0.7430 - categorical_accuracy: 0.7318 - val_loss: 0.6375 - val_categorical_accuracy: 0.7700\n",
            "\n",
            "Epoch 00030: saving model to model_init_2020-08-1618_41_23.634089/model-00030-0.66955-0.74736-0.63751-0.77000.h5\n"
          ],
          "name": "stdout"
        }
      ]
    },
    {
      "cell_type": "code",
      "metadata": {
        "id": "TsFPINr8S2Wt",
        "outputId": "70b0d74b-9da3-4ec7-d9c6-bb5536a334ab"
      },
      "source": [
        "plot(accuracy_check_model3)"
      ],
      "execution_count": null,
      "outputs": [
        {
          "output_type": "display_data",
          "data": {
            "image/png": "[encoded data removed]",
            "text/plain": [
              "<Figure size 1080x288 with 2 Axes>"
            ]
          },
          "metadata": {
            "tags": []
          }
        }
      ]
    },
    {
      "cell_type": "markdown",
      "metadata": {
        "id": "a02HN-vOS2Wu"
      },
      "source": [
        "##### Model has a  best validation accuracy of 84% and training accuracy of 84% . Also we were able to reduce the parameter size by half the earlier model. Let's trying adding more layers"
      ]
    },
    {
      "cell_type": "markdown",
      "metadata": {
        "id": "r1Xf6qGBS2Wu"
      },
      "source": [
        "# Model 4 - Adding more layers"
      ]
    },
    {
      "cell_type": "code",
      "metadata": {
        "jupyter": {
          "outputs_hidden": true
        },
        "id": "AplVNYgMS2Wu"
      },
      "source": [
        "class ModelConv3D4(BuildModel):\n",
        "    \n",
        "    def define_model(self,filtersize=(3,3,3),dense_neurons=64,dropout=0.25):\n",
        "\n",
        "        model = Sequential()\n",
        "        model.add(Conv3D(16, filtersize, padding='same',\n",
        "                 input_shape=(self.frames_to_sample,self.image_height,self.image_width,self.channels)))\n",
        "        model.add(Activation('relu'))\n",
        "        model.add(BatchNormalization())\n",
        "        \n",
        "        model.add(Conv3D(16, filtersize, padding='same',\n",
        "                 input_shape=(self.frames_to_sample,self.image_height,self.image_width,self.channels)))\n",
        "        model.add(Activation('relu'))\n",
        "        model.add(BatchNormalization())\n",
        "        \n",
        "        model.add(MaxPooling3D(pool_size=(2, 2, 2)))\n",
        "\n",
        "        model.add(Conv3D(32, filtersize, padding='same'))\n",
        "        model.add(Activation('relu'))\n",
        "        model.add(BatchNormalization())\n",
        "        \n",
        "        model.add(Conv3D(32, filtersize, padding='same'))\n",
        "        model.add(Activation('relu'))\n",
        "        model.add(BatchNormalization())\n",
        "        \n",
        "        model.add(MaxPooling3D(pool_size=(2, 2, 2)))\n",
        "\n",
        "        model.add(Conv3D(64, filtersize, padding='same'))\n",
        "        model.add(Activation('relu'))\n",
        "        model.add(BatchNormalization())\n",
        "        \n",
        "        model.add(Conv3D(64, filtersize, padding='same'))\n",
        "        model.add(Activation('relu'))\n",
        "        model.add(BatchNormalization())\n",
        "        \n",
        "        model.add(MaxPooling3D(pool_size=(2, 2, 2)))\n",
        "\n",
        "        model.add(Conv3D(128, filtersize, padding='same'))\n",
        "        model.add(Activation('relu'))\n",
        "        model.add(BatchNormalization())\n",
        "        \n",
        "        model.add(Conv3D(128, filtersize, padding='same'))\n",
        "        model.add(Activation('relu'))\n",
        "        model.add(BatchNormalization())\n",
        "        \n",
        "        model.add(MaxPooling3D(pool_size=(2, 2, 2)))\n",
        "        \n",
        "\n",
        "        model.add(Flatten())\n",
        "        model.add(Dense(dense_neurons,activation='relu'))\n",
        "        model.add(BatchNormalization())\n",
        "        model.add(Dropout(dropout))\n",
        "\n",
        "        model.add(Dense(dense_neurons,activation='relu'))\n",
        "        model.add(BatchNormalization())\n",
        "        model.add(Dropout(dropout))\n",
        "\n",
        "\n",
        "        model.add(Dense(self.num_classes,activation='softmax'))\n",
        "\n",
        "        optimiser = optimizers.Adam()\n",
        "        model.compile(optimizer=optimiser, loss='categorical_crossentropy', metrics=['categorical_accuracy'])\n",
        "        return model"
      ],
      "execution_count": null,
      "outputs": []
    },
    {
      "cell_type": "code",
      "metadata": {
        "id": "pDoaJAFCS2Wu",
        "outputId": "d1895886-17be-490f-aef6-1599d6ad0b53"
      },
      "source": [
        "Conv3D4=ModelConv3D4()\n",
        "Conv3D4.initialize_src_path(main_folder)\n",
        "Conv3D4.initialize_image_properties(image_height=120,image_width=120)\n",
        "Conv3D4.initialize_hyperparams(frames_to_sample=16,batch_size=20,num_epochs=30)\n",
        "Conv3D4_model=Conv3D4.define_model(filtersize=(3,3,3),dense_neurons=256,dropout=0.5)\n",
        "Conv3D4_model.summary()"
      ],
      "execution_count": null,
      "outputs": [
        {
          "output_type": "stream",
          "text": [
            "_________________________________________________________________\n",
            "Layer (type)                 Output Shape              Param #   \n",
            "=================================================================\n",
            "conv3d_1 (Conv3D)            (None, 16, 120, 120, 16)  1312      \n",
            "_________________________________________________________________\n",
            "activation_1 (Activation)    (None, 16, 120, 120, 16)  0         \n",
            "_________________________________________________________________\n",
            "batch_normalization_1 (Batch (None, 16, 120, 120, 16)  64        \n",
            "_________________________________________________________________\n",
            "conv3d_2 (Conv3D)            (None, 16, 120, 120, 16)  6928      \n",
            "_________________________________________________________________\n",
            "activation_2 (Activation)    (None, 16, 120, 120, 16)  0         \n",
            "_________________________________________________________________\n",
            "batch_normalization_2 (Batch (None, 16, 120, 120, 16)  64        \n",
            "_________________________________________________________________\n",
            "max_pooling3d_1 (MaxPooling3 (None, 8, 60, 60, 16)     0         \n",
            "_________________________________________________________________\n",
            "conv3d_3 (Conv3D)            (None, 8, 60, 60, 32)     13856     \n",
            "_________________________________________________________________\n",
            "activation_3 (Activation)    (None, 8, 60, 60, 32)     0         \n",
            "_________________________________________________________________\n",
            "batch_normalization_3 (Batch (None, 8, 60, 60, 32)     128       \n",
            "_________________________________________________________________\n",
            "conv3d_4 (Conv3D)            (None, 8, 60, 60, 32)     27680     \n",
            "_________________________________________________________________\n",
            "activation_4 (Activation)    (None, 8, 60, 60, 32)     0         \n",
            "_________________________________________________________________\n",
            "batch_normalization_4 (Batch (None, 8, 60, 60, 32)     128       \n",
            "_________________________________________________________________\n",
            "max_pooling3d_2 (MaxPooling3 (None, 4, 30, 30, 32)     0         \n",
            "_________________________________________________________________\n",
            "conv3d_5 (Conv3D)            (None, 4, 30, 30, 64)     55360     \n",
            "_________________________________________________________________\n",
            "activation_5 (Activation)    (None, 4, 30, 30, 64)     0         \n",
            "_________________________________________________________________\n",
            "batch_normalization_5 (Batch (None, 4, 30, 30, 64)     256       \n",
            "_________________________________________________________________\n",
            "conv3d_6 (Conv3D)            (None, 4, 30, 30, 64)     110656    \n",
            "_________________________________________________________________\n",
            "activation_6 (Activation)    (None, 4, 30, 30, 64)     0         \n",
            "_________________________________________________________________\n",
            "batch_normalization_6 (Batch (None, 4, 30, 30, 64)     256       \n",
            "_________________________________________________________________\n",
            "max_pooling3d_3 (MaxPooling3 (None, 2, 15, 15, 64)     0         \n",
            "_________________________________________________________________\n",
            "conv3d_7 (Conv3D)            (None, 2, 15, 15, 128)    221312    \n",
            "_________________________________________________________________\n",
            "activation_7 (Activation)    (None, 2, 15, 15, 128)    0         \n",
            "_________________________________________________________________\n",
            "batch_normalization_7 (Batch (None, 2, 15, 15, 128)    512       \n",
            "_________________________________________________________________\n",
            "conv3d_8 (Conv3D)            (None, 2, 15, 15, 128)    442496    \n",
            "_________________________________________________________________\n",
            "activation_8 (Activation)    (None, 2, 15, 15, 128)    0         \n",
            "_________________________________________________________________\n",
            "batch_normalization_8 (Batch (None, 2, 15, 15, 128)    512       \n",
            "_________________________________________________________________\n",
            "max_pooling3d_4 (MaxPooling3 (None, 1, 7, 7, 128)      0         \n",
            "_________________________________________________________________\n",
            "flatten_1 (Flatten)          (None, 6272)              0         \n",
            "_________________________________________________________________\n",
            "dense_1 (Dense)              (None, 256)               1605888   \n",
            "_________________________________________________________________\n",
            "batch_normalization_9 (Batch (None, 256)               1024      \n",
            "_________________________________________________________________\n",
            "dropout_1 (Dropout)          (None, 256)               0         \n",
            "_________________________________________________________________\n",
            "dense_2 (Dense)              (None, 256)               65792     \n",
            "_________________________________________________________________\n",
            "batch_normalization_10 (Batc (None, 256)               1024      \n",
            "_________________________________________________________________\n",
            "dropout_2 (Dropout)          (None, 256)               0         \n",
            "_________________________________________________________________\n",
            "dense_3 (Dense)              (None, 5)                 1285      \n",
            "=================================================================\n",
            "Total params: 2,556,533\n",
            "Trainable params: 2,554,549\n",
            "Non-trainable params: 1,984\n",
            "_________________________________________________________________\n"
          ],
          "name": "stdout"
        }
      ]
    },
    {
      "cell_type": "code",
      "metadata": {
        "id": "mMvRq4MBS2Wv",
        "outputId": "c0491073-c75b-4539-a3b9-37367e7a2827"
      },
      "source": [
        "print(\"Total Params:\", Conv3D4_model.count_params())\n",
        "accuracy_check_model4=Conv3D4.train_model(Conv3D4_model,augment_data=True)"
      ],
      "execution_count": null,
      "outputs": [
        {
          "output_type": "stream",
          "text": [
            "Total Params: 2556533\n",
            "Epoch 1/30\n",
            "34/34 [==============================] - 192s 6s/step - loss: 2.0719 - categorical_accuracy: 0.3484 - val_loss: 8.1044 - val_categorical_accuracy: 0.2900\n",
            "\n",
            "Epoch 00001: saving model to model_init_2020-08-1619_51_20.422372/model-00001-2.05620-0.35294-8.10441-0.29000.h5\n",
            "Epoch 2/30\n",
            "34/34 [==============================] - 95s 3s/step - loss: 1.5774 - categorical_accuracy: 0.4544 - val_loss: 8.3837 - val_categorical_accuracy: 0.2900\n",
            "\n",
            "Epoch 00002: saving model to model_init_2020-08-1619_51_20.422372/model-00002-1.55828-0.46154-8.38365-0.29000.h5\n",
            "Epoch 3/30\n",
            "34/34 [==============================] - 98s 3s/step - loss: 1.5173 - categorical_accuracy: 0.4890 - val_loss: 4.4569 - val_categorical_accuracy: 0.3300\n",
            "\n",
            "Epoch 00003: saving model to model_init_2020-08-1619_51_20.422372/model-00003-1.45938-0.49698-4.45692-0.33000.h5\n",
            "Epoch 4/30\n",
            "34/34 [==============================] - 98s 3s/step - loss: 1.2800 - categorical_accuracy: 0.5346 - val_loss: 3.0993 - val_categorical_accuracy: 0.3600\n",
            "\n",
            "Epoch 00004: saving model to model_init_2020-08-1619_51_20.422372/model-00004-1.26311-0.54374-3.09930-0.36000.h5\n",
            "Epoch 5/30\n",
            "34/34 [==============================] - 98s 3s/step - loss: 1.1482 - categorical_accuracy: 0.6026 - val_loss: 3.2378 - val_categorical_accuracy: 0.3300\n",
            "\n",
            "Epoch 00005: saving model to model_init_2020-08-1619_51_20.422372/model-00005-1.10622-0.60935-3.23782-0.33000.h5\n",
            "Epoch 6/30\n",
            "34/34 [==============================] - 99s 3s/step - loss: 0.9292 - categorical_accuracy: 0.6626 - val_loss: 3.4758 - val_categorical_accuracy: 0.3800\n",
            "\n",
            "Epoch 00006: saving model to model_init_2020-08-1619_51_20.422372/model-00006-0.92172-0.66667-3.47584-0.38000.h5\n",
            "Epoch 7/30\n",
            "34/34 [==============================] - 99s 3s/step - loss: 0.9966 - categorical_accuracy: 0.6185 - val_loss: 0.9021 - val_categorical_accuracy: 0.6700\n",
            "\n",
            "Epoch 00007: saving model to model_init_2020-08-1619_51_20.422372/model-00007-0.99346-0.62142-0.90211-0.67000.h5\n",
            "Epoch 8/30\n",
            "34/34 [==============================] - 99s 3s/step - loss: 0.8242 - categorical_accuracy: 0.6788 - val_loss: 1.2240 - val_categorical_accuracy: 0.6500\n",
            "\n",
            "Epoch 00008: saving model to model_init_2020-08-1619_51_20.422372/model-00008-0.83431-0.67496-1.22404-0.65000.h5\n",
            "Epoch 9/30\n",
            "34/34 [==============================] - 99s 3s/step - loss: 0.8369 - categorical_accuracy: 0.6891 - val_loss: 1.0682 - val_categorical_accuracy: 0.6700\n",
            "\n",
            "Epoch 00009: saving model to model_init_2020-08-1619_51_20.422372/model-00009-0.80200-0.69382-1.06817-0.67000.h5\n",
            "Epoch 10/30\n",
            "34/34 [==============================] - 99s 3s/step - loss: 0.8169 - categorical_accuracy: 0.7053 - val_loss: 1.2225 - val_categorical_accuracy: 0.6400\n",
            "\n",
            "Epoch 00010: saving model to model_init_2020-08-1619_51_20.422372/model-00010-0.79875-0.71041-1.22253-0.64000.h5\n",
            "Epoch 11/30\n",
            "34/34 [==============================] - 101s 3s/step - loss: 0.6931 - categorical_accuracy: 0.7329 - val_loss: 1.0087 - val_categorical_accuracy: 0.6500\n",
            "\n",
            "Epoch 00011: saving model to model_init_2020-08-1619_51_20.422372/model-00011-0.69375-0.73454-1.00873-0.65000.h5\n",
            "\n",
            "Epoch 00011: ReduceLROnPlateau reducing learning rate to 0.00020000000949949026.\n",
            "Epoch 12/30\n",
            "34/34 [==============================] - 98s 3s/step - loss: 0.5350 - categorical_accuracy: 0.7855 - val_loss: 0.6624 - val_categorical_accuracy: 0.7700\n",
            "\n",
            "Epoch 00012: saving model to model_init_2020-08-1619_51_20.422372/model-00012-0.54099-0.78431-0.66238-0.77000.h5\n",
            "Epoch 13/30\n",
            "34/34 [==============================] - 98s 3s/step - loss: 0.4193 - categorical_accuracy: 0.8477 - val_loss: 0.6948 - val_categorical_accuracy: 0.7600\n",
            "\n",
            "Epoch 00013: saving model to model_init_2020-08-1619_51_20.422372/model-00013-0.42545-0.84389-0.69480-0.76000.h5\n",
            "Epoch 14/30\n",
            "34/34 [==============================] - 99s 3s/step - loss: 0.4063 - categorical_accuracy: 0.8484 - val_loss: 0.6013 - val_categorical_accuracy: 0.7400\n",
            "\n",
            "Epoch 00014: saving model to model_init_2020-08-1619_51_20.422372/model-00014-0.38999-0.86124-0.60135-0.74000.h5\n",
            "Epoch 15/30\n",
            "34/34 [==============================] - 99s 3s/step - loss: 0.4710 - categorical_accuracy: 0.8241 - val_loss: 0.6723 - val_categorical_accuracy: 0.7500\n",
            "\n",
            "Epoch 00015: saving model to model_init_2020-08-1619_51_20.422372/model-00015-0.41655-0.83635-0.67231-0.75000.h5\n",
            "Epoch 16/30\n",
            "34/34 [==============================] - 98s 3s/step - loss: 0.4031 - categorical_accuracy: 0.8561 - val_loss: 0.5904 - val_categorical_accuracy: 0.7500\n",
            "\n",
            "Epoch 00016: saving model to model_init_2020-08-1619_51_20.422372/model-00016-0.37936-0.86501-0.59044-0.75000.h5\n",
            "Epoch 17/30\n",
            "34/34 [==============================] - 99s 3s/step - loss: 0.3799 - categorical_accuracy: 0.8617 - val_loss: 0.5738 - val_categorical_accuracy: 0.8000\n",
            "\n",
            "Epoch 00017: saving model to model_init_2020-08-1619_51_20.422372/model-00017-0.35652-0.86652-0.57376-0.80000.h5\n",
            "Epoch 18/30\n",
            "34/34 [==============================] - 99s 3s/step - loss: 0.3936 - categorical_accuracy: 0.8705 - val_loss: 0.6260 - val_categorical_accuracy: 0.7400\n",
            "\n",
            "Epoch 00018: saving model to model_init_2020-08-1619_51_20.422372/model-00018-0.34300-0.87557-0.62600-0.74000.h5\n",
            "Epoch 19/30\n",
            "34/34 [==============================] - 98s 3s/step - loss: 0.4246 - categorical_accuracy: 0.8344 - val_loss: 0.6469 - val_categorical_accuracy: 0.7000\n",
            "\n",
            "Epoch 00019: saving model to model_init_2020-08-1619_51_20.422372/model-00019-0.40761-0.84691-0.64694-0.70000.h5\n",
            "Epoch 20/30\n",
            "34/34 [==============================] - 99s 3s/step - loss: 0.3485 - categorical_accuracy: 0.8712 - val_loss: 0.7018 - val_categorical_accuracy: 0.7400\n",
            "\n",
            "Epoch 00020: saving model to model_init_2020-08-1619_51_20.422372/model-00020-0.35222-0.86802-0.70179-0.74000.h5\n",
            "Epoch 21/30\n",
            "34/34 [==============================] - 99s 3s/step - loss: 0.3033 - categorical_accuracy: 0.8937 - val_loss: 0.6443 - val_categorical_accuracy: 0.7700\n",
            "\n",
            "Epoch 00021: saving model to model_init_2020-08-1619_51_20.422372/model-00021-0.29742-0.89517-0.64427-0.77000.h5\n",
            "\n",
            "Epoch 00021: ReduceLROnPlateau reducing learning rate to 4.0000001899898055e-05.\n",
            "Epoch 22/30\n",
            "34/34 [==============================] - 100s 3s/step - loss: 0.3331 - categorical_accuracy: 0.8790 - val_loss: 0.5749 - val_categorical_accuracy: 0.7600\n",
            "\n",
            "Epoch 00022: saving model to model_init_2020-08-1619_51_20.422372/model-00022-0.29760-0.88839-0.57490-0.76000.h5\n",
            "Epoch 23/30\n",
            "34/34 [==============================] - 100s 3s/step - loss: 0.2620 - categorical_accuracy: 0.9051 - val_loss: 0.5523 - val_categorical_accuracy: 0.7800\n",
            "\n",
            "Epoch 00023: saving model to model_init_2020-08-1619_51_20.422372/model-00023-0.26369-0.90271-0.55226-0.78000.h5\n",
            "Epoch 24/30\n",
            "34/34 [==============================] - 99s 3s/step - loss: 0.2887 - categorical_accuracy: 0.8970 - val_loss: 0.5569 - val_categorical_accuracy: 0.7800\n",
            "\n",
            "Epoch 00024: saving model to model_init_2020-08-1619_51_20.422372/model-00024-0.25094-0.91101-0.55689-0.78000.h5\n",
            "Epoch 25/30\n",
            "34/34 [==============================] - 100s 3s/step - loss: 0.3656 - categorical_accuracy: 0.8911 - val_loss: 0.6256 - val_categorical_accuracy: 0.7600\n",
            "\n",
            "Epoch 00025: saving model to model_init_2020-08-1619_51_20.422372/model-00025-0.27996-0.90498-0.62555-0.76000.h5\n",
            "Epoch 26/30\n",
            "34/34 [==============================] - 98s 3s/step - loss: 0.2526 - categorical_accuracy: 0.9161 - val_loss: 0.5754 - val_categorical_accuracy: 0.7700\n",
            "\n",
            "Epoch 00026: saving model to model_init_2020-08-1619_51_20.422372/model-00026-0.23183-0.92232-0.57544-0.77000.h5\n",
            "Epoch 27/30\n",
            "34/34 [==============================] - 97s 3s/step - loss: 0.2371 - categorical_accuracy: 0.8996 - val_loss: 0.6016 - val_categorical_accuracy: 0.7500\n",
            "\n",
            "Epoch 00027: saving model to model_init_2020-08-1619_51_20.422372/model-00027-0.22902-0.90950-0.60157-0.75000.h5\n",
            "\n",
            "Epoch 00027: ReduceLROnPlateau reducing learning rate to 8.000000525498762e-06.\n",
            "Epoch 28/30\n",
            "34/34 [==============================] - 99s 3s/step - loss: 0.2405 - categorical_accuracy: 0.9157 - val_loss: 0.5802 - val_categorical_accuracy: 0.7500\n",
            "\n",
            "Epoch 00028: saving model to model_init_2020-08-1619_51_20.422372/model-00028-0.23671-0.91780-0.58018-0.75000.h5\n",
            "Epoch 29/30\n",
            "34/34 [==============================] - 99s 3s/step - loss: 0.2617 - categorical_accuracy: 0.9069 - val_loss: 0.5820 - val_categorical_accuracy: 0.7400\n",
            "\n",
            "Epoch 00029: saving model to model_init_2020-08-1619_51_20.422372/model-00029-0.23579-0.91704-0.58197-0.74000.h5\n",
            "Epoch 30/30\n",
            "34/34 [==============================] - 99s 3s/step - loss: 0.3095 - categorical_accuracy: 0.9132 - val_loss: 0.5706 - val_categorical_accuracy: 0.7500\n",
            "\n",
            "Epoch 00030: saving model to model_init_2020-08-1619_51_20.422372/model-00030-0.21917-0.92760-0.57063-0.75000.h5\n"
          ],
          "name": "stdout"
        }
      ]
    },
    {
      "cell_type": "code",
      "metadata": {
        "id": "wSf5zLo7S2Wv",
        "outputId": "06b1757e-70df-4a88-9437-1cd91489f7ef"
      },
      "source": [
        "plot(accuracy_check_model4)"
      ],
      "execution_count": null,
      "outputs": [
        {
          "output_type": "display_data",
          "data": {
            "image/png": "[encoded data removed]",
            "text/plain": [
              "<Figure size 1080x288 with 2 Axes>"
            ]
          },
          "metadata": {
            "tags": []
          }
        }
      ]
    },
    {
      "cell_type": "markdown",
      "metadata": {
        "id": "YAZAh9SjS2Wv"
      },
      "source": [
        "##### With more layers we dont see much performance improvement. We get a best validation accuracy of 76% . Let's try adding dropouts at the convolution layers"
      ]
    },
    {
      "cell_type": "markdown",
      "metadata": {
        "id": "v2bTUJwxS2Wv"
      },
      "source": [
        "# Model 5 Adding dropout at convolution layers"
      ]
    },
    {
      "cell_type": "code",
      "metadata": {
        "jupyter": {
          "outputs_hidden": true
        },
        "id": "wh50rhxbS2Ww"
      },
      "source": [
        "class ModelConv3D5(BuildModel):\n",
        "    \n",
        "    def define_model(self,filtersize=(3,3,3),dense_neurons=64,dropout=0.25):\n",
        "\n",
        "        model = Sequential()\n",
        "        model.add(Conv3D(16, filtersize, padding='same',\n",
        "                 input_shape=(self.frames_to_sample,self.image_height,self.image_width,self.channels)))\n",
        "        model.add(Activation('relu'))\n",
        "        model.add(BatchNormalization())\n",
        "        \n",
        "        model.add(Conv3D(16, filtersize, padding='same',\n",
        "                 input_shape=(self.frames_to_sample,self.image_height,self.image_width,self.channels)))\n",
        "        model.add(Activation('relu'))\n",
        "        model.add(BatchNormalization())\n",
        "        \n",
        "        model.add(MaxPooling3D(pool_size=(2, 2, 2)))\n",
        "        model.add(Dropout(dropout))\n",
        "\n",
        "        model.add(Conv3D(32, filtersize, padding='same'))\n",
        "        model.add(Activation('relu'))\n",
        "        model.add(BatchNormalization())\n",
        "        \n",
        "        model.add(Conv3D(32, filtersize, padding='same'))\n",
        "        model.add(Activation('relu'))\n",
        "        model.add(BatchNormalization())\n",
        "        \n",
        "        model.add(MaxPooling3D(pool_size=(2, 2, 2)))\n",
        "        model.add(Dropout(dropout))\n",
        "\n",
        "        model.add(Conv3D(64, filtersize, padding='same'))\n",
        "        model.add(Activation('relu'))\n",
        "        model.add(BatchNormalization())\n",
        "        \n",
        "        model.add(Conv3D(64, filtersize, padding='same'))\n",
        "        model.add(Activation('relu'))\n",
        "        model.add(BatchNormalization())\n",
        "        \n",
        "        model.add(MaxPooling3D(pool_size=(2, 2, 2)))\n",
        "        model.add(Dropout(dropout))\n",
        "\n",
        "        model.add(Conv3D(128, filtersize, padding='same'))\n",
        "        model.add(Activation('relu'))\n",
        "        model.add(BatchNormalization())\n",
        "        \n",
        "        model.add(Conv3D(128, filtersize, padding='same'))\n",
        "        model.add(Activation('relu'))\n",
        "        model.add(BatchNormalization())\n",
        "        \n",
        "        model.add(MaxPooling3D(pool_size=(2, 2, 2)))\n",
        "        model.add(Dropout(dropout))\n",
        "        \n",
        "        model.add(Flatten())\n",
        "        model.add(Dense(dense_neurons,activation='relu'))\n",
        "        model.add(BatchNormalization())\n",
        "        model.add(Dropout(dropout))\n",
        "\n",
        "        model.add(Dense(dense_neurons,activation='relu'))\n",
        "        model.add(BatchNormalization())\n",
        "        model.add(Dropout(dropout))\n",
        "\n",
        "\n",
        "        model.add(Dense(self.num_classes,activation='softmax'))\n",
        "\n",
        "        optimiser = optimizers.Adam()\n",
        "        model.compile(optimizer=optimiser, loss='categorical_crossentropy', metrics=['categorical_accuracy'])\n",
        "        return model"
      ],
      "execution_count": null,
      "outputs": []
    },
    {
      "cell_type": "code",
      "metadata": {
        "id": "LK55ONZKS2Ww",
        "outputId": "ef5438ca-668d-470a-dfac-948923fe3d8a"
      },
      "source": [
        "Conv3D5=ModelConv3D5()\n",
        "Conv3D5.initialize_src_path(main_folder)\n",
        "Conv3D5.initialize_image_properties(image_height=120,image_width=120)\n",
        "Conv3D5.initialize_hyperparams(frames_to_sample=16,batch_size=20,num_epochs=22)\n",
        "Conv3D5_model=Conv3D5.define_model(filtersize=(3,3,3),dense_neurons=256,dropout=0.25)\n",
        "Conv3D5_model.summary()"
      ],
      "execution_count": null,
      "outputs": [
        {
          "output_type": "stream",
          "text": [
            "_________________________________________________________________\n",
            "Layer (type)                 Output Shape              Param #   \n",
            "=================================================================\n",
            "conv3d_9 (Conv3D)            (None, 16, 120, 120, 16)  1312      \n",
            "_________________________________________________________________\n",
            "activation_9 (Activation)    (None, 16, 120, 120, 16)  0         \n",
            "_________________________________________________________________\n",
            "batch_normalization_11 (Batc (None, 16, 120, 120, 16)  64        \n",
            "_________________________________________________________________\n",
            "conv3d_10 (Conv3D)           (None, 16, 120, 120, 16)  6928      \n",
            "_________________________________________________________________\n",
            "activation_10 (Activation)   (None, 16, 120, 120, 16)  0         \n",
            "_________________________________________________________________\n",
            "batch_normalization_12 (Batc (None, 16, 120, 120, 16)  64        \n",
            "_________________________________________________________________\n",
            "max_pooling3d_5 (MaxPooling3 (None, 8, 60, 60, 16)     0         \n",
            "_________________________________________________________________\n",
            "dropout_3 (Dropout)          (None, 8, 60, 60, 16)     0         \n",
            "_________________________________________________________________\n",
            "conv3d_11 (Conv3D)           (None, 8, 60, 60, 32)     13856     \n",
            "_________________________________________________________________\n",
            "activation_11 (Activation)   (None, 8, 60, 60, 32)     0         \n",
            "_________________________________________________________________\n",
            "batch_normalization_13 (Batc (None, 8, 60, 60, 32)     128       \n",
            "_________________________________________________________________\n",
            "conv3d_12 (Conv3D)           (None, 8, 60, 60, 32)     27680     \n",
            "_________________________________________________________________\n",
            "activation_12 (Activation)   (None, 8, 60, 60, 32)     0         \n",
            "_________________________________________________________________\n",
            "batch_normalization_14 (Batc (None, 8, 60, 60, 32)     128       \n",
            "_________________________________________________________________\n",
            "max_pooling3d_6 (MaxPooling3 (None, 4, 30, 30, 32)     0         \n",
            "_________________________________________________________________\n",
            "dropout_4 (Dropout)          (None, 4, 30, 30, 32)     0         \n",
            "_________________________________________________________________\n",
            "conv3d_13 (Conv3D)           (None, 4, 30, 30, 64)     55360     \n",
            "_________________________________________________________________\n",
            "activation_13 (Activation)   (None, 4, 30, 30, 64)     0         \n",
            "_________________________________________________________________\n",
            "batch_normalization_15 (Batc (None, 4, 30, 30, 64)     256       \n",
            "_________________________________________________________________\n",
            "conv3d_14 (Conv3D)           (None, 4, 30, 30, 64)     110656    \n",
            "_________________________________________________________________\n",
            "activation_14 (Activation)   (None, 4, 30, 30, 64)     0         \n",
            "_________________________________________________________________\n",
            "batch_normalization_16 (Batc (None, 4, 30, 30, 64)     256       \n",
            "_________________________________________________________________\n",
            "max_pooling3d_7 (MaxPooling3 (None, 2, 15, 15, 64)     0         \n",
            "_________________________________________________________________\n",
            "dropout_5 (Dropout)          (None, 2, 15, 15, 64)     0         \n",
            "_________________________________________________________________\n",
            "conv3d_15 (Conv3D)           (None, 2, 15, 15, 128)    221312    \n",
            "_________________________________________________________________\n",
            "activation_15 (Activation)   (None, 2, 15, 15, 128)    0         \n",
            "_________________________________________________________________\n",
            "batch_normalization_17 (Batc (None, 2, 15, 15, 128)    512       \n",
            "_________________________________________________________________\n",
            "conv3d_16 (Conv3D)           (None, 2, 15, 15, 128)    442496    \n",
            "_________________________________________________________________\n",
            "activation_16 (Activation)   (None, 2, 15, 15, 128)    0         \n",
            "_________________________________________________________________\n",
            "batch_normalization_18 (Batc (None, 2, 15, 15, 128)    512       \n",
            "_________________________________________________________________\n",
            "max_pooling3d_8 (MaxPooling3 (None, 1, 7, 7, 128)      0         \n",
            "_________________________________________________________________\n",
            "dropout_6 (Dropout)          (None, 1, 7, 7, 128)      0         \n",
            "_________________________________________________________________\n",
            "flatten_2 (Flatten)          (None, 6272)              0         \n",
            "_________________________________________________________________\n",
            "dense_4 (Dense)              (None, 256)               1605888   \n",
            "_________________________________________________________________\n",
            "batch_normalization_19 (Batc (None, 256)               1024      \n",
            "_________________________________________________________________\n",
            "dropout_7 (Dropout)          (None, 256)               0         \n",
            "_________________________________________________________________\n",
            "dense_5 (Dense)              (None, 256)               65792     \n",
            "_________________________________________________________________\n",
            "batch_normalization_20 (Batc (None, 256)               1024      \n",
            "_________________________________________________________________\n",
            "dropout_8 (Dropout)          (None, 256)               0         \n",
            "_________________________________________________________________\n",
            "dense_6 (Dense)              (None, 5)                 1285      \n",
            "=================================================================\n",
            "Total params: 2,556,533\n",
            "Trainable params: 2,554,549\n",
            "Non-trainable params: 1,984\n",
            "_________________________________________________________________\n"
          ],
          "name": "stdout"
        }
      ]
    },
    {
      "cell_type": "code",
      "metadata": {
        "id": "gbOjN2htS2Ww",
        "outputId": "cb199173-c610-49b4-a058-b13b0b0b8f54"
      },
      "source": [
        "print(\"Total Params:\", Conv3D5_model.count_params())\n",
        "accuracy_check_model5=Conv3D5.train_model(Conv3D5_model,augment_data=True)"
      ],
      "execution_count": null,
      "outputs": [
        {
          "output_type": "stream",
          "text": [
            "Total Params: 2556533\n",
            "Epoch 1/22\n",
            "34/34 [==============================] - 104s 3s/step - loss: 0.3333 - categorical_accuracy: 0.8837 - val_loss: 0.8438 - val_categorical_accuracy: 0.7400\n",
            "\n",
            "Epoch 00001: saving model to model_init_2020-08-1621_36_06.356783/model-00001-0.30100-0.88914-0.84377-0.74000.h5\n",
            "Epoch 2/22\n",
            "34/34 [==============================] - 98s 3s/step - loss: 0.4188 - categorical_accuracy: 0.8598 - val_loss: 0.8340 - val_categorical_accuracy: 0.7200\n",
            "\n",
            "Epoch 00002: saving model to model_init_2020-08-1621_36_06.356783/model-00002-0.35294-0.87707-0.83397-0.72000.h5\n",
            "Epoch 3/22\n",
            "34/34 [==============================] - 98s 3s/step - loss: 0.3814 - categorical_accuracy: 0.8602 - val_loss: 0.8299 - val_categorical_accuracy: 0.7200\n",
            "\n",
            "Epoch 00003: saving model to model_init_2020-08-1621_36_06.356783/model-00003-0.34761-0.86501-0.82986-0.72000.h5\n",
            "Epoch 4/22\n",
            "34/34 [==============================] - 99s 3s/step - loss: 0.3625 - categorical_accuracy: 0.8808 - val_loss: 0.8321 - val_categorical_accuracy: 0.7200\n",
            "\n",
            "Epoch 00004: saving model to model_init_2020-08-1621_36_06.356783/model-00004-0.33620-0.88612-0.83213-0.72000.h5\n",
            "Epoch 5/22\n",
            "34/34 [==============================] - 98s 3s/step - loss: 0.3645 - categorical_accuracy: 0.8675 - val_loss: 0.8277 - val_categorical_accuracy: 0.7300\n",
            "\n",
            "Epoch 00005: saving model to model_init_2020-08-1621_36_06.356783/model-00005-0.33937-0.87255-0.82767-0.73000.h5\n",
            "Epoch 6/22\n",
            "34/34 [==============================] - 99s 3s/step - loss: 0.3488 - categorical_accuracy: 0.8628 - val_loss: 0.8234 - val_categorical_accuracy: 0.7300\n",
            "\n",
            "Epoch 00006: saving model to model_init_2020-08-1621_36_06.356783/model-00006-0.33694-0.87179-0.82343-0.73000.h5\n",
            "Epoch 7/22\n",
            "34/34 [==============================] - 99s 3s/step - loss: 0.3462 - categorical_accuracy: 0.8716 - val_loss: 0.8263 - val_categorical_accuracy: 0.7300\n",
            "\n",
            "Epoch 00007: saving model to model_init_2020-08-1621_36_06.356783/model-00007-0.34047-0.87255-0.82635-0.73000.h5\n",
            "Epoch 8/22\n",
            "34/34 [==============================] - 99s 3s/step - loss: 0.3748 - categorical_accuracy: 0.8661 - val_loss: 0.8240 - val_categorical_accuracy: 0.7200\n",
            "\n",
            "Epoch 00008: saving model to model_init_2020-08-1621_36_06.356783/model-00008-0.33108-0.87934-0.82401-0.72000.h5\n",
            "Epoch 9/22\n",
            "34/34 [==============================] - 98s 3s/step - loss: 0.3476 - categorical_accuracy: 0.8701 - val_loss: 0.8301 - val_categorical_accuracy: 0.7200\n",
            "\n",
            "Epoch 00009: saving model to model_init_2020-08-1621_36_06.356783/model-00009-0.31773-0.87934-0.83014-0.72000.h5\n",
            "Epoch 10/22\n",
            "34/34 [==============================] - 98s 3s/step - loss: 0.3680 - categorical_accuracy: 0.8639 - val_loss: 0.8317 - val_categorical_accuracy: 0.7200\n",
            "\n",
            "Epoch 00010: saving model to model_init_2020-08-1621_36_06.356783/model-00010-0.36085-0.86878-0.83165-0.72000.h5\n",
            "\n",
            "Epoch 00010: ReduceLROnPlateau reducing learning rate to 3.200000264769187e-07.\n",
            "Epoch 11/22\n",
            "34/34 [==============================] - 98s 3s/step - loss: 0.3429 - categorical_accuracy: 0.8635 - val_loss: 0.8276 - val_categorical_accuracy: 0.7200\n",
            "\n",
            "Epoch 00011: saving model to model_init_2020-08-1621_36_06.356783/model-00011-0.32493-0.87255-0.82759-0.72000.h5\n",
            "Epoch 12/22\n",
            "34/34 [==============================] - 99s 3s/step - loss: 0.2976 - categorical_accuracy: 0.8826 - val_loss: 0.8260 - val_categorical_accuracy: 0.7200\n",
            "\n",
            "Epoch 00012: saving model to model_init_2020-08-1621_36_06.356783/model-00012-0.28624-0.89216-0.82597-0.72000.h5\n",
            "Epoch 13/22\n",
            "34/34 [==============================] - 101s 3s/step - loss: 0.3266 - categorical_accuracy: 0.8852 - val_loss: 0.8218 - val_categorical_accuracy: 0.7200\n",
            "\n",
            "Epoch 00013: saving model to model_init_2020-08-1621_36_06.356783/model-00013-0.30905-0.89065-0.82176-0.72000.h5\n",
            "Epoch 14/22\n",
            "34/34 [==============================] - 99s 3s/step - loss: 0.3058 - categorical_accuracy: 0.9003 - val_loss: 0.8204 - val_categorical_accuracy: 0.7200\n",
            "\n",
            "Epoch 00014: saving model to model_init_2020-08-1621_36_06.356783/model-00014-0.30140-0.90196-0.82039-0.72000.h5\n",
            "Epoch 15/22\n",
            "34/34 [==============================] - 99s 3s/step - loss: 0.3072 - categorical_accuracy: 0.8848 - val_loss: 0.8196 - val_categorical_accuracy: 0.7200\n",
            "\n",
            "Epoch 00015: saving model to model_init_2020-08-1621_36_06.356783/model-00015-0.30635-0.88612-0.81959-0.72000.h5\n",
            "Epoch 16/22\n",
            "34/34 [==============================] - 99s 3s/step - loss: 0.3379 - categorical_accuracy: 0.8870 - val_loss: 0.8237 - val_categorical_accuracy: 0.7200\n",
            "\n",
            "Epoch 00016: saving model to model_init_2020-08-1621_36_06.356783/model-00016-0.33077-0.88839-0.82371-0.72000.h5\n",
            "Epoch 17/22\n",
            "34/34 [==============================] - 99s 3s/step - loss: 0.3768 - categorical_accuracy: 0.8584 - val_loss: 0.8260 - val_categorical_accuracy: 0.7200\n",
            "\n",
            "Epoch 00017: saving model to model_init_2020-08-1621_36_06.356783/model-00017-0.36385-0.85897-0.82602-0.72000.h5\n",
            "Epoch 18/22\n",
            "34/34 [==============================] - 100s 3s/step - loss: 0.3436 - categorical_accuracy: 0.8738 - val_loss: 0.8263 - val_categorical_accuracy: 0.7200\n",
            "\n",
            "Epoch 00018: saving model to model_init_2020-08-1621_36_06.356783/model-00018-0.33340-0.87481-0.82626-0.72000.h5\n",
            "Epoch 19/22\n",
            "34/34 [==============================] - 99s 3s/step - loss: 0.3064 - categorical_accuracy: 0.8841 - val_loss: 0.8254 - val_categorical_accuracy: 0.7200\n",
            "\n",
            "Epoch 00019: saving model to model_init_2020-08-1621_36_06.356783/model-00019-0.30892-0.88537-0.82543-0.72000.h5\n",
            "\n",
            "Epoch 00019: ReduceLROnPlateau reducing learning rate to 6.400000529538374e-08.\n",
            "Epoch 20/22\n",
            "34/34 [==============================] - 100s 3s/step - loss: 0.3299 - categorical_accuracy: 0.8801 - val_loss: 0.8339 - val_categorical_accuracy: 0.7200\n",
            "\n",
            "Epoch 00020: saving model to model_init_2020-08-1621_36_06.356783/model-00020-0.31150-0.89367-0.83395-0.72000.h5\n",
            "Epoch 21/22\n",
            "34/34 [==============================] - 99s 3s/step - loss: 0.3428 - categorical_accuracy: 0.8734 - val_loss: 0.8362 - val_categorical_accuracy: 0.7200\n",
            "\n",
            "Epoch 00021: saving model to model_init_2020-08-1621_36_06.356783/model-00021-0.32153-0.87858-0.83622-0.72000.h5\n",
            "Epoch 22/22\n",
            "34/34 [==============================] - 97s 3s/step - loss: 0.3168 - categorical_accuracy: 0.8767 - val_loss: 0.8365 - val_categorical_accuracy: 0.7200\n",
            "\n",
            "Epoch 00022: saving model to model_init_2020-08-1621_36_06.356783/model-00022-0.30108-0.88612-0.83654-0.72000.h5\n"
          ],
          "name": "stdout"
        }
      ]
    },
    {
      "cell_type": "code",
      "metadata": {
        "id": "a8wfv_9IS2Ww",
        "outputId": "41535273-ce9d-4a19-dbc1-178dac41fbea"
      },
      "source": [
        "plot(accuracy_check_model5)"
      ],
      "execution_count": null,
      "outputs": [
        {
          "output_type": "display_data",
          "data": {
            "image/png": "[encoded data removed]",
            "text/plain": [
              "<Figure size 1080x288 with 2 Axes>"
            ]
          },
          "metadata": {
            "tags": []
          }
        }
      ]
    },
    {
      "cell_type": "markdown",
      "metadata": {
        "id": "hryAnmxuS2Wx"
      },
      "source": [
        "##### Adding dropouts has further reduced validation accuracy as its not to learn  generalizable features"
      ]
    },
    {
      "cell_type": "markdown",
      "metadata": {
        "id": "gvoJtAX8S2Wx"
      },
      "source": [
        "##### All models experimental models above have more than 1 million parameters. Let's try to reduce the model size and see the performance"
      ]
    },
    {
      "cell_type": "markdown",
      "metadata": {
        "id": "1z3hMMDsS2Wx"
      },
      "source": [
        "# Model 6 - reducing the number of parameters"
      ]
    },
    {
      "cell_type": "code",
      "metadata": {
        "jupyter": {
          "outputs_hidden": true
        },
        "id": "J1sAxAwAS2Wx"
      },
      "source": [
        "class ModelConv3D6(BuildModel):\n",
        "    \n",
        "    def define_model(self,dense_neurons=64,dropout=0.25):\n",
        "\n",
        "        model = Sequential()\n",
        "        model.add(Conv3D(16, (3, 3, 3), padding='same',\n",
        "                 input_shape=(self.frames_to_sample,self.image_height,self.image_width,self.channels)))\n",
        "        model.add(Activation('relu'))\n",
        "        model.add(BatchNormalization())\n",
        "        model.add(MaxPooling3D(pool_size=(2, 2, 2)))\n",
        "\n",
        "        model.add(Conv3D(32, (2, 2, 2), padding='same'))\n",
        "        model.add(Activation('relu'))\n",
        "        model.add(BatchNormalization())\n",
        "        model.add(MaxPooling3D(pool_size=(2, 2, 2)))\n",
        "\n",
        "        model.add(Conv3D(64, (2, 2, 2), padding='same'))\n",
        "        model.add(Activation('relu'))\n",
        "        model.add(BatchNormalization())\n",
        "        model.add(MaxPooling3D(pool_size=(2, 2, 2)))\n",
        "\n",
        "        model.add(Conv3D(128, (2, 2, 2), padding='same'))\n",
        "        model.add(Activation('relu'))\n",
        "        model.add(BatchNormalization())\n",
        "        model.add(MaxPooling3D(pool_size=(2, 2, 2)))\n",
        "        \n",
        "        model.add(Flatten())\n",
        "        model.add(Dense(dense_neurons,activation='relu'))\n",
        "        model.add(BatchNormalization())\n",
        "        model.add(Dropout(dropout))\n",
        "\n",
        "        model.add(Dense(dense_neurons,activation='relu'))\n",
        "        model.add(BatchNormalization())\n",
        "        model.add(Dropout(dropout))\n",
        "\n",
        "        model.add(Dense(self.num_classes,activation='softmax'))\n",
        "\n",
        "        optimiser = optimizers.Adam(lr=0.0002)\n",
        "        model.compile(optimizer=optimiser, loss='categorical_crossentropy', metrics=['categorical_accuracy'])\n",
        "        return model"
      ],
      "execution_count": null,
      "outputs": []
    },
    {
      "cell_type": "code",
      "metadata": {
        "id": "S2ySpNkAS2Wx",
        "outputId": "b6655157-feaa-449c-f7b4-f6f15d419f64"
      },
      "source": [
        "Conv3D6=ModelConv3D6()\n",
        "Conv3D6.initialize_src_path(main_folder)\n",
        "Conv3D6.initialize_image_properties(image_height=100,image_width=100)\n",
        "Conv3D6.initialize_hyperparams(frames_to_sample=16,batch_size=20,num_epochs=30)\n",
        "Conv3D6_model=Conv3D6.define_model(dense_neurons=128,dropout=0.25)\n",
        "Conv3D6_model.summary()"
      ],
      "execution_count": null,
      "outputs": [
        {
          "output_type": "stream",
          "text": [
            "_________________________________________________________________\n",
            "Layer (type)                 Output Shape              Param #   \n",
            "=================================================================\n",
            "conv3d_17 (Conv3D)           (None, 16, 100, 100, 16)  1312      \n",
            "_________________________________________________________________\n",
            "activation_17 (Activation)   (None, 16, 100, 100, 16)  0         \n",
            "_________________________________________________________________\n",
            "batch_normalization_21 (Batc (None, 16, 100, 100, 16)  64        \n",
            "_________________________________________________________________\n",
            "max_pooling3d_9 (MaxPooling3 (None, 8, 50, 50, 16)     0         \n",
            "_________________________________________________________________\n",
            "conv3d_18 (Conv3D)           (None, 8, 50, 50, 32)     4128      \n",
            "_________________________________________________________________\n",
            "activation_18 (Activation)   (None, 8, 50, 50, 32)     0         \n",
            "_________________________________________________________________\n",
            "batch_normalization_22 (Batc (None, 8, 50, 50, 32)     128       \n",
            "_________________________________________________________________\n",
            "max_pooling3d_10 (MaxPooling (None, 4, 25, 25, 32)     0         \n",
            "_________________________________________________________________\n",
            "conv3d_19 (Conv3D)           (None, 4, 25, 25, 64)     16448     \n",
            "_________________________________________________________________\n",
            "activation_19 (Activation)   (None, 4, 25, 25, 64)     0         \n",
            "_________________________________________________________________\n",
            "batch_normalization_23 (Batc (None, 4, 25, 25, 64)     256       \n",
            "_________________________________________________________________\n",
            "max_pooling3d_11 (MaxPooling (None, 2, 12, 12, 64)     0         \n",
            "_________________________________________________________________\n",
            "conv3d_20 (Conv3D)           (None, 2, 12, 12, 128)    65664     \n",
            "_________________________________________________________________\n",
            "activation_20 (Activation)   (None, 2, 12, 12, 128)    0         \n",
            "_________________________________________________________________\n",
            "batch_normalization_24 (Batc (None, 2, 12, 12, 128)    512       \n",
            "_________________________________________________________________\n",
            "max_pooling3d_12 (MaxPooling (None, 1, 6, 6, 128)      0         \n",
            "_________________________________________________________________\n",
            "flatten_3 (Flatten)          (None, 4608)              0         \n",
            "_________________________________________________________________\n",
            "dense_7 (Dense)              (None, 128)               589952    \n",
            "_________________________________________________________________\n",
            "batch_normalization_25 (Batc (None, 128)               512       \n",
            "_________________________________________________________________\n",
            "dropout_9 (Dropout)          (None, 128)               0         \n",
            "_________________________________________________________________\n",
            "dense_8 (Dense)              (None, 128)               16512     \n",
            "_________________________________________________________________\n",
            "batch_normalization_26 (Batc (None, 128)               512       \n",
            "_________________________________________________________________\n",
            "dropout_10 (Dropout)         (None, 128)               0         \n",
            "_________________________________________________________________\n",
            "dense_9 (Dense)              (None, 5)                 645       \n",
            "=================================================================\n",
            "Total params: 696,645\n",
            "Trainable params: 695,653\n",
            "Non-trainable params: 992\n",
            "_________________________________________________________________\n"
          ],
          "name": "stdout"
        }
      ]
    },
    {
      "cell_type": "code",
      "metadata": {
        "id": "837K2p4TS2Wy",
        "outputId": "b89a95cc-9c54-4d26-ca61-b4b182241d84"
      },
      "source": [
        "print(\"Total Params:\", Conv3D6_model.count_params())\n",
        "accuracy_check_model6=Conv3D6.train_model(Conv3D6_model,augment_data=True)"
      ],
      "execution_count": null,
      "outputs": [
        {
          "output_type": "stream",
          "text": [
            "Total Params: 696645\n",
            "Epoch 1/30\n",
            "34/34 [==============================] - 89s 3s/step - loss: 1.7812 - categorical_accuracy: 0.3591 - val_loss: 1.3399 - val_categorical_accuracy: 0.5000\n",
            "\n",
            "Epoch 00001: saving model to model_init_2020-08-1622_15_00.365129/model-00001-1.80233-0.35143-1.33991-0.50000.h5\n",
            "Epoch 2/30\n",
            "34/34 [==============================] - 79s 2s/step - loss: 1.2679 - categorical_accuracy: 0.5335 - val_loss: 1.0280 - val_categorical_accuracy: 0.6200\n",
            "\n",
            "Epoch 00002: saving model to model_init_2020-08-1622_15_00.365129/model-00002-1.28985-0.52187-1.02801-0.62000.h5\n",
            "Epoch 3/30\n",
            "34/34 [==============================] - 83s 2s/step - loss: 1.0819 - categorical_accuracy: 0.6001 - val_loss: 0.9774 - val_categorical_accuracy: 0.6000\n",
            "\n",
            "Epoch 00003: saving model to model_init_2020-08-1622_15_00.365129/model-00003-1.05863-0.60256-0.97742-0.60000.h5\n",
            "Epoch 4/30\n",
            "34/34 [==============================] - 82s 2s/step - loss: 0.9486 - categorical_accuracy: 0.6233 - val_loss: 0.9128 - val_categorical_accuracy: 0.7000\n",
            "\n",
            "Epoch 00004: saving model to model_init_2020-08-1622_15_00.365129/model-00004-0.94297-0.63047-0.91284-0.70000.h5\n",
            "Epoch 5/30\n",
            "34/34 [==============================] - 82s 2s/step - loss: 0.8770 - categorical_accuracy: 0.6516 - val_loss: 1.0902 - val_categorical_accuracy: 0.6600\n",
            "\n",
            "Epoch 00005: saving model to model_init_2020-08-1622_15_00.365129/model-00005-0.87647-0.65535-1.09021-0.66000.h5\n",
            "Epoch 6/30\n",
            "34/34 [==============================] - 82s 2s/step - loss: 0.8599 - categorical_accuracy: 0.6619 - val_loss: 0.9449 - val_categorical_accuracy: 0.6900\n",
            "\n",
            "Epoch 00006: saving model to model_init_2020-08-1622_15_00.365129/model-00006-0.81162-0.67421-0.94490-0.69000.h5\n",
            "Epoch 7/30\n",
            "34/34 [==============================] - 81s 2s/step - loss: 0.7490 - categorical_accuracy: 0.7127 - val_loss: 0.8815 - val_categorical_accuracy: 0.6800\n",
            "\n",
            "Epoch 00007: saving model to model_init_2020-08-1622_15_00.365129/model-00007-0.74732-0.71795-0.88147-0.68000.h5\n",
            "Epoch 8/30\n",
            "34/34 [==============================] - 83s 2s/step - loss: 0.6972 - categorical_accuracy: 0.7281 - val_loss: 0.8462 - val_categorical_accuracy: 0.7100\n",
            "\n",
            "Epoch 00008: saving model to model_init_2020-08-1622_15_00.365129/model-00008-0.67965-0.74208-0.84622-0.71000.h5\n",
            "Epoch 9/30\n",
            "34/34 [==============================] - 83s 2s/step - loss: 0.6615 - categorical_accuracy: 0.7469 - val_loss: 0.8861 - val_categorical_accuracy: 0.6800\n",
            "\n",
            "Epoch 00009: saving model to model_init_2020-08-1622_15_00.365129/model-00009-0.63308-0.75716-0.88608-0.68000.h5\n",
            "Epoch 10/30\n",
            "34/34 [==============================] - 83s 2s/step - loss: 0.6129 - categorical_accuracy: 0.7594 - val_loss: 0.7296 - val_categorical_accuracy: 0.7900\n",
            "\n",
            "Epoch 00010: saving model to model_init_2020-08-1622_15_00.365129/model-00010-0.58462-0.76998-0.72958-0.79000.h5\n",
            "Epoch 11/30\n",
            "34/34 [==============================] - 81s 2s/step - loss: 0.5861 - categorical_accuracy: 0.7862 - val_loss: 0.9350 - val_categorical_accuracy: 0.6800\n",
            "\n",
            "Epoch 00011: saving model to model_init_2020-08-1622_15_00.365129/model-00011-0.55414-0.79336-0.93496-0.68000.h5\n",
            "Epoch 12/30\n",
            "34/34 [==============================] - 80s 2s/step - loss: 0.5199 - categorical_accuracy: 0.8098 - val_loss: 0.9301 - val_categorical_accuracy: 0.7100\n",
            "\n",
            "Epoch 00012: saving model to model_init_2020-08-1622_15_00.365129/model-00012-0.52241-0.80920-0.93010-0.71000.h5\n",
            "Epoch 13/30\n",
            "34/34 [==============================] - 80s 2s/step - loss: 0.4612 - categorical_accuracy: 0.8245 - val_loss: 0.8071 - val_categorical_accuracy: 0.7300\n",
            "\n",
            "Epoch 00013: saving model to model_init_2020-08-1622_15_00.365129/model-00013-0.45583-0.82428-0.80707-0.73000.h5\n",
            "Epoch 14/30\n",
            "34/34 [==============================] - 78s 2s/step - loss: 0.4469 - categorical_accuracy: 0.8333 - val_loss: 1.0467 - val_categorical_accuracy: 0.6300\n",
            "\n",
            "Epoch 00014: saving model to model_init_2020-08-1622_15_00.365129/model-00014-0.44643-0.83333-1.04675-0.63000.h5\n",
            "\n",
            "Epoch 00014: ReduceLROnPlateau reducing learning rate to 3.9999998989515007e-05.\n",
            "Epoch 15/30\n",
            "34/34 [==============================] - 78s 2s/step - loss: 0.4200 - categorical_accuracy: 0.8499 - val_loss: 0.8766 - val_categorical_accuracy: 0.6900\n",
            "\n",
            "Epoch 00015: saving model to model_init_2020-08-1622_15_00.365129/model-00015-0.41254-0.85445-0.87656-0.69000.h5\n",
            "Epoch 16/30\n",
            "34/34 [==============================] - 78s 2s/step - loss: 0.4878 - categorical_accuracy: 0.8278 - val_loss: 0.7625 - val_categorical_accuracy: 0.7800\n",
            "\n",
            "Epoch 00016: saving model to model_init_2020-08-1622_15_00.365129/model-00016-0.43692-0.84012-0.76250-0.78000.h5\n",
            "Epoch 17/30\n",
            "34/34 [==============================] - 78s 2s/step - loss: 0.4284 - categorical_accuracy: 0.8425 - val_loss: 0.7220 - val_categorical_accuracy: 0.7700\n",
            "\n",
            "Epoch 00017: saving model to model_init_2020-08-1622_15_00.365129/model-00017-0.40999-0.85520-0.72197-0.77000.h5\n",
            "Epoch 18/30\n",
            "34/34 [==============================] - 78s 2s/step - loss: 0.4291 - categorical_accuracy: 0.8503 - val_loss: 0.7080 - val_categorical_accuracy: 0.7600\n",
            "\n",
            "Epoch 00018: saving model to model_init_2020-08-1622_15_00.365129/model-00018-0.39875-0.85897-0.70799-0.76000.h5\n",
            "Epoch 19/30\n",
            "34/34 [==============================] - 78s 2s/step - loss: 0.3987 - categorical_accuracy: 0.8525 - val_loss: 0.6705 - val_categorical_accuracy: 0.8100\n",
            "\n",
            "Epoch 00019: saving model to model_init_2020-08-1622_15_00.365129/model-00019-0.38671-0.86124-0.67055-0.81000.h5\n",
            "Epoch 20/30\n",
            "34/34 [==============================] - 78s 2s/step - loss: 0.4351 - categorical_accuracy: 0.8536 - val_loss: 0.6619 - val_categorical_accuracy: 0.7800\n",
            "\n",
            "Epoch 00020: saving model to model_init_2020-08-1622_15_00.365129/model-00020-0.40902-0.85822-0.66194-0.78000.h5\n",
            "Epoch 21/30\n",
            "34/34 [==============================] - 78s 2s/step - loss: 0.3882 - categorical_accuracy: 0.8543 - val_loss: 0.6646 - val_categorical_accuracy: 0.7700\n",
            "\n",
            "Epoch 00021: saving model to model_init_2020-08-1622_15_00.365129/model-00021-0.38190-0.85897-0.66460-0.77000.h5\n",
            "Epoch 22/30\n",
            "34/34 [==============================] - 78s 2s/step - loss: 0.3894 - categorical_accuracy: 0.8584 - val_loss: 0.6847 - val_categorical_accuracy: 0.7600\n",
            "\n",
            "Epoch 00022: saving model to model_init_2020-08-1622_15_00.365129/model-00022-0.37235-0.86727-0.68473-0.76000.h5\n",
            "Epoch 23/30\n",
            "34/34 [==============================] - 79s 2s/step - loss: 0.3456 - categorical_accuracy: 0.8848 - val_loss: 0.6840 - val_categorical_accuracy: 0.7800\n",
            "\n",
            "Epoch 00023: saving model to model_init_2020-08-1622_15_00.365129/model-00023-0.34370-0.88612-0.68403-0.78000.h5\n",
            "Epoch 24/30\n",
            "34/34 [==============================] - 79s 2s/step - loss: 0.3554 - categorical_accuracy: 0.8690 - val_loss: 0.6648 - val_categorical_accuracy: 0.8400\n",
            "\n",
            "Epoch 00024: saving model to model_init_2020-08-1622_15_00.365129/model-00024-0.35988-0.86576-0.66477-0.84000.h5\n",
            "\n",
            "Epoch 00024: ReduceLROnPlateau reducing learning rate to 7.999999797903002e-06.\n",
            "Epoch 25/30\n",
            "34/34 [==============================] - 79s 2s/step - loss: 0.3440 - categorical_accuracy: 0.8852 - val_loss: 0.6557 - val_categorical_accuracy: 0.8400\n",
            "\n",
            "Epoch 00025: saving model to model_init_2020-08-1622_15_00.365129/model-00025-0.33466-0.89065-0.65574-0.84000.h5\n",
            "Epoch 26/30\n",
            "34/34 [==============================] - 80s 2s/step - loss: 0.3425 - categorical_accuracy: 0.8830 - val_loss: 0.6531 - val_categorical_accuracy: 0.8400\n",
            "\n",
            "Epoch 00026: saving model to model_init_2020-08-1622_15_00.365129/model-00026-0.33688-0.88839-0.65306-0.84000.h5\n",
            "Epoch 27/30\n",
            "34/34 [==============================] - 79s 2s/step - loss: 0.3349 - categorical_accuracy: 0.8852 - val_loss: 0.6519 - val_categorical_accuracy: 0.8300\n",
            "\n",
            "Epoch 00027: saving model to model_init_2020-08-1622_15_00.365129/model-00027-0.32623-0.89065-0.65192-0.83000.h5\n",
            "Epoch 28/30\n",
            "34/34 [==============================] - 79s 2s/step - loss: 0.3317 - categorical_accuracy: 0.8867 - val_loss: 0.6549 - val_categorical_accuracy: 0.8300\n",
            "\n",
            "Epoch 00028: saving model to model_init_2020-08-1622_15_00.365129/model-00028-0.32105-0.89216-0.65491-0.83000.h5\n",
            "Epoch 29/30\n",
            "34/34 [==============================] - 81s 2s/step - loss: 0.3379 - categorical_accuracy: 0.8793 - val_loss: 0.6538 - val_categorical_accuracy: 0.8200\n",
            "\n",
            "Epoch 00029: saving model to model_init_2020-08-1622_15_00.365129/model-00029-0.31837-0.88462-0.65382-0.82000.h5\n",
            "Epoch 30/30\n",
            "34/34 [==============================] - 81s 2s/step - loss: 0.4013 - categorical_accuracy: 0.8558 - val_loss: 0.6530 - val_categorical_accuracy: 0.8400\n",
            "\n",
            "Epoch 00030: saving model to model_init_2020-08-1622_15_00.365129/model-00030-0.35563-0.86878-0.65299-0.84000.h5\n"
          ],
          "name": "stdout"
        }
      ]
    },
    {
      "cell_type": "code",
      "metadata": {
        "id": "7YbIZbWhS2Wy",
        "outputId": "7e230a8e-4d2b-4f0a-970c-c326831bd1f3"
      },
      "source": [
        "plot(accuracy_check_model6)"
      ],
      "execution_count": null,
      "outputs": [
        {
          "output_type": "display_data",
          "data": {
            "image/png": "[encoded data removed]",
            "text/plain": [
              "<Figure size 1080x288 with 2 Axes>"
            ]
          },
          "metadata": {
            "tags": []
          }
        }
      ]
    },
    {
      "cell_type": "markdown",
      "metadata": {
        "id": "9zJfBbaSS2Wy"
      },
      "source": [
        "###### For the above  model the best validation accuracy is 84%"
      ]
    },
    {
      "cell_type": "markdown",
      "metadata": {
        "id": "BA4cBX41S2Wy"
      },
      "source": [
        "# Model 7 - CNN- LSTM Model"
      ]
    },
    {
      "cell_type": "code",
      "metadata": {
        "jupyter": {
          "outputs_hidden": true
        },
        "id": "sDUXVAtzS2Wz"
      },
      "source": [
        "class CNNRNN1(BuildModel):\n",
        "    \n",
        "    def define_model(self,lstm_cells=64,dense_neurons=64,dropout=0.25):\n",
        "\n",
        "        model = Sequential()\n",
        "\n",
        "        model.add(TimeDistributed(Conv2D(16, (3, 3) , padding='same', activation='relu'),\n",
        "                                  input_shape=(self.frames_to_sample,self.image_height,self.image_width,self.channels)))\n",
        "        model.add(TimeDistributed(BatchNormalization()))\n",
        "        model.add(TimeDistributed(MaxPooling2D((2, 2))))\n",
        "        \n",
        "        model.add(TimeDistributed(Conv2D(32, (3, 3) , padding='same', activation='relu')))\n",
        "        model.add(TimeDistributed(BatchNormalization()))\n",
        "        model.add(TimeDistributed(MaxPooling2D((2, 2))))\n",
        "        \n",
        "        model.add(TimeDistributed(Conv2D(64, (3, 3) , padding='same', activation='relu')))\n",
        "        model.add(TimeDistributed(BatchNormalization()))\n",
        "        model.add(TimeDistributed(MaxPooling2D((2, 2))))\n",
        "        \n",
        "        model.add(TimeDistributed(Conv2D(128, (3, 3) , padding='same', activation='relu')))\n",
        "        model.add(TimeDistributed(BatchNormalization()))\n",
        "        model.add(TimeDistributed(MaxPooling2D((2, 2))))\n",
        "        \n",
        "        model.add(TimeDistributed(Conv2D(256, (3, 3) , padding='same', activation='relu')))\n",
        "        model.add(TimeDistributed(BatchNormalization()))\n",
        "        model.add(TimeDistributed(MaxPooling2D((2, 2))))\n",
        "        \n",
        "        model.add(TimeDistributed(Flatten()))\n",
        "\n",
        "\n",
        "        model.add(LSTM(lstm_cells))\n",
        "        model.add(Dropout(dropout))\n",
        "        \n",
        "        model.add(Dense(dense_neurons,activation='relu'))\n",
        "        model.add(Dropout(dropout))\n",
        "        \n",
        "        model.add(Dense(self.num_classes, activation='softmax'))\n",
        "        optimiser = optimizers.Adam()\n",
        "        model.compile(optimizer=optimiser, loss='categorical_crossentropy', metrics=['categorical_accuracy'])\n",
        "        return model"
      ],
      "execution_count": null,
      "outputs": []
    },
    {
      "cell_type": "code",
      "metadata": {
        "id": "zLYsfr6DS2Wz",
        "outputId": "0093e96e-28d9-428b-c076-85c7be534c63"
      },
      "source": [
        "cnn_rnn1=CNNRNN1()\n",
        "cnn_rnn1.initialize_src_path(main_folder)\n",
        "cnn_rnn1.initialize_image_properties(image_height=120,image_width=120)\n",
        "cnn_rnn1.initialize_hyperparams(frames_to_sample=18,batch_size=20,num_epochs=20)\n",
        "cnn_rnn1_model=cnn_rnn1.define_model(lstm_cells=128,dense_neurons=128,dropout=0.25)\n",
        "cnn_rnn1_model.summary()"
      ],
      "execution_count": null,
      "outputs": [
        {
          "output_type": "stream",
          "text": [
            "_________________________________________________________________\n",
            "Layer (type)                 Output Shape              Param #   \n",
            "=================================================================\n",
            "time_distributed_1 (TimeDist (None, 18, 120, 120, 16)  448       \n",
            "_________________________________________________________________\n",
            "time_distributed_2 (TimeDist (None, 18, 120, 120, 16)  64        \n",
            "_________________________________________________________________\n",
            "time_distributed_3 (TimeDist (None, 18, 60, 60, 16)    0         \n",
            "_________________________________________________________________\n",
            "time_distributed_4 (TimeDist (None, 18, 60, 60, 32)    4640      \n",
            "_________________________________________________________________\n",
            "time_distributed_5 (TimeDist (None, 18, 60, 60, 32)    128       \n",
            "_________________________________________________________________\n",
            "time_distributed_6 (TimeDist (None, 18, 30, 30, 32)    0         \n",
            "_________________________________________________________________\n",
            "time_distributed_7 (TimeDist (None, 18, 30, 30, 64)    18496     \n",
            "_________________________________________________________________\n",
            "time_distributed_8 (TimeDist (None, 18, 30, 30, 64)    256       \n",
            "_________________________________________________________________\n",
            "time_distributed_9 (TimeDist (None, 18, 15, 15, 64)    0         \n",
            "_________________________________________________________________\n",
            "time_distributed_10 (TimeDis (None, 18, 15, 15, 128)   73856     \n",
            "_________________________________________________________________\n",
            "time_distributed_11 (TimeDis (None, 18, 15, 15, 128)   512       \n",
            "_________________________________________________________________\n",
            "time_distributed_12 (TimeDis (None, 18, 7, 7, 128)     0         \n",
            "_________________________________________________________________\n",
            "time_distributed_13 (TimeDis (None, 18, 7, 7, 256)     295168    \n",
            "_________________________________________________________________\n",
            "time_distributed_14 (TimeDis (None, 18, 7, 7, 256)     1024      \n",
            "_________________________________________________________________\n",
            "time_distributed_15 (TimeDis (None, 18, 3, 3, 256)     0         \n",
            "_________________________________________________________________\n",
            "time_distributed_16 (TimeDis (None, 18, 2304)          0         \n",
            "_________________________________________________________________\n",
            "lstm_1 (LSTM)                (None, 128)               1245696   \n",
            "_________________________________________________________________\n",
            "dropout_1 (Dropout)          (None, 128)               0         \n",
            "_________________________________________________________________\n",
            "dense_1 (Dense)              (None, 128)               16512     \n",
            "_________________________________________________________________\n",
            "dropout_2 (Dropout)          (None, 128)               0         \n",
            "_________________________________________________________________\n",
            "dense_2 (Dense)              (None, 5)                 645       \n",
            "=================================================================\n",
            "Total params: 1,657,445\n",
            "Trainable params: 1,656,453\n",
            "Non-trainable params: 992\n",
            "_________________________________________________________________\n"
          ],
          "name": "stdout"
        }
      ]
    },
    {
      "cell_type": "code",
      "metadata": {
        "id": "KD_ert6VS2Wz",
        "outputId": "f92fba09-7d4d-4287-b8c1-9c38858d4360"
      },
      "source": [
        "print(\"Total Params:\", cnn_rnn1_model.count_params())\n",
        "accuracy_check_model7=cnn_rnn1.train_model(cnn_rnn1_model,augment_data=True)"
      ],
      "execution_count": null,
      "outputs": [
        {
          "output_type": "stream",
          "text": [
            "Total Params: 1657445\n",
            "Epoch 1/20\n",
            "34/34 [==============================] - 190s 6s/step - loss: 1.3851 - categorical_accuracy: 0.4003 - val_loss: 1.2254 - val_categorical_accuracy: 0.5100\n",
            "\n",
            "Epoch 00001: saving model to model_init_2020-08-1706_26_13.859990/model-00001-1.38676-0.39367-1.22537-0.51000.h5\n",
            "Epoch 2/20\n",
            "34/34 [==============================] - 98s 3s/step - loss: 1.0953 - categorical_accuracy: 0.5460 - val_loss: 0.9736 - val_categorical_accuracy: 0.5800\n",
            "\n",
            "Epoch 00002: saving model to model_init_2020-08-1706_26_13.859990/model-00002-1.08392-0.55128-0.97363-0.58000.h5\n",
            "Epoch 3/20\n",
            "34/34 [==============================] - 98s 3s/step - loss: 0.9323 - categorical_accuracy: 0.6240 - val_loss: 0.8850 - val_categorical_accuracy: 0.6100\n",
            "\n",
            "Epoch 00003: saving model to model_init_2020-08-1706_26_13.859990/model-00003-0.94717-0.61463-0.88499-0.61000.h5\n",
            "Epoch 4/20\n",
            "34/34 [==============================] - 100s 3s/step - loss: 0.8149 - categorical_accuracy: 0.6707 - val_loss: 0.9840 - val_categorical_accuracy: 0.5900\n",
            "\n",
            "Epoch 00004: saving model to model_init_2020-08-1706_26_13.859990/model-00004-0.82231-0.66667-0.98398-0.59000.h5\n",
            "Epoch 5/20\n",
            "34/34 [==============================] - 100s 3s/step - loss: 0.7863 - categorical_accuracy: 0.6862 - val_loss: 1.1379 - val_categorical_accuracy: 0.5500\n",
            "\n",
            "Epoch 00005: saving model to model_init_2020-08-1706_26_13.859990/model-00005-0.77686-0.69080-1.13795-0.55000.h5\n",
            "Epoch 6/20\n",
            "34/34 [==============================] - 101s 3s/step - loss: 0.7346 - categorical_accuracy: 0.7263 - val_loss: 0.8894 - val_categorical_accuracy: 0.5900\n",
            "\n",
            "Epoch 00006: saving model to model_init_2020-08-1706_26_13.859990/model-00006-0.73904-0.72775-0.88942-0.59000.h5\n",
            "Epoch 7/20\n",
            "34/34 [==============================] - 100s 3s/step - loss: 0.6652 - categorical_accuracy: 0.7333 - val_loss: 0.9183 - val_categorical_accuracy: 0.6200\n",
            "\n",
            "Epoch 00007: saving model to model_init_2020-08-1706_26_13.859990/model-00007-0.62872-0.74736-0.91831-0.62000.h5\n",
            "\n",
            "Epoch 00007: ReduceLROnPlateau reducing learning rate to 0.00020000000949949026.\n",
            "Epoch 8/20\n",
            "34/34 [==============================] - 98s 3s/step - loss: 0.5054 - categorical_accuracy: 0.8021 - val_loss: 0.6787 - val_categorical_accuracy: 0.7500\n",
            "\n",
            "Epoch 00008: saving model to model_init_2020-08-1706_26_13.859990/model-00008-0.49188-0.81373-0.67866-0.75000.h5\n",
            "Epoch 9/20\n",
            "34/34 [==============================] - 99s 3s/step - loss: 0.3977 - categorical_accuracy: 0.8536 - val_loss: 0.6640 - val_categorical_accuracy: 0.7200\n",
            "\n",
            "Epoch 00009: saving model to model_init_2020-08-1706_26_13.859990/model-00009-0.40544-0.84992-0.66401-0.72000.h5\n",
            "Epoch 10/20\n",
            "34/34 [==============================] - 98s 3s/step - loss: 0.3229 - categorical_accuracy: 0.8940 - val_loss: 0.6649 - val_categorical_accuracy: 0.7500\n",
            "\n",
            "Epoch 00010: saving model to model_init_2020-08-1706_26_13.859990/model-00010-0.31951-0.89140-0.66494-0.75000.h5\n",
            "Epoch 11/20\n",
            "34/34 [==============================] - 99s 3s/step - loss: 0.2787 - categorical_accuracy: 0.9043 - val_loss: 0.6315 - val_categorical_accuracy: 0.7800\n",
            "\n",
            "Epoch 00011: saving model to model_init_2020-08-1706_26_13.859990/model-00011-0.28283-0.90196-0.63151-0.78000.h5\n",
            "Epoch 12/20\n",
            "34/34 [==============================] - 97s 3s/step - loss: 0.2540 - categorical_accuracy: 0.9099 - val_loss: 0.6367 - val_categorical_accuracy: 0.7700\n",
            "\n",
            "Epoch 00012: saving model to model_init_2020-08-1706_26_13.859990/model-00012-0.25351-0.91176-0.63669-0.77000.h5\n",
            "Epoch 13/20\n",
            "34/34 [==============================] - 99s 3s/step - loss: 0.2113 - categorical_accuracy: 0.9316 - val_loss: 0.5969 - val_categorical_accuracy: 0.7700\n",
            "\n",
            "Epoch 00013: saving model to model_init_2020-08-1706_26_13.859990/model-00013-0.21487-0.92986-0.59690-0.77000.h5\n",
            "Epoch 14/20\n",
            "34/34 [==============================] - 98s 3s/step - loss: 0.2445 - categorical_accuracy: 0.9246 - val_loss: 0.7027 - val_categorical_accuracy: 0.7400\n",
            "\n",
            "Epoch 00014: saving model to model_init_2020-08-1706_26_13.859990/model-00014-0.20677-0.93514-0.70272-0.74000.h5\n",
            "Epoch 15/20\n",
            "34/34 [==============================] - 98s 3s/step - loss: 0.2087 - categorical_accuracy: 0.9257 - val_loss: 0.6229 - val_categorical_accuracy: 0.7700\n",
            "\n",
            "Epoch 00015: saving model to model_init_2020-08-1706_26_13.859990/model-00015-0.20926-0.92383-0.62291-0.77000.h5\n",
            "Epoch 16/20\n",
            "34/34 [==============================] - 99s 3s/step - loss: 0.1750 - categorical_accuracy: 0.9415 - val_loss: 0.5106 - val_categorical_accuracy: 0.8000\n",
            "\n",
            "Epoch 00016: saving model to model_init_2020-08-1706_26_13.859990/model-00016-0.17077-0.94419-0.51059-0.80000.h5\n",
            "Epoch 17/20\n",
            "34/34 [==============================] - 99s 3s/step - loss: 0.1549 - categorical_accuracy: 0.9481 - val_loss: 0.5551 - val_categorical_accuracy: 0.8100\n",
            "\n",
            "Epoch 00017: saving model to model_init_2020-08-1706_26_13.859990/model-00017-0.15373-0.95098-0.55506-0.81000.h5\n",
            "Epoch 18/20\n",
            "34/34 [==============================] - 98s 3s/step - loss: 0.1434 - categorical_accuracy: 0.9540 - val_loss: 0.4584 - val_categorical_accuracy: 0.8100\n",
            "\n",
            "Epoch 00018: saving model to model_init_2020-08-1706_26_13.859990/model-00018-0.12257-0.96531-0.45838-0.81000.h5\n",
            "Epoch 19/20\n",
            "34/34 [==============================] - 98s 3s/step - loss: 0.1285 - categorical_accuracy: 0.9592 - val_loss: 0.7827 - val_categorical_accuracy: 0.7200\n",
            "\n",
            "Epoch 00019: saving model to model_init_2020-08-1706_26_13.859990/model-00019-0.11978-0.96229-0.78266-0.72000.h5\n",
            "Epoch 20/20\n",
            "34/34 [==============================] - 98s 3s/step - loss: 0.1356 - categorical_accuracy: 0.9577 - val_loss: 0.5010 - val_categorical_accuracy: 0.8100\n",
            "\n",
            "Epoch 00020: saving model to model_init_2020-08-1706_26_13.859990/model-00020-0.12504-0.96078-0.50099-0.81000.h5\n"
          ],
          "name": "stdout"
        }
      ]
    },
    {
      "cell_type": "code",
      "metadata": {
        "id": "9DguyKJ7S2Wz",
        "outputId": "d7e3a01f-b047-4413-eb7a-68645cfc8b32"
      },
      "source": [
        "plot(accuracy_check_model7)"
      ],
      "execution_count": null,
      "outputs": [
        {
          "output_type": "display_data",
          "data": {
            "image/png": "[encoded data removed]",
            "text/plain": [
              "<Figure size 1080x288 with 2 Axes>"
            ]
          },
          "metadata": {
            "tags": []
          }
        }
      ]
    },
    {
      "cell_type": "markdown",
      "metadata": {
        "id": "B8YGIErMS2W0"
      },
      "source": [
        "##### For CNN - LSTM model we get a perfect validation accuracy of 81%"
      ]
    },
    {
      "cell_type": "markdown",
      "metadata": {
        "id": "6HTETJWrS2W0"
      },
      "source": [
        "# Augmentation Process"
      ]
    },
    {
      "cell_type": "code",
      "metadata": {
        "jupyter": {
          "outputs_hidden": true
        },
        "id": "4LQVC0QfS2W0"
      },
      "source": [
        "class BuildModelMoreAugmentation(metaclass= abc.ABCMeta):\n",
        "    \n",
        "    def initialize_src_path(self,main_folder):\n",
        "        self.train_doc = np.random.permutation(open(main_folder + '/' + 'train.csv').readlines())\n",
        "        self.val_doc = np.random.permutation(open(main_folder + '/' + 'val.csv').readlines())\n",
        "        self.train_path = main_folder + '/' + 'train'\n",
        "        self.val_path =  main_folder + '/' + 'val'\n",
        "        self.num_train_sequences = len(self.train_doc)\n",
        "        self.num_val_sequences = len(self.val_doc)\n",
        "        \n",
        "    def initialize_image_properties(self,image_height=100,image_width=100):\n",
        "        self.image_height=image_height\n",
        "        self.image_width=image_width\n",
        "        self.channels=3\n",
        "        self.num_classes=5\n",
        "        self.total_frames=30\n",
        "          \n",
        "    def initialize_hyperparams(self,frames_to_sample=30,batch_size=20,num_epochs=20):\n",
        "        self.frames_to_sample=frames_to_sample\n",
        "        self.batch_size=batch_size\n",
        "        self.num_epochs=num_epochs\n",
        "        \n",
        "        \n",
        "    def generator(self,source_path, folder_list, augment=False):\n",
        "        img_idx = np.round(np.linspace(0,self.total_frames-1,self.frames_to_sample)).astype(int)\n",
        "        batch_size=self.batch_size\n",
        "        while True:\n",
        "            t = np.random.permutation(folder_list)\n",
        "            num_batches = len(t)//batch_size\n",
        "        \n",
        "            for batch in range(num_batches): \n",
        "                batch_data, batch_labels= self.one_batch_data(source_path,t,batch,batch_size,img_idx,augment)\n",
        "                yield batch_data, batch_labels \n",
        "\n",
        "            remaining_seq=len(t)%batch_size\n",
        "        \n",
        "            if (remaining_seq != 0):\n",
        "                batch_data, batch_labels= self.one_batch_data(source_path,t,num_batches,batch_size,img_idx,augment,remaining_seq)\n",
        "                yield batch_data, batch_labels \n",
        "    \n",
        "    \n",
        "    def one_batch_data(self,source_path,t,batch,batch_size,img_idx,augment,remaining_seq=0):\n",
        "    \n",
        "        seq_len = remaining_seq if remaining_seq else batch_size\n",
        "    \n",
        "        batch_data = np.zeros((seq_len,len(img_idx),self.image_height,self.image_width,self.channels)) \n",
        "        batch_labels = np.zeros((seq_len,self.num_classes)) \n",
        "    \n",
        "        if (augment): batch_data_aug = np.zeros((seq_len,len(img_idx),self.image_height,self.image_width,self.channels))\n",
        "\n",
        "        \n",
        "        for folder in range(seq_len): \n",
        "            imgs = os.listdir(source_path+'/'+ t[folder + (batch*batch_size)].split(';')[0]) \n",
        "            for idx,item in enumerate(img_idx): \n",
        "                image = imread(source_path+'/'+ t[folder + (batch*batch_size)].strip().split(';')[0]+'/'+imgs[item]).astype(np.float32)\n",
        "                image_resized=imresize(image,(self.image_height,self.image_width,3))\n",
        "            \n",
        "\n",
        "                batch_data[folder,idx,:,:,0] = (image_resized[:,:,0])/255\n",
        "                batch_data[folder,idx,:,:,1] = (image_resized[:,:,1])/255\n",
        "                batch_data[folder,idx,:,:,2] = (image_resized[:,:,2])/255\n",
        "            \n",
        "                if (augment):\n",
        "                    shifted = cv2.warpAffine(image, \n",
        "                                             np.float32([[1, 0, np.random.randint(-30,30)],[0, 1, np.random.randint(-30,30)]]), \n",
        "                                            (image.shape[1], image.shape[0]))\n",
        "                    \n",
        "                    gray = cv2.cvtColor(shifted,cv2.COLOR_BGR2GRAY)\n",
        "\n",
        "                    x0, y0 = np.argwhere(gray > 0).min(axis=0)\n",
        "                    x1, y1 = np.argwhere(gray > 0).max(axis=0) \n",
        "                    \n",
        "                    cropped=shifted[x0:x1,y0:y1,:]\n",
        "                    \n",
        "                    image_resized=imresize(cropped,(self.image_height,self.image_width,3))\n",
        "                    \n",
        "                    M = cv2.getRotationMatrix2D((self.image_width//2,self.image_height//2),\n",
        "                                                np.random.randint(-10,10), 1.0)\n",
        "                    rotated = cv2.warpAffine(image_resized, M, (self.image_width, self.image_height))\n",
        "                  \n",
        "                    batch_data_aug[folder,idx,:,:,0] = (rotated[:,:,0])/255\n",
        "                    batch_data_aug[folder,idx,:,:,1] = (rotated[:,:,1])/255\n",
        "                    batch_data_aug[folder,idx,:,:,2] = (rotated[:,:,2])/255\n",
        "                \n",
        "            \n",
        "            batch_labels[folder, int(t[folder + (batch*batch_size)].strip().split(';')[2])] = 1\n",
        "            \n",
        "    \n",
        "        if (augment):\n",
        "            batch_data=np.concatenate([batch_data,batch_data_aug])\n",
        "            batch_labels=np.concatenate([batch_labels,batch_labels])\n",
        "\n",
        "        \n",
        "        return(batch_data,batch_labels)\n",
        "    \n",
        "    \n",
        "    def train_model(self, model, augment_data=False):\n",
        "        train_generator = self.generator(self.train_path, self.train_doc,augment=augment_data)\n",
        "        val_generator = self.generator(self.val_path, self.val_doc)\n",
        "\n",
        "        model_name = 'model_init' + '_' + str(datetime.datetime.now()).replace(' ','').replace(':','_') + '/'\n",
        "    \n",
        "        if not os.path.exists(model_name):\n",
        "            os.mkdir(model_name)\n",
        "        \n",
        "        filepath = model_name + 'model-{epoch:05d}-{loss:.5f}-{categorical_accuracy:.5f}-{val_loss:.5f}-{val_categorical_accuracy:.5f}.h5'\n",
        "\n",
        "        checkpoint = ModelCheckpoint(filepath, monitor='val_loss', verbose=1, save_best_only=False, save_weights_only=False, mode='auto', period=1)\n",
        "        LR = ReduceLROnPlateau(monitor='val_loss', factor=0.2, verbose=1, patience=4)\n",
        "        callbacks_list = [checkpoint, LR]\n",
        "\n",
        "        if (self.num_train_sequences%self.batch_size) == 0:\n",
        "            steps_per_epoch = int(self.num_train_sequences/self.batch_size)\n",
        "        else:\n",
        "            steps_per_epoch = (self.num_train_sequences//self.batch_size) + 1\n",
        "\n",
        "        if (self.num_val_sequences%self.batch_size) == 0:\n",
        "            validation_steps = int(self.num_val_sequences/self.batch_size)\n",
        "        else:\n",
        "            validation_steps = (self.num_val_sequences//self.batch_size) + 1\n",
        "    \n",
        "        history=model.fit_generator(train_generator, steps_per_epoch=steps_per_epoch, epochs=self.num_epochs, verbose=1, \n",
        "                            callbacks=callbacks_list, validation_data=val_generator, \n",
        "                            validation_steps=validation_steps, class_weight=None, workers=1, initial_epoch=0)\n",
        "        return history\n",
        "\n",
        "        \n",
        "    @abc.abstractmethod\n",
        "    def define_model(self):\n",
        "        pass"
      ],
      "execution_count": null,
      "outputs": []
    },
    {
      "cell_type": "markdown",
      "metadata": {
        "id": "_FY_w6DcS2W0"
      },
      "source": [
        "# Model 8 - (3,3,3) Filter & 160x160 Image resolution"
      ]
    },
    {
      "cell_type": "code",
      "metadata": {
        "jupyter": {
          "outputs_hidden": true
        },
        "id": "ZQf8Z36ES2W1"
      },
      "source": [
        "class ModelConv3D8(BuildModelMoreAugmentation):\n",
        "    \n",
        "    def define_model(self,filtersize=(3,3,3),dense_neurons=64,dropout=0.25):\n",
        "\n",
        "        model = Sequential()\n",
        "        model.add(Conv3D(16, filtersize, padding='same',\n",
        "                 input_shape=(self.frames_to_sample,self.image_height,self.image_width,self.channels)))\n",
        "        model.add(Activation('relu'))\n",
        "        model.add(BatchNormalization())\n",
        "        model.add(MaxPooling3D(pool_size=(2, 2, 2)))\n",
        "\n",
        "        model.add(Conv3D(32, filtersize, padding='same'))\n",
        "        model.add(Activation('relu'))\n",
        "        model.add(BatchNormalization())\n",
        "        model.add(MaxPooling3D(pool_size=(2, 2, 2)))\n",
        "\n",
        "        model.add(Conv3D(64, filtersize, padding='same'))\n",
        "        model.add(Activation('relu'))\n",
        "        model.add(BatchNormalization())\n",
        "        model.add(MaxPooling3D(pool_size=(2, 2, 2)))\n",
        "\n",
        "        model.add(Conv3D(128, filtersize, padding='same'))\n",
        "        model.add(Activation('relu'))\n",
        "        model.add(BatchNormalization())\n",
        "        model.add(MaxPooling3D(pool_size=(2, 2, 2)))\n",
        "\n",
        "        model.add(Flatten())\n",
        "        model.add(Dense(dense_neurons,activation='relu'))\n",
        "        model.add(BatchNormalization())\n",
        "        model.add(Dropout(dropout))\n",
        "\n",
        "        model.add(Dense(dense_neurons,activation='relu'))\n",
        "        model.add(BatchNormalization())\n",
        "        model.add(Dropout(dropout))\n",
        "\n",
        "\n",
        "        model.add(Dense(self.num_classes,activation='softmax'))\n",
        "\n",
        "        optimiser = optimizers.Adam(lr=0.0002)\n",
        "        model.compile(optimizer=optimiser, loss='categorical_crossentropy', metrics=['categorical_accuracy'])\n",
        "        return model"
      ],
      "execution_count": null,
      "outputs": []
    },
    {
      "cell_type": "code",
      "metadata": {
        "id": "IvvVPPTBS2W1",
        "outputId": "9758029c-08a7-4d48-f021-7e7f26fcf3d1"
      },
      "source": [
        "Conv3D8=ModelConv3D8()\n",
        "Conv3D8.initialize_src_path(main_folder)\n",
        "Conv3D8.initialize_image_properties(image_height=160,image_width=160)\n",
        "Conv3D8.initialize_hyperparams(frames_to_sample=20,batch_size=20,num_epochs=30)\n",
        "Conv3D8_model=Conv3D8.define_model(dense_neurons=256,dropout=0.5)\n",
        "Conv3D8_model.summary()"
      ],
      "execution_count": null,
      "outputs": [
        {
          "output_type": "stream",
          "text": [
            "_________________________________________________________________\n",
            "Layer (type)                 Output Shape              Param #   \n",
            "=================================================================\n",
            "conv3d_1 (Conv3D)            (None, 20, 160, 160, 16)  1312      \n",
            "_________________________________________________________________\n",
            "activation_1 (Activation)    (None, 20, 160, 160, 16)  0         \n",
            "_________________________________________________________________\n",
            "batch_normalization_6 (Batch (None, 20, 160, 160, 16)  64        \n",
            "_________________________________________________________________\n",
            "max_pooling3d_1 (MaxPooling3 (None, 10, 80, 80, 16)    0         \n",
            "_________________________________________________________________\n",
            "conv3d_2 (Conv3D)            (None, 10, 80, 80, 32)    13856     \n",
            "_________________________________________________________________\n",
            "activation_2 (Activation)    (None, 10, 80, 80, 32)    0         \n",
            "_________________________________________________________________\n",
            "batch_normalization_7 (Batch (None, 10, 80, 80, 32)    128       \n",
            "_________________________________________________________________\n",
            "max_pooling3d_2 (MaxPooling3 (None, 5, 40, 40, 32)     0         \n",
            "_________________________________________________________________\n",
            "conv3d_3 (Conv3D)            (None, 5, 40, 40, 64)     55360     \n",
            "_________________________________________________________________\n",
            "activation_3 (Activation)    (None, 5, 40, 40, 64)     0         \n",
            "_________________________________________________________________\n",
            "batch_normalization_8 (Batch (None, 5, 40, 40, 64)     256       \n",
            "_________________________________________________________________\n",
            "max_pooling3d_3 (MaxPooling3 (None, 2, 20, 20, 64)     0         \n",
            "_________________________________________________________________\n",
            "conv3d_4 (Conv3D)            (None, 2, 20, 20, 128)    221312    \n",
            "_________________________________________________________________\n",
            "activation_4 (Activation)    (None, 2, 20, 20, 128)    0         \n",
            "_________________________________________________________________\n",
            "batch_normalization_9 (Batch (None, 2, 20, 20, 128)    512       \n",
            "_________________________________________________________________\n",
            "max_pooling3d_4 (MaxPooling3 (None, 1, 10, 10, 128)    0         \n",
            "_________________________________________________________________\n",
            "flatten_2 (Flatten)          (None, 12800)             0         \n",
            "_________________________________________________________________\n",
            "dense_3 (Dense)              (None, 256)               3277056   \n",
            "_________________________________________________________________\n",
            "batch_normalization_10 (Batc (None, 256)               1024      \n",
            "_________________________________________________________________\n",
            "dropout_3 (Dropout)          (None, 256)               0         \n",
            "_________________________________________________________________\n",
            "dense_4 (Dense)              (None, 256)               65792     \n",
            "_________________________________________________________________\n",
            "batch_normalization_11 (Batc (None, 256)               1024      \n",
            "_________________________________________________________________\n",
            "dropout_4 (Dropout)          (None, 256)               0         \n",
            "_________________________________________________________________\n",
            "dense_5 (Dense)              (None, 5)                 1285      \n",
            "=================================================================\n",
            "Total params: 3,638,981\n",
            "Trainable params: 3,637,477\n",
            "Non-trainable params: 1,504\n",
            "_________________________________________________________________\n"
          ],
          "name": "stdout"
        }
      ]
    },
    {
      "cell_type": "code",
      "metadata": {
        "id": "YtWAwTUpS2W1",
        "outputId": "b7aa5cd5-4c47-4f40-e2e7-71ec8897d00d"
      },
      "source": [
        "print(\"Total Params:\", Conv3D8_model.count_params())\n",
        "accuracy_check_model8=Conv3D8.train_model(Conv3D8_model,augment_data=True)"
      ],
      "execution_count": null,
      "outputs": [
        {
          "output_type": "stream",
          "text": [
            "Total Params: 3638981\n",
            "Epoch 1/30\n",
            "34/34 [==============================] - 141s 4s/step - loss: 0.4433 - categorical_accuracy: 0.8311 - val_loss: 0.5234 - val_categorical_accuracy: 0.8200\n",
            "\n",
            "Epoch 00001: saving model to model_init_2020-08-1708_52_44.883497/model-00001-0.44235-0.83107-0.52339-0.82000.h5\n",
            "Epoch 2/30\n",
            "34/34 [==============================] - 136s 4s/step - loss: 0.4365 - categorical_accuracy: 0.8355 - val_loss: 0.5248 - val_categorical_accuracy: 0.8200\n",
            "\n",
            "Epoch 00002: saving model to model_init_2020-08-1708_52_44.883497/model-00002-0.43716-0.83560-0.52485-0.82000.h5\n",
            "Epoch 3/30\n",
            "34/34 [==============================] - 135s 4s/step - loss: 0.3902 - categorical_accuracy: 0.8473 - val_loss: 0.5195 - val_categorical_accuracy: 0.8300\n",
            "\n",
            "Epoch 00003: saving model to model_init_2020-08-1708_52_44.883497/model-00003-0.38787-0.84766-0.51952-0.83000.h5\n",
            "Epoch 4/30\n",
            "34/34 [==============================] - 136s 4s/step - loss: 0.4420 - categorical_accuracy: 0.8389 - val_loss: 0.5205 - val_categorical_accuracy: 0.8300\n",
            "\n",
            "Epoch 00004: saving model to model_init_2020-08-1708_52_44.883497/model-00004-0.43854-0.84314-0.52047-0.83000.h5\n",
            "Epoch 5/30\n",
            "34/34 [==============================] - 137s 4s/step - loss: 0.5242 - categorical_accuracy: 0.8205 - val_loss: 0.5239 - val_categorical_accuracy: 0.8200\n",
            "\n",
            "Epoch 00005: saving model to model_init_2020-08-1708_52_44.883497/model-00005-0.45806-0.83258-0.52390-0.82000.h5\n",
            "Epoch 6/30\n",
            "34/34 [==============================] - 137s 4s/step - loss: 0.4426 - categorical_accuracy: 0.8337 - val_loss: 0.5417 - val_categorical_accuracy: 0.8200\n",
            "\n",
            "Epoch 00006: saving model to model_init_2020-08-1708_52_44.883497/model-00006-0.43048-0.84615-0.54172-0.82000.h5\n",
            "Epoch 7/30\n",
            "34/34 [==============================] - 134s 4s/step - loss: 0.4513 - categorical_accuracy: 0.8355 - val_loss: 0.5376 - val_categorical_accuracy: 0.8200\n",
            "\n",
            "Epoch 00007: saving model to model_init_2020-08-1708_52_44.883497/model-00007-0.42205-0.84389-0.53755-0.82000.h5\n",
            "\n",
            "Epoch 00007: ReduceLROnPlateau reducing learning rate to 1.5999999959603884e-06.\n",
            "Epoch 8/30\n",
            "34/34 [==============================] - 135s 4s/step - loss: 0.4155 - categorical_accuracy: 0.8484 - val_loss: 0.5331 - val_categorical_accuracy: 0.8100\n",
            "\n",
            "Epoch 00008: saving model to model_init_2020-08-1708_52_44.883497/model-00008-0.42196-0.84465-0.53310-0.81000.h5\n",
            "Epoch 9/30\n",
            "34/34 [==============================] - 134s 4s/step - loss: 0.4949 - categorical_accuracy: 0.8212 - val_loss: 0.5310 - val_categorical_accuracy: 0.8200\n",
            "\n",
            "Epoch 00009: saving model to model_init_2020-08-1708_52_44.883497/model-00009-0.41631-0.84163-0.53097-0.82000.h5\n",
            "Epoch 10/30\n",
            "34/34 [==============================] - 136s 4s/step - loss: 0.4331 - categorical_accuracy: 0.8447 - val_loss: 0.5289 - val_categorical_accuracy: 0.8100\n",
            "\n",
            "Epoch 00010: saving model to model_init_2020-08-1708_52_44.883497/model-00010-0.42883-0.84917-0.52894-0.81000.h5\n",
            "Epoch 11/30\n",
            "34/34 [==============================] - 137s 4s/step - loss: 0.5332 - categorical_accuracy: 0.8289 - val_loss: 0.5311 - val_categorical_accuracy: 0.8100\n",
            "\n",
            "Epoch 00011: saving model to model_init_2020-08-1708_52_44.883497/model-00011-0.43836-0.84540-0.53109-0.81000.h5\n",
            "\n",
            "Epoch 00011: ReduceLROnPlateau reducing learning rate to 3.200000037395512e-07.\n",
            "Epoch 12/30\n",
            "34/34 [==============================] - 137s 4s/step - loss: 0.4068 - categorical_accuracy: 0.8488 - val_loss: 0.5303 - val_categorical_accuracy: 0.8100\n",
            "\n",
            "Epoch 00012: saving model to model_init_2020-08-1708_52_44.883497/model-00012-0.40415-0.84917-0.53029-0.81000.h5\n",
            "Epoch 13/30\n",
            "34/34 [==============================] - 138s 4s/step - loss: 0.4271 - categorical_accuracy: 0.8422 - val_loss: 0.5303 - val_categorical_accuracy: 0.8200\n",
            "\n",
            "Epoch 00013: saving model to model_init_2020-08-1708_52_44.883497/model-00013-0.42867-0.84238-0.53034-0.82000.h5\n",
            "Epoch 14/30\n",
            "34/34 [==============================] - 138s 4s/step - loss: 0.4580 - categorical_accuracy: 0.8348 - val_loss: 0.5311 - val_categorical_accuracy: 0.8200\n",
            "\n",
            "Epoch 00014: saving model to model_init_2020-08-1708_52_44.883497/model-00014-0.44515-0.84314-0.53106-0.82000.h5\n",
            "Epoch 15/30\n",
            "34/34 [==============================] - 137s 4s/step - loss: 0.5127 - categorical_accuracy: 0.8370 - val_loss: 0.5297 - val_categorical_accuracy: 0.8200\n",
            "\n",
            "Epoch 00015: saving model to model_init_2020-08-1708_52_44.883497/model-00015-0.43833-0.84540-0.52973-0.82000.h5\n",
            "\n",
            "Epoch 00015: ReduceLROnPlateau reducing learning rate to 6.399999961104187e-08.\n",
            "Epoch 16/30\n",
            "34/34 [==============================] - 137s 4s/step - loss: 0.5179 - categorical_accuracy: 0.8098 - val_loss: 0.5308 - val_categorical_accuracy: 0.8200\n",
            "\n",
            "Epoch 00016: saving model to model_init_2020-08-1708_52_44.883497/model-00016-0.50845-0.81750-0.53077-0.82000.h5\n",
            "Epoch 17/30\n",
            "34/34 [==============================] - 138s 4s/step - loss: 0.4192 - categorical_accuracy: 0.8341 - val_loss: 0.5305 - val_categorical_accuracy: 0.8200\n",
            "\n",
            "Epoch 00017: saving model to model_init_2020-08-1708_52_44.883497/model-00017-0.40019-0.85068-0.53052-0.82000.h5\n",
            "Epoch 18/30\n",
            "34/34 [==============================] - 136s 4s/step - loss: 0.4139 - categorical_accuracy: 0.8455 - val_loss: 0.5317 - val_categorical_accuracy: 0.8100\n",
            "\n",
            "Epoch 00018: saving model to model_init_2020-08-1708_52_44.883497/model-00018-0.42082-0.84163-0.53169-0.81000.h5\n",
            "Epoch 19/30\n",
            "34/34 [==============================] - 137s 4s/step - loss: 0.4333 - categorical_accuracy: 0.8297 - val_loss: 0.5325 - val_categorical_accuracy: 0.8200\n",
            "\n",
            "Epoch 00019: saving model to model_init_2020-08-1708_52_44.883497/model-00019-0.42819-0.82956-0.53246-0.82000.h5\n",
            "\n",
            "Epoch 00019: ReduceLROnPlateau reducing learning rate to 1.2799999637991278e-08.\n",
            "Epoch 20/30\n",
            "34/34 [==============================] - 135s 4s/step - loss: 0.4145 - categorical_accuracy: 0.8422 - val_loss: 0.5316 - val_categorical_accuracy: 0.8200\n",
            "\n",
            "Epoch 00020: saving model to model_init_2020-08-1708_52_44.883497/model-00020-0.40308-0.85068-0.53158-0.82000.h5\n",
            "Epoch 21/30\n",
            "34/34 [==============================] - 135s 4s/step - loss: 0.4765 - categorical_accuracy: 0.8293 - val_loss: 0.5322 - val_categorical_accuracy: 0.8200\n",
            "\n",
            "Epoch 00021: saving model to model_init_2020-08-1708_52_44.883497/model-00021-0.44916-0.84163-0.53220-0.82000.h5\n",
            "Epoch 22/30\n",
            "34/34 [==============================] - 135s 4s/step - loss: 0.4670 - categorical_accuracy: 0.8205 - val_loss: 0.5315 - val_categorical_accuracy: 0.8200\n",
            "\n",
            "Epoch 00022: saving model to model_init_2020-08-1708_52_44.883497/model-00022-0.44857-0.82428-0.53155-0.82000.h5\n",
            "Epoch 23/30\n",
            "34/34 [==============================] - 135s 4s/step - loss: 0.4182 - categorical_accuracy: 0.8455 - val_loss: 0.5329 - val_categorical_accuracy: 0.8200\n",
            "\n",
            "Epoch 00023: saving model to model_init_2020-08-1708_52_44.883497/model-00023-0.41168-0.84992-0.53288-0.82000.h5\n",
            "\n",
            "Epoch 00023: ReduceLROnPlateau reducing learning rate to 2.559999856543982e-09.\n",
            "Epoch 24/30\n",
            "34/34 [==============================] - 136s 4s/step - loss: 0.4464 - categorical_accuracy: 0.8355 - val_loss: 0.5313 - val_categorical_accuracy: 0.8300\n",
            "\n",
            "Epoch 00024: saving model to model_init_2020-08-1708_52_44.883497/model-00024-0.42377-0.84389-0.53128-0.83000.h5\n",
            "Epoch 25/30\n",
            "34/34 [==============================] - 136s 4s/step - loss: 0.4383 - categorical_accuracy: 0.8374 - val_loss: 0.5328 - val_categorical_accuracy: 0.8200\n",
            "\n",
            "Epoch 00025: saving model to model_init_2020-08-1708_52_44.883497/model-00025-0.40596-0.84163-0.53284-0.82000.h5\n",
            "Epoch 26/30\n",
            "34/34 [==============================] - 135s 4s/step - loss: 0.4637 - categorical_accuracy: 0.8348 - val_loss: 0.5318 - val_categorical_accuracy: 0.8300\n",
            "\n",
            "Epoch 00026: saving model to model_init_2020-08-1708_52_44.883497/model-00026-0.43578-0.84314-0.53183-0.83000.h5\n",
            "Epoch 27/30\n",
            "34/34 [==============================] - 136s 4s/step - loss: 0.4791 - categorical_accuracy: 0.8352 - val_loss: 0.5322 - val_categorical_accuracy: 0.8200\n",
            "\n",
            "Epoch 00027: saving model to model_init_2020-08-1708_52_44.883497/model-00027-0.45710-0.83937-0.53224-0.82000.h5\n",
            "\n",
            "Epoch 00027: ReduceLROnPlateau reducing learning rate to 5.11999953545228e-10.\n",
            "Epoch 28/30\n",
            "34/34 [==============================] - 136s 4s/step - loss: 0.4099 - categorical_accuracy: 0.8495 - val_loss: 0.5317 - val_categorical_accuracy: 0.8100\n",
            "\n",
            "Epoch 00028: saving model to model_init_2020-08-1708_52_44.883497/model-00028-0.41145-0.84992-0.53175-0.81000.h5\n",
            "Epoch 29/30\n",
            "34/34 [==============================] - 136s 4s/step - loss: 0.4450 - categorical_accuracy: 0.8418 - val_loss: 0.5313 - val_categorical_accuracy: 0.8200\n",
            "\n",
            "Epoch 00029: saving model to model_init_2020-08-1708_52_44.883497/model-00029-0.43436-0.84615-0.53128-0.82000.h5\n",
            "Epoch 30/30\n",
            "34/34 [==============================] - 135s 4s/step - loss: 0.4548 - categorical_accuracy: 0.8348 - val_loss: 0.5311 - val_categorical_accuracy: 0.8300\n",
            "\n",
            "Epoch 00030: saving model to model_init_2020-08-1708_52_44.883497/model-00030-0.45147-0.83484-0.53111-0.83000.h5\n"
          ],
          "name": "stdout"
        }
      ]
    },
    {
      "cell_type": "code",
      "metadata": {
        "id": "N9IPN0IbS2W1",
        "outputId": "f017e337-f9f7-4886-a9ca-86c5bde11aac"
      },
      "source": [
        "plot(accuracy_check_model8)"
      ],
      "execution_count": null,
      "outputs": [
        {
          "output_type": "display_data",
          "data": {
            "image/png": "[encoded data removed]",
            "text/plain": [
              "<Figure size 1080x288 with 2 Axes>"
            ]
          },
          "metadata": {
            "tags": []
          }
        }
      ]
    },
    {
      "cell_type": "markdown",
      "metadata": {
        "id": "-37FAc7PS2W2"
      },
      "source": [
        "# Model 9 - (2,2,2) Filter  & 120x120 Image resolution"
      ]
    },
    {
      "cell_type": "code",
      "metadata": {
        "jupyter": {
          "outputs_hidden": true
        },
        "id": "fGvM2wGeS2W2"
      },
      "source": [
        "class ModelConv3D9(BuildModelMoreAugmentation):\n",
        "    \n",
        "    def define_model(self,filtersize=(3,3,3),dense_neurons=64,dropout=0.25):\n",
        "\n",
        "        model = Sequential()\n",
        "        model.add(Conv3D(16, filtersize, padding='same',\n",
        "                 input_shape=(self.frames_to_sample,self.image_height,self.image_width,self.channels)))\n",
        "        model.add(Activation('relu'))\n",
        "        model.add(BatchNormalization())\n",
        "        model.add(MaxPooling3D(pool_size=(2, 2, 2)))\n",
        "\n",
        "        model.add(Conv3D(32, filtersize, padding='same'))\n",
        "        model.add(Activation('relu'))\n",
        "        model.add(BatchNormalization())\n",
        "        model.add(MaxPooling3D(pool_size=(2, 2, 2)))\n",
        "\n",
        "        model.add(Conv3D(64, filtersize, padding='same'))\n",
        "        model.add(Activation('relu'))\n",
        "        model.add(BatchNormalization())\n",
        "        model.add(MaxPooling3D(pool_size=(2, 2, 2)))\n",
        "\n",
        "        model.add(Conv3D(128, filtersize, padding='same'))\n",
        "        model.add(Activation('relu'))\n",
        "        model.add(BatchNormalization())\n",
        "        model.add(MaxPooling3D(pool_size=(2, 2, 2)))\n",
        "\n",
        "        model.add(Flatten())\n",
        "        model.add(Dense(dense_neurons,activation='relu'))\n",
        "        model.add(BatchNormalization())\n",
        "        model.add(Dropout(dropout))\n",
        "\n",
        "        model.add(Dense(dense_neurons,activation='relu'))\n",
        "        model.add(BatchNormalization())\n",
        "        model.add(Dropout(dropout))\n",
        "\n",
        "\n",
        "        model.add(Dense(self.num_classes,activation='softmax'))\n",
        "\n",
        "        optimiser = optimizers.Adam(lr=0.0002)\n",
        "        model.compile(optimizer=optimiser, loss='categorical_crossentropy', metrics=['categorical_accuracy'])\n",
        "        return model"
      ],
      "execution_count": null,
      "outputs": []
    },
    {
      "cell_type": "code",
      "metadata": {
        "id": "CxjH_QSdS2W2",
        "outputId": "449e8521-dab5-49c0-8353-8f0bc7cb5289"
      },
      "source": [
        "Conv3D9=ModelConv3D9()\n",
        "Conv3D9.initialize_src_path(main_folder)\n",
        "Conv3D9.initialize_image_properties(image_height=120,image_width=120)\n",
        "Conv3D9.initialize_hyperparams(frames_to_sample=16,batch_size=30,num_epochs=30)\n",
        "Conv3D9_model=Conv3D9.define_model(filtersize=(2,2,2),dense_neurons=256,dropout=0.5)\n",
        "Conv3D9_model.summary()"
      ],
      "execution_count": null,
      "outputs": [
        {
          "output_type": "stream",
          "text": [
            "_________________________________________________________________\n",
            "Layer (type)                 Output Shape              Param #   \n",
            "=================================================================\n",
            "conv3d_1 (Conv3D)            (None, 16, 120, 120, 16)  400       \n",
            "_________________________________________________________________\n",
            "activation_1 (Activation)    (None, 16, 120, 120, 16)  0         \n",
            "_________________________________________________________________\n",
            "batch_normalization_1 (Batch (None, 16, 120, 120, 16)  64        \n",
            "_________________________________________________________________\n",
            "max_pooling3d_1 (MaxPooling3 (None, 8, 60, 60, 16)     0         \n",
            "_________________________________________________________________\n",
            "conv3d_2 (Conv3D)            (None, 8, 60, 60, 32)     4128      \n",
            "_________________________________________________________________\n",
            "activation_2 (Activation)    (None, 8, 60, 60, 32)     0         \n",
            "_________________________________________________________________\n",
            "batch_normalization_2 (Batch (None, 8, 60, 60, 32)     128       \n",
            "_________________________________________________________________\n",
            "max_pooling3d_2 (MaxPooling3 (None, 4, 30, 30, 32)     0         \n",
            "_________________________________________________________________\n",
            "conv3d_3 (Conv3D)            (None, 4, 30, 30, 64)     16448     \n",
            "_________________________________________________________________\n",
            "activation_3 (Activation)    (None, 4, 30, 30, 64)     0         \n",
            "_________________________________________________________________\n",
            "batch_normalization_3 (Batch (None, 4, 30, 30, 64)     256       \n",
            "_________________________________________________________________\n",
            "max_pooling3d_3 (MaxPooling3 (None, 2, 15, 15, 64)     0         \n",
            "_________________________________________________________________\n",
            "conv3d_4 (Conv3D)            (None, 2, 15, 15, 128)    65664     \n",
            "_________________________________________________________________\n",
            "activation_4 (Activation)    (None, 2, 15, 15, 128)    0         \n",
            "_________________________________________________________________\n",
            "batch_normalization_4 (Batch (None, 2, 15, 15, 128)    512       \n",
            "_________________________________________________________________\n",
            "max_pooling3d_4 (MaxPooling3 (None, 1, 7, 7, 128)      0         \n",
            "_________________________________________________________________\n",
            "flatten_1 (Flatten)          (None, 6272)              0         \n",
            "_________________________________________________________________\n",
            "dense_1 (Dense)              (None, 256)               1605888   \n",
            "_________________________________________________________________\n",
            "batch_normalization_5 (Batch (None, 256)               1024      \n",
            "_________________________________________________________________\n",
            "dropout_1 (Dropout)          (None, 256)               0         \n",
            "_________________________________________________________________\n",
            "dense_2 (Dense)              (None, 256)               65792     \n",
            "_________________________________________________________________\n",
            "batch_normalization_6 (Batch (None, 256)               1024      \n",
            "_________________________________________________________________\n",
            "dropout_2 (Dropout)          (None, 256)               0         \n",
            "_________________________________________________________________\n",
            "dense_3 (Dense)              (None, 5)                 1285      \n",
            "=================================================================\n",
            "Total params: 1,762,613\n",
            "Trainable params: 1,761,109\n",
            "Non-trainable params: 1,504\n",
            "_________________________________________________________________\n"
          ],
          "name": "stdout"
        }
      ]
    },
    {
      "cell_type": "code",
      "metadata": {
        "id": "zxQAh3JfS2W2",
        "outputId": "1668d560-7386-4863-80a0-51ba79780bf4"
      },
      "source": [
        "print(\"Total Params:\", Conv3D9_model.count_params())\n",
        "accuracy_check_model9=Conv3D9.train_model(Conv3D9_model,augment_data=True)"
      ],
      "execution_count": null,
      "outputs": [
        {
          "output_type": "stream",
          "text": [
            "Total Params: 1762613\n",
            "Epoch 1/30\n",
            "23/23 [==============================] - 182s 8s/step - loss: 2.1596 - categorical_accuracy: 0.3227 - val_loss: 1.2268 - val_categorical_accuracy: 0.5400\n",
            "\n",
            "Epoch 00001: saving model to model_init_2020-08-1711_09_30.277294/model-00001-2.17344-0.32881-1.22680-0.54000.h5\n",
            "Epoch 2/30\n",
            "23/23 [==============================] - 91s 4s/step - loss: 1.5971 - categorical_accuracy: 0.4587 - val_loss: 0.9871 - val_categorical_accuracy: 0.6200\n",
            "\n",
            "Epoch 00002: saving model to model_init_2020-08-1711_09_30.277294/model-00002-1.50682-0.47662-0.98709-0.62000.h5\n",
            "Epoch 3/30\n",
            "23/23 [==============================] - 92s 4s/step - loss: 1.3288 - categorical_accuracy: 0.5303 - val_loss: 0.8356 - val_categorical_accuracy: 0.6300\n",
            "\n",
            "Epoch 00003: saving model to model_init_2020-08-1711_09_30.277294/model-00003-1.28435-0.54449-0.83558-0.63000.h5\n",
            "Epoch 4/30\n",
            "23/23 [==============================] - 91s 4s/step - loss: 1.1733 - categorical_accuracy: 0.5685 - val_loss: 0.7399 - val_categorical_accuracy: 0.7400\n",
            "\n",
            "Epoch 00004: saving model to model_init_2020-08-1711_09_30.277294/model-00004-1.17681-0.57768-0.73986-0.74000.h5\n",
            "Epoch 5/30\n",
            "23/23 [==============================] - 93s 4s/step - loss: 1.1391 - categorical_accuracy: 0.5984 - val_loss: 0.7643 - val_categorical_accuracy: 0.6800\n",
            "\n",
            "Epoch 00005: saving model to model_init_2020-08-1711_09_30.277294/model-00005-1.14679-0.59578-0.76429-0.68000.h5\n",
            "Epoch 6/30\n",
            "23/23 [==============================] - 90s 4s/step - loss: 1.0497 - categorical_accuracy: 0.6415 - val_loss: 0.7514 - val_categorical_accuracy: 0.6900\n",
            "\n",
            "Epoch 00006: saving model to model_init_2020-08-1711_09_30.277294/model-00006-0.99086-0.64706-0.75143-0.69000.h5\n",
            "Epoch 7/30\n",
            "23/23 [==============================] - 90s 4s/step - loss: 0.9818 - categorical_accuracy: 0.6710 - val_loss: 0.8291 - val_categorical_accuracy: 0.7100\n",
            "\n",
            "Epoch 00007: saving model to model_init_2020-08-1711_09_30.277294/model-00007-0.93336-0.67119-0.82914-0.71000.h5\n",
            "Epoch 8/30\n",
            "23/23 [==============================] - 91s 4s/step - loss: 0.8247 - categorical_accuracy: 0.6836 - val_loss: 0.7941 - val_categorical_accuracy: 0.7400\n",
            "\n",
            "Epoch 00008: saving model to model_init_2020-08-1711_09_30.277294/model-00008-0.80392-0.69080-0.79415-0.74000.h5\n",
            "\n",
            "Epoch 00008: ReduceLROnPlateau reducing learning rate to 3.9999998989515007e-05.\n",
            "Epoch 9/30\n",
            "23/23 [==============================] - 90s 4s/step - loss: 0.8612 - categorical_accuracy: 0.7050 - val_loss: 0.7255 - val_categorical_accuracy: 0.7400\n",
            "\n",
            "Epoch 00009: saving model to model_init_2020-08-1711_09_30.277294/model-00009-0.79906-0.71946-0.72554-0.74000.h5\n",
            "Epoch 10/30\n",
            "23/23 [==============================] - 90s 4s/step - loss: 0.7456 - categorical_accuracy: 0.7189 - val_loss: 0.6827 - val_categorical_accuracy: 0.7800\n",
            "\n",
            "Epoch 00010: saving model to model_init_2020-08-1711_09_30.277294/model-00010-0.74709-0.72097-0.68274-0.78000.h5\n",
            "Epoch 11/30\n",
            "23/23 [==============================] - 91s 4s/step - loss: 0.7499 - categorical_accuracy: 0.7233 - val_loss: 0.6570 - val_categorical_accuracy: 0.7800\n",
            "\n",
            "Epoch 00011: saving model to model_init_2020-08-1711_09_30.277294/model-00011-0.72622-0.72549-0.65698-0.78000.h5\n",
            "Epoch 12/30\n",
            "23/23 [==============================] - 90s 4s/step - loss: 0.7477 - categorical_accuracy: 0.7144 - val_loss: 0.6497 - val_categorical_accuracy: 0.7600\n",
            "\n",
            "Epoch 00012: saving model to model_init_2020-08-1711_09_30.277294/model-00012-0.72004-0.72926-0.64974-0.76000.h5\n",
            "Epoch 13/30\n",
            "23/23 [==============================] - 91s 4s/step - loss: 0.8129 - categorical_accuracy: 0.7297 - val_loss: 0.6738 - val_categorical_accuracy: 0.7500\n",
            "\n",
            "Epoch 00013: saving model to model_init_2020-08-1711_09_30.277294/model-00013-0.70720-0.74510-0.67384-0.75000.h5\n",
            "Epoch 14/30\n",
            "23/23 [==============================] - 90s 4s/step - loss: 0.8421 - categorical_accuracy: 0.7069 - val_loss: 0.6416 - val_categorical_accuracy: 0.7700\n",
            "\n",
            "Epoch 00014: saving model to model_init_2020-08-1711_09_30.277294/model-00014-0.78153-0.71493-0.64157-0.77000.h5\n",
            "Epoch 15/30\n",
            "23/23 [==============================] - 91s 4s/step - loss: 0.7672 - categorical_accuracy: 0.7147 - val_loss: 0.6311 - val_categorical_accuracy: 0.7500\n",
            "\n",
            "Epoch 00015: saving model to model_init_2020-08-1711_09_30.277294/model-00015-0.70106-0.73605-0.63105-0.75000.h5\n",
            "Epoch 16/30\n",
            "23/23 [==============================] - 90s 4s/step - loss: 0.7291 - categorical_accuracy: 0.7144 - val_loss: 0.6209 - val_categorical_accuracy: 0.7600\n",
            "\n",
            "Epoch 00016: saving model to model_init_2020-08-1711_09_30.277294/model-00016-0.69931-0.72926-0.62092-0.76000.h5\n",
            "Epoch 17/30\n",
            "23/23 [==============================] - 90s 4s/step - loss: 0.7105 - categorical_accuracy: 0.7323 - val_loss: 0.6303 - val_categorical_accuracy: 0.7700\n",
            "\n",
            "Epoch 00017: saving model to model_init_2020-08-1711_09_30.277294/model-00017-0.69608-0.74133-0.63030-0.77000.h5\n",
            "Epoch 18/30\n",
            "23/23 [==============================] - 90s 4s/step - loss: 0.6894 - categorical_accuracy: 0.7340 - val_loss: 0.6374 - val_categorical_accuracy: 0.7800\n",
            "\n",
            "Epoch 00018: saving model to model_init_2020-08-1711_09_30.277294/model-00018-0.64248-0.74962-0.63740-0.78000.h5\n",
            "Epoch 19/30\n",
            "23/23 [==============================] - 91s 4s/step - loss: 0.7158 - categorical_accuracy: 0.7336 - val_loss: 0.6257 - val_categorical_accuracy: 0.7800\n",
            "\n",
            "Epoch 00019: saving model to model_init_2020-08-1711_09_30.277294/model-00019-0.65406-0.75566-0.62572-0.78000.h5\n",
            "Epoch 20/30\n",
            "23/23 [==============================] - 90s 4s/step - loss: 0.6774 - categorical_accuracy: 0.7639 - val_loss: 0.6182 - val_categorical_accuracy: 0.7800\n",
            "\n",
            "Epoch 00020: saving model to model_init_2020-08-1711_09_30.277294/model-00020-0.64987-0.76772-0.61817-0.78000.h5\n",
            "Epoch 21/30\n",
            "23/23 [==============================] - 90s 4s/step - loss: 0.6611 - categorical_accuracy: 0.7618 - val_loss: 0.6238 - val_categorical_accuracy: 0.7900\n",
            "\n",
            "Epoch 00021: saving model to model_init_2020-08-1711_09_30.277294/model-00021-0.61728-0.76546-0.62375-0.79000.h5\n",
            "Epoch 22/30\n",
            "23/23 [==============================] - 91s 4s/step - loss: 0.7401 - categorical_accuracy: 0.7381 - val_loss: 0.6189 - val_categorical_accuracy: 0.7600\n",
            "\n",
            "Epoch 00022: saving model to model_init_2020-08-1711_09_30.277294/model-00022-0.66923-0.74736-0.61887-0.76000.h5\n",
            "Epoch 23/30\n",
            "23/23 [==============================] - 90s 4s/step - loss: 0.6197 - categorical_accuracy: 0.7639 - val_loss: 0.6139 - val_categorical_accuracy: 0.7800\n",
            "\n",
            "Epoch 00023: saving model to model_init_2020-08-1711_09_30.277294/model-00023-0.61987-0.76772-0.61386-0.78000.h5\n",
            "Epoch 24/30\n",
            "23/23 [==============================] - 90s 4s/step - loss: 0.6659 - categorical_accuracy: 0.7645 - val_loss: 0.6191 - val_categorical_accuracy: 0.7900\n",
            "\n",
            "Epoch 00024: saving model to model_init_2020-08-1711_09_30.277294/model-00024-0.58772-0.78130-0.61906-0.79000.h5\n",
            "Epoch 25/30\n",
            "23/23 [==============================] - 90s 4s/step - loss: 0.5992 - categorical_accuracy: 0.7658 - val_loss: 0.6240 - val_categorical_accuracy: 0.7900\n",
            "\n",
            "Epoch 00025: saving model to model_init_2020-08-1711_09_30.277294/model-00025-0.60895-0.76320-0.62401-0.79000.h5\n",
            "Epoch 26/30\n",
            "23/23 [==============================] - 91s 4s/step - loss: 0.5996 - categorical_accuracy: 0.7755 - val_loss: 0.6325 - val_categorical_accuracy: 0.7700\n",
            "\n",
            "Epoch 00026: saving model to model_init_2020-08-1711_09_30.277294/model-00026-0.58679-0.77979-0.63251-0.77000.h5\n",
            "Epoch 27/30\n",
            "23/23 [==============================] - 90s 4s/step - loss: 0.5842 - categorical_accuracy: 0.7825 - val_loss: 0.6212 - val_categorical_accuracy: 0.7900\n",
            "\n",
            "Epoch 00027: saving model to model_init_2020-08-1711_09_30.277294/model-00027-0.59542-0.78054-0.62124-0.79000.h5\n",
            "\n",
            "Epoch 00027: ReduceLROnPlateau reducing learning rate to 7.999999797903002e-06.\n",
            "Epoch 28/30\n",
            "23/23 [==============================] - 90s 4s/step - loss: 0.5504 - categorical_accuracy: 0.7985 - val_loss: 0.6192 - val_categorical_accuracy: 0.7900\n",
            "\n",
            "Epoch 00028: saving model to model_init_2020-08-1711_09_30.277294/model-00028-0.55667-0.79713-0.61918-0.79000.h5\n",
            "Epoch 29/30\n",
            "23/23 [==============================] - 91s 4s/step - loss: 0.6276 - categorical_accuracy: 0.7587 - val_loss: 0.6180 - val_categorical_accuracy: 0.7900\n",
            "\n",
            "Epoch 00029: saving model to model_init_2020-08-1711_09_30.277294/model-00029-0.58172-0.77526-0.61804-0.79000.h5\n",
            "Epoch 30/30\n",
            "23/23 [==============================] - 91s 4s/step - loss: 0.5337 - categorical_accuracy: 0.7999 - val_loss: 0.6159 - val_categorical_accuracy: 0.8000\n",
            "\n",
            "Epoch 00030: saving model to model_init_2020-08-1711_09_30.277294/model-00030-0.53689-0.79864-0.61587-0.80000.h5\n"
          ],
          "name": "stdout"
        }
      ]
    },
    {
      "cell_type": "code",
      "metadata": {
        "id": "Dju-Cjp3S2W3",
        "outputId": "8dadb192-f4dd-4e8b-c569-063a6c8e6605"
      },
      "source": [
        "plot(accuracy_check_model9)"
      ],
      "execution_count": null,
      "outputs": [
        {
          "output_type": "display_data",
          "data": {
            "image/png": "[encoded data removed]",
            "text/plain": [
              "<Figure size 1080x288 with 2 Axes>"
            ]
          },
          "metadata": {
            "tags": []
          }
        }
      ]
    },
    {
      "cell_type": "markdown",
      "metadata": {
        "id": "tDK0_wYjS2W3"
      },
      "source": [
        "# Model 10 - Adding more layers"
      ]
    },
    {
      "cell_type": "code",
      "metadata": {
        "jupyter": {
          "outputs_hidden": true
        },
        "id": "_l4mkmpkS2W3"
      },
      "source": [
        "class ModelConv3D10(BuildModelMoreAugmentation):\n",
        "    \n",
        "    def define_model(self,filtersize=(3,3,3),dense_neurons=64,dropout=0.25):\n",
        "\n",
        "        model = Sequential()\n",
        "        model.add(Conv3D(16, filtersize, padding='same',\n",
        "                 input_shape=(self.frames_to_sample,self.image_height,self.image_width,self.channels)))\n",
        "        model.add(Activation('relu'))\n",
        "        model.add(BatchNormalization())\n",
        "        \n",
        "        model.add(Conv3D(16, filtersize, padding='same',\n",
        "                 input_shape=(self.frames_to_sample,self.image_height,self.image_width,self.channels)))\n",
        "        model.add(Activation('relu'))\n",
        "        model.add(BatchNormalization())\n",
        "        \n",
        "        model.add(MaxPooling3D(pool_size=(2, 2, 2)))\n",
        "\n",
        "        model.add(Conv3D(32, filtersize, padding='same'))\n",
        "        model.add(Activation('relu'))\n",
        "        model.add(BatchNormalization())\n",
        "        \n",
        "        model.add(Conv3D(32, filtersize, padding='same'))\n",
        "        model.add(Activation('relu'))\n",
        "        model.add(BatchNormalization())\n",
        "        \n",
        "        model.add(MaxPooling3D(pool_size=(2, 2, 2)))\n",
        "\n",
        "        model.add(Conv3D(64, filtersize, padding='same'))\n",
        "        model.add(Activation('relu'))\n",
        "        model.add(BatchNormalization())\n",
        "        \n",
        "        model.add(Conv3D(64, filtersize, padding='same'))\n",
        "        model.add(Activation('relu'))\n",
        "        model.add(BatchNormalization())\n",
        "        \n",
        "        model.add(MaxPooling3D(pool_size=(2, 2, 2)))\n",
        "\n",
        "        model.add(Conv3D(128, filtersize, padding='same'))\n",
        "        model.add(Activation('relu'))\n",
        "        model.add(BatchNormalization())\n",
        "        \n",
        "        model.add(Conv3D(128, filtersize, padding='same'))\n",
        "        model.add(Activation('relu'))\n",
        "        model.add(BatchNormalization())\n",
        "        \n",
        "        model.add(MaxPooling3D(pool_size=(2, 2, 2)))\n",
        "        \n",
        "\n",
        "        model.add(Flatten())\n",
        "        model.add(Dense(dense_neurons,activation='relu'))\n",
        "        model.add(BatchNormalization())\n",
        "        model.add(Dropout(dropout))\n",
        "\n",
        "        model.add(Dense(dense_neurons,activation='relu'))\n",
        "        model.add(BatchNormalization())\n",
        "        model.add(Dropout(dropout))\n",
        "\n",
        "\n",
        "        model.add(Dense(self.num_classes,activation='softmax'))\n",
        "\n",
        "        optimiser = optimizers.Adam(lr=0.0002)\n",
        "        model.compile(optimizer=optimiser, loss='categorical_crossentropy', metrics=['categorical_accuracy'])\n",
        "        return model"
      ],
      "execution_count": null,
      "outputs": []
    },
    {
      "cell_type": "code",
      "metadata": {
        "id": "q3pzkXwAS2W3",
        "outputId": "ac603459-cbea-4ff8-c019-5037a614c015"
      },
      "source": [
        "Conv3D10=ModelConv3D10()\n",
        "Conv3D10.initialize_src_path(main_folder)\n",
        "Conv3D10.initialize_image_properties(image_height=120,image_width=120)\n",
        "Conv3D10.initialize_hyperparams(frames_to_sample=16,batch_size=20,num_epochs=30)\n",
        "Conv3D10_model=Conv3D10.define_model(filtersize=(3,3,3),dense_neurons=256,dropout=0.5)\n",
        "Conv3D10_model.summary()"
      ],
      "execution_count": null,
      "outputs": [
        {
          "output_type": "stream",
          "text": [
            "_________________________________________________________________\n",
            "Layer (type)                 Output Shape              Param #   \n",
            "=================================================================\n",
            "conv3d_5 (Conv3D)            (None, 16, 120, 120, 16)  1312      \n",
            "_________________________________________________________________\n",
            "activation_5 (Activation)    (None, 16, 120, 120, 16)  0         \n",
            "_________________________________________________________________\n",
            "batch_normalization_7 (Batch (None, 16, 120, 120, 16)  64        \n",
            "_________________________________________________________________\n",
            "conv3d_6 (Conv3D)            (None, 16, 120, 120, 16)  6928      \n",
            "_________________________________________________________________\n",
            "activation_6 (Activation)    (None, 16, 120, 120, 16)  0         \n",
            "_________________________________________________________________\n",
            "batch_normalization_8 (Batch (None, 16, 120, 120, 16)  64        \n",
            "_________________________________________________________________\n",
            "max_pooling3d_5 (MaxPooling3 (None, 8, 60, 60, 16)     0         \n",
            "_________________________________________________________________\n",
            "conv3d_7 (Conv3D)            (None, 8, 60, 60, 32)     13856     \n",
            "_________________________________________________________________\n",
            "activation_7 (Activation)    (None, 8, 60, 60, 32)     0         \n",
            "_________________________________________________________________\n",
            "batch_normalization_9 (Batch (None, 8, 60, 60, 32)     128       \n",
            "_________________________________________________________________\n",
            "conv3d_8 (Conv3D)            (None, 8, 60, 60, 32)     27680     \n",
            "_________________________________________________________________\n",
            "activation_8 (Activation)    (None, 8, 60, 60, 32)     0         \n",
            "_________________________________________________________________\n",
            "batch_normalization_10 (Batc (None, 8, 60, 60, 32)     128       \n",
            "_________________________________________________________________\n",
            "max_pooling3d_6 (MaxPooling3 (None, 4, 30, 30, 32)     0         \n",
            "_________________________________________________________________\n",
            "conv3d_9 (Conv3D)            (None, 4, 30, 30, 64)     55360     \n",
            "_________________________________________________________________\n",
            "activation_9 (Activation)    (None, 4, 30, 30, 64)     0         \n",
            "_________________________________________________________________\n",
            "batch_normalization_11 (Batc (None, 4, 30, 30, 64)     256       \n",
            "_________________________________________________________________\n",
            "conv3d_10 (Conv3D)           (None, 4, 30, 30, 64)     110656    \n",
            "_________________________________________________________________\n",
            "activation_10 (Activation)   (None, 4, 30, 30, 64)     0         \n",
            "_________________________________________________________________\n",
            "batch_normalization_12 (Batc (None, 4, 30, 30, 64)     256       \n",
            "_________________________________________________________________\n",
            "max_pooling3d_7 (MaxPooling3 (None, 2, 15, 15, 64)     0         \n",
            "_________________________________________________________________\n",
            "conv3d_11 (Conv3D)           (None, 2, 15, 15, 128)    221312    \n",
            "_________________________________________________________________\n",
            "activation_11 (Activation)   (None, 2, 15, 15, 128)    0         \n",
            "_________________________________________________________________\n",
            "batch_normalization_13 (Batc (None, 2, 15, 15, 128)    512       \n",
            "_________________________________________________________________\n",
            "conv3d_12 (Conv3D)           (None, 2, 15, 15, 128)    442496    \n",
            "_________________________________________________________________\n",
            "activation_12 (Activation)   (None, 2, 15, 15, 128)    0         \n",
            "_________________________________________________________________\n",
            "batch_normalization_14 (Batc (None, 2, 15, 15, 128)    512       \n",
            "_________________________________________________________________\n",
            "max_pooling3d_8 (MaxPooling3 (None, 1, 7, 7, 128)      0         \n",
            "_________________________________________________________________\n",
            "flatten_2 (Flatten)          (None, 6272)              0         \n",
            "_________________________________________________________________\n",
            "dense_4 (Dense)              (None, 256)               1605888   \n",
            "_________________________________________________________________\n",
            "batch_normalization_15 (Batc (None, 256)               1024      \n",
            "_________________________________________________________________\n",
            "dropout_3 (Dropout)          (None, 256)               0         \n",
            "_________________________________________________________________\n",
            "dense_5 (Dense)              (None, 256)               65792     \n",
            "_________________________________________________________________\n",
            "batch_normalization_16 (Batc (None, 256)               1024      \n",
            "_________________________________________________________________\n",
            "dropout_4 (Dropout)          (None, 256)               0         \n",
            "_________________________________________________________________\n",
            "dense_6 (Dense)              (None, 5)                 1285      \n",
            "=================================================================\n",
            "Total params: 2,556,533\n",
            "Trainable params: 2,554,549\n",
            "Non-trainable params: 1,984\n",
            "_________________________________________________________________\n"
          ],
          "name": "stdout"
        }
      ]
    },
    {
      "cell_type": "code",
      "metadata": {
        "id": "tRPiVsxrS2W3",
        "outputId": "2f91a111-9a35-4bc4-9419-a4cb3044a20b"
      },
      "source": [
        "print(\"Total Params:\", Conv3D10_model.count_params())\n",
        "accuracy_check_model10=Conv3D10.train_model(Conv3D10_model,augment_data=True)"
      ],
      "execution_count": null,
      "outputs": [
        {
          "output_type": "stream",
          "text": [
            "Total Params: 2556533\n",
            "Epoch 1/30\n",
            "34/34 [==============================] - 110s 3s/step - loss: 0.8594 - categorical_accuracy: 0.7079 - val_loss: 0.9512 - val_categorical_accuracy: 0.7200\n",
            "\n",
            "Epoch 00001: saving model to model_init_2020-08-1712_41_20.176426/model-00001-0.87286-0.70060-0.95120-0.72000.h5\n",
            "Epoch 2/30\n",
            "34/34 [==============================] - 102s 3s/step - loss: 0.8131 - categorical_accuracy: 0.6917 - val_loss: 1.0764 - val_categorical_accuracy: 0.7200\n",
            "\n",
            "Epoch 00002: saving model to model_init_2020-08-1712_41_20.176426/model-00002-0.80112-0.70060-1.07643-0.72000.h5\n",
            "Epoch 3/30\n",
            "34/34 [==============================] - 102s 3s/step - loss: 0.7512 - categorical_accuracy: 0.7093 - val_loss: 0.8289 - val_categorical_accuracy: 0.7600\n",
            "\n",
            "Epoch 00003: saving model to model_init_2020-08-1712_41_20.176426/model-00003-0.74945-0.71041-0.82894-0.76000.h5\n",
            "Epoch 4/30\n",
            "34/34 [==============================] - 102s 3s/step - loss: 0.6746 - categorical_accuracy: 0.7524 - val_loss: 0.8057 - val_categorical_accuracy: 0.7400\n",
            "\n",
            "Epoch 00004: saving model to model_init_2020-08-1712_41_20.176426/model-00004-0.64658-0.75867-0.80569-0.74000.h5\n",
            "Epoch 5/30\n",
            "34/34 [==============================] - 102s 3s/step - loss: 0.7277 - categorical_accuracy: 0.7402 - val_loss: 0.9793 - val_categorical_accuracy: 0.7200\n",
            "\n",
            "Epoch 00005: saving model to model_init_2020-08-1712_41_20.176426/model-00005-0.68881-0.75038-0.97931-0.72000.h5\n",
            "Epoch 6/30\n",
            "34/34 [==============================] - 101s 3s/step - loss: 0.6540 - categorical_accuracy: 0.7564 - val_loss: 1.4996 - val_categorical_accuracy: 0.6300\n",
            "\n",
            "Epoch 00006: saving model to model_init_2020-08-1712_41_20.176426/model-00006-0.65103-0.75867-1.49956-0.63000.h5\n",
            "Epoch 7/30\n",
            "34/34 [==============================] - 102s 3s/step - loss: 0.6300 - categorical_accuracy: 0.7840 - val_loss: 0.8968 - val_categorical_accuracy: 0.7500\n",
            "\n",
            "Epoch 00007: saving model to model_init_2020-08-1712_41_20.176426/model-00007-0.62992-0.78281-0.89683-0.75000.h5\n",
            "Epoch 8/30\n",
            "34/34 [==============================] - 101s 3s/step - loss: 0.6391 - categorical_accuracy: 0.7815 - val_loss: 0.8068 - val_categorical_accuracy: 0.7300\n",
            "\n",
            "Epoch 00008: saving model to model_init_2020-08-1712_41_20.176426/model-00008-0.61794-0.78431-0.80682-0.73000.h5\n",
            "\n",
            "Epoch 00008: ReduceLROnPlateau reducing learning rate to 3.9999998989515007e-05.\n",
            "Epoch 9/30\n",
            "34/34 [==============================] - 102s 3s/step - loss: 0.4942 - categorical_accuracy: 0.8263 - val_loss: 0.7088 - val_categorical_accuracy: 0.7700\n",
            "\n",
            "Epoch 00009: saving model to model_init_2020-08-1712_41_20.176426/model-00009-0.50352-0.82202-0.70885-0.77000.h5\n",
            "Epoch 10/30\n",
            "34/34 [==============================] - 101s 3s/step - loss: 0.4887 - categorical_accuracy: 0.8219 - val_loss: 0.6900 - val_categorical_accuracy: 0.7800\n",
            "\n",
            "Epoch 00010: saving model to model_init_2020-08-1712_41_20.176426/model-00010-0.48328-0.82579-0.68997-0.78000.h5\n",
            "Epoch 11/30\n",
            "34/34 [==============================] - 103s 3s/step - loss: 0.4739 - categorical_accuracy: 0.8322 - val_loss: 0.6226 - val_categorical_accuracy: 0.8100\n",
            "\n",
            "Epoch 00011: saving model to model_init_2020-08-1712_41_20.176426/model-00011-0.45162-0.83635-0.62258-0.81000.h5\n",
            "Epoch 12/30\n",
            "34/34 [==============================] - 102s 3s/step - loss: 0.4445 - categorical_accuracy: 0.8370 - val_loss: 0.6409 - val_categorical_accuracy: 0.8200\n",
            "\n",
            "Epoch 00012: saving model to model_init_2020-08-1712_41_20.176426/model-00012-0.44468-0.83710-0.64092-0.82000.h5\n",
            "Epoch 13/30\n",
            "34/34 [==============================] - 102s 3s/step - loss: 0.4145 - categorical_accuracy: 0.8532 - val_loss: 0.6274 - val_categorical_accuracy: 0.8400\n",
            "\n",
            "Epoch 00013: saving model to model_init_2020-08-1712_41_20.176426/model-00013-0.40367-0.85370-0.62743-0.84000.h5\n",
            "Epoch 14/30\n",
            "34/34 [==============================] - 102s 3s/step - loss: 0.3913 - categorical_accuracy: 0.8646 - val_loss: 0.6333 - val_categorical_accuracy: 0.8200\n",
            "\n",
            "Epoch 00014: saving model to model_init_2020-08-1712_41_20.176426/model-00014-0.34974-0.87783-0.63331-0.82000.h5\n",
            "Epoch 15/30\n",
            "34/34 [==============================] - 101s 3s/step - loss: 0.3954 - categorical_accuracy: 0.8609 - val_loss: 0.6797 - val_categorical_accuracy: 0.8400\n",
            "\n",
            "Epoch 00015: saving model to model_init_2020-08-1712_41_20.176426/model-00015-0.36573-0.86576-0.67965-0.84000.h5\n",
            "\n",
            "Epoch 00015: ReduceLROnPlateau reducing learning rate to 7.999999797903002e-06.\n",
            "Epoch 16/30\n",
            "34/34 [==============================] - 101s 3s/step - loss: 0.4215 - categorical_accuracy: 0.8444 - val_loss: 0.6452 - val_categorical_accuracy: 0.8500\n",
            "\n",
            "Epoch 00016: saving model to model_init_2020-08-1712_41_20.176426/model-00016-0.39271-0.85294-0.64524-0.85000.h5\n",
            "Epoch 17/30\n",
            "34/34 [==============================] - 102s 3s/step - loss: 0.3621 - categorical_accuracy: 0.8720 - val_loss: 0.6250 - val_categorical_accuracy: 0.8300\n",
            "\n",
            "Epoch 00017: saving model to model_init_2020-08-1712_41_20.176426/model-00017-0.36795-0.86878-0.62495-0.83000.h5\n",
            "Epoch 18/30\n",
            "34/34 [==============================] - 102s 3s/step - loss: 0.4531 - categorical_accuracy: 0.8455 - val_loss: 0.6313 - val_categorical_accuracy: 0.8300\n",
            "\n",
            "Epoch 00018: saving model to model_init_2020-08-1712_41_20.176426/model-00018-0.43279-0.84992-0.63128-0.83000.h5\n",
            "Epoch 19/30\n",
            "34/34 [==============================] - 101s 3s/step - loss: 0.3548 - categorical_accuracy: 0.8694 - val_loss: 0.6324 - val_categorical_accuracy: 0.8100\n",
            "\n",
            "Epoch 00019: saving model to model_init_2020-08-1712_41_20.176426/model-00019-0.35133-0.87029-0.63236-0.81000.h5\n",
            "\n",
            "Epoch 00019: ReduceLROnPlateau reducing learning rate to 1.5999999959603884e-06.\n",
            "Epoch 20/30\n",
            "34/34 [==============================] - 101s 3s/step - loss: 0.3662 - categorical_accuracy: 0.8731 - val_loss: 0.6318 - val_categorical_accuracy: 0.8100\n",
            "\n",
            "Epoch 00020: saving model to model_init_2020-08-1712_41_20.176426/model-00020-0.34952-0.87406-0.63180-0.81000.h5\n",
            "Epoch 21/30\n",
            "34/34 [==============================] - 101s 3s/step - loss: 0.3516 - categorical_accuracy: 0.8646 - val_loss: 0.6339 - val_categorical_accuracy: 0.8200\n",
            "\n",
            "Epoch 00021: saving model to model_init_2020-08-1712_41_20.176426/model-00021-0.32541-0.87783-0.63389-0.82000.h5\n",
            "Epoch 22/30\n",
            "34/34 [==============================] - 102s 3s/step - loss: 0.3852 - categorical_accuracy: 0.8580 - val_loss: 0.6339 - val_categorical_accuracy: 0.8200\n",
            "\n",
            "Epoch 00022: saving model to model_init_2020-08-1712_41_20.176426/model-00022-0.36219-0.87104-0.63393-0.82000.h5\n",
            "Epoch 23/30\n",
            "34/34 [==============================] - 101s 3s/step - loss: 0.4116 - categorical_accuracy: 0.8668 - val_loss: 0.6318 - val_categorical_accuracy: 0.8200\n",
            "\n",
            "Epoch 00023: saving model to model_init_2020-08-1712_41_20.176426/model-00023-0.37103-0.87179-0.63175-0.82000.h5\n",
            "\n",
            "Epoch 00023: ReduceLROnPlateau reducing learning rate to 3.200000037395512e-07.\n",
            "Epoch 24/30\n",
            "34/34 [==============================] - 101s 3s/step - loss: 0.3222 - categorical_accuracy: 0.8867 - val_loss: 0.6326 - val_categorical_accuracy: 0.8200\n",
            "\n",
            "Epoch 00024: saving model to model_init_2020-08-1712_41_20.176426/model-00024-0.32712-0.88386-0.63263-0.82000.h5\n",
            "Epoch 25/30\n",
            "34/34 [==============================] - 102s 3s/step - loss: 0.3368 - categorical_accuracy: 0.8738 - val_loss: 0.6336 - val_categorical_accuracy: 0.8300\n",
            "\n",
            "Epoch 00025: saving model to model_init_2020-08-1712_41_20.176426/model-00025-0.33400-0.87481-0.63359-0.83000.h5\n",
            "Epoch 26/30\n",
            "34/34 [==============================] - 100s 3s/step - loss: 0.3710 - categorical_accuracy: 0.8617 - val_loss: 0.6312 - val_categorical_accuracy: 0.8300\n",
            "\n",
            "Epoch 00026: saving model to model_init_2020-08-1712_41_20.176426/model-00026-0.35530-0.86652-0.63124-0.83000.h5\n",
            "Epoch 27/30\n",
            "34/34 [==============================] - 101s 3s/step - loss: 0.3460 - categorical_accuracy: 0.8790 - val_loss: 0.6303 - val_categorical_accuracy: 0.8100\n",
            "\n",
            "Epoch 00027: saving model to model_init_2020-08-1712_41_20.176426/model-00027-0.33753-0.88009-0.63027-0.81000.h5\n",
            "\n",
            "Epoch 00027: ReduceLROnPlateau reducing learning rate to 6.399999961104187e-08.\n",
            "Epoch 28/30\n",
            "34/34 [==============================] - 102s 3s/step - loss: 0.4120 - categorical_accuracy: 0.8550 - val_loss: 0.6298 - val_categorical_accuracy: 0.8200\n",
            "\n",
            "Epoch 00028: saving model to model_init_2020-08-1712_41_20.176426/model-00028-0.36400-0.86802-0.62980-0.82000.h5\n",
            "Epoch 29/30\n",
            "34/34 [==============================] - 99s 3s/step - loss: 0.3480 - categorical_accuracy: 0.8661 - val_loss: 0.6304 - val_categorical_accuracy: 0.8200\n",
            "\n",
            "Epoch 00029: saving model to model_init_2020-08-1712_41_20.176426/model-00029-0.33595-0.87104-0.63043-0.82000.h5\n",
            "Epoch 30/30\n",
            "34/34 [==============================] - 101s 3s/step - loss: 0.3944 - categorical_accuracy: 0.8683 - val_loss: 0.6332 - val_categorical_accuracy: 0.8100\n",
            "\n",
            "Epoch 00030: saving model to model_init_2020-08-1712_41_20.176426/model-00030-0.37478-0.87330-0.63323-0.81000.h5\n"
          ],
          "name": "stdout"
        }
      ]
    },
    {
      "cell_type": "code",
      "metadata": {
        "id": "MKrzkx1BS2W4",
        "outputId": "f5cf0d28-97a6-4954-b860-5b1da73b60a0"
      },
      "source": [
        "plot(accuracy_check_model10)"
      ],
      "execution_count": null,
      "outputs": [
        {
          "output_type": "display_data",
          "data": {
            "image/png": "[encoded data removed]",
            "text/plain": [
              "<Figure size 1080x288 with 2 Axes>"
            ]
          },
          "metadata": {
            "tags": []
          }
        }
      ]
    },
    {
      "cell_type": "markdown",
      "metadata": {
        "id": "rv_UmvUxS2W4"
      },
      "source": [
        "# Model 11 - CNN LSTM with GRU"
      ]
    },
    {
      "cell_type": "code",
      "metadata": {
        "jupyter": {
          "outputs_hidden": true
        },
        "id": "gR8IXTQ8S2W4"
      },
      "source": [
        "class CNNRNN2(BuildModelMoreAugmentation):\n",
        "    \n",
        "    def define_model(self,lstm_cells=64,dense_neurons=64,dropout=0.25):\n",
        "\n",
        "        model = Sequential()\n",
        "\n",
        "        model.add(TimeDistributed(Conv2D(16, (3, 3) , padding='same', activation='relu'),\n",
        "                                  input_shape=(self.frames_to_sample,self.image_height,self.image_width,self.channels)))\n",
        "        model.add(TimeDistributed(BatchNormalization()))\n",
        "        model.add(TimeDistributed(MaxPooling2D((2, 2))))\n",
        "        \n",
        "        model.add(TimeDistributed(Conv2D(32, (3, 3) , padding='same', activation='relu')))\n",
        "        model.add(TimeDistributed(BatchNormalization()))\n",
        "        model.add(TimeDistributed(MaxPooling2D((2, 2))))\n",
        "        \n",
        "        model.add(TimeDistributed(Conv2D(64, (3, 3) , padding='same', activation='relu')))\n",
        "        model.add(TimeDistributed(BatchNormalization()))\n",
        "        model.add(TimeDistributed(MaxPooling2D((2, 2))))\n",
        "        \n",
        "        model.add(TimeDistributed(Conv2D(128, (3, 3) , padding='same', activation='relu')))\n",
        "        model.add(TimeDistributed(BatchNormalization()))\n",
        "        model.add(TimeDistributed(MaxPooling2D((2, 2))))\n",
        "        \n",
        "\n",
        "        model.add(TimeDistributed(Flatten()))\n",
        "\n",
        "\n",
        "        model.add(GRU(lstm_cells))\n",
        "        model.add(Dropout(dropout))\n",
        "        \n",
        "        model.add(Dense(dense_neurons,activation='relu'))\n",
        "        model.add(Dropout(dropout))\n",
        "        \n",
        "        model.add(Dense(self.num_classes, activation='softmax'))\n",
        "        optimiser = optimizers.Adam(lr=0.0002)\n",
        "        model.compile(optimizer=optimiser, loss='categorical_crossentropy', metrics=['categorical_accuracy'])\n",
        "        return model"
      ],
      "execution_count": null,
      "outputs": []
    },
    {
      "cell_type": "code",
      "metadata": {
        "id": "acwJcHbVS2W4",
        "outputId": "05877fd1-5611-451d-bb47-87fdb34ea068"
      },
      "source": [
        "cnn_rnn2=CNNRNN2()\n",
        "cnn_rnn2.initialize_src_path(main_folder)\n",
        "cnn_rnn2.initialize_image_properties(image_height=120,image_width=120)\n",
        "cnn_rnn2.initialize_hyperparams(frames_to_sample=18,batch_size=20,num_epochs=20)\n",
        "cnn_rnn2_model=cnn_rnn2.define_model(lstm_cells=128,dense_neurons=128,dropout=0.25)\n",
        "cnn_rnn2_model.summary()"
      ],
      "execution_count": null,
      "outputs": [
        {
          "output_type": "stream",
          "text": [
            "_________________________________________________________________\n",
            "Layer (type)                 Output Shape              Param #   \n",
            "=================================================================\n",
            "time_distributed_14 (TimeDis (None, 18, 120, 120, 16)  448       \n",
            "_________________________________________________________________\n",
            "time_distributed_15 (TimeDis (None, 18, 120, 120, 16)  64        \n",
            "_________________________________________________________________\n",
            "time_distributed_16 (TimeDis (None, 18, 60, 60, 16)    0         \n",
            "_________________________________________________________________\n",
            "time_distributed_17 (TimeDis (None, 18, 60, 60, 32)    4640      \n",
            "_________________________________________________________________\n",
            "time_distributed_18 (TimeDis (None, 18, 60, 60, 32)    128       \n",
            "_________________________________________________________________\n",
            "time_distributed_19 (TimeDis (None, 18, 30, 30, 32)    0         \n",
            "_________________________________________________________________\n",
            "time_distributed_20 (TimeDis (None, 18, 30, 30, 64)    18496     \n",
            "_________________________________________________________________\n",
            "time_distributed_21 (TimeDis (None, 18, 30, 30, 64)    256       \n",
            "_________________________________________________________________\n",
            "time_distributed_22 (TimeDis (None, 18, 15, 15, 64)    0         \n",
            "_________________________________________________________________\n",
            "time_distributed_23 (TimeDis (None, 18, 15, 15, 128)   73856     \n",
            "_________________________________________________________________\n",
            "time_distributed_24 (TimeDis (None, 18, 15, 15, 128)   512       \n",
            "_________________________________________________________________\n",
            "time_distributed_25 (TimeDis (None, 18, 7, 7, 128)     0         \n",
            "_________________________________________________________________\n",
            "time_distributed_26 (TimeDis (None, 18, 6272)          0         \n",
            "_________________________________________________________________\n",
            "gru_2 (GRU)                  (None, 128)               2457984   \n",
            "_________________________________________________________________\n",
            "dropout_7 (Dropout)          (None, 128)               0         \n",
            "_________________________________________________________________\n",
            "dense_9 (Dense)              (None, 128)               16512     \n",
            "_________________________________________________________________\n",
            "dropout_8 (Dropout)          (None, 128)               0         \n",
            "_________________________________________________________________\n",
            "dense_10 (Dense)             (None, 5)                 645       \n",
            "=================================================================\n",
            "Total params: 2,573,541\n",
            "Trainable params: 2,573,061\n",
            "Non-trainable params: 480\n",
            "_________________________________________________________________\n"
          ],
          "name": "stdout"
        }
      ]
    },
    {
      "cell_type": "code",
      "metadata": {
        "id": "BJ81MtpZS2W4",
        "outputId": "0c644ce8-6029-44e0-c1e5-1995071fc41a"
      },
      "source": [
        "print(\"Total Params:\", cnn_rnn2_model.count_params())\n",
        "accuracy_check_model11=cnn_rnn2.train_model(cnn_rnn2_model,augment_data=True)"
      ],
      "execution_count": null,
      "outputs": [
        {
          "output_type": "stream",
          "text": [
            "Total Params: 2573541\n",
            "Epoch 1/20\n",
            "34/34 [==============================] - 162s 5s/step - loss: 1.4901 - categorical_accuracy: 0.3477 - val_loss: 1.2201 - val_categorical_accuracy: 0.5600\n",
            "\n",
            "Epoch 00001: saving model to model_init_2020-08-1713_35_22.716313/model-00001-1.49209-0.35219-1.22005-0.56000.h5\n",
            "Epoch 2/20\n",
            "34/34 [==============================] - 99s 3s/step - loss: 1.1252 - categorical_accuracy: 0.5276 - val_loss: 1.0239 - val_categorical_accuracy: 0.6000\n",
            "\n",
            "Epoch 00002: saving model to model_init_2020-08-1713_35_22.716313/model-00002-1.12983-0.53243-1.02391-0.60000.h5\n",
            "Epoch 3/20\n",
            "34/34 [==============================] - 100s 3s/step - loss: 0.9085 - categorical_accuracy: 0.6391 - val_loss: 0.9902 - val_categorical_accuracy: 0.6000\n",
            "\n",
            "Epoch 00003: saving model to model_init_2020-08-1713_35_22.716313/model-00003-0.90659-0.64253-0.99023-0.60000.h5\n",
            "Epoch 4/20\n",
            "34/34 [==============================] - 100s 3s/step - loss: 0.7908 - categorical_accuracy: 0.6957 - val_loss: 0.8379 - val_categorical_accuracy: 0.6500\n",
            "\n",
            "Epoch 00004: saving model to model_init_2020-08-1713_35_22.716313/model-00004-0.79921-0.69231-0.83785-0.65000.h5\n",
            "Epoch 5/20\n",
            "34/34 [==============================] - 99s 3s/step - loss: 0.5779 - categorical_accuracy: 0.7995 - val_loss: 0.8630 - val_categorical_accuracy: 0.6600\n",
            "\n",
            "Epoch 00005: saving model to model_init_2020-08-1713_35_22.716313/model-00005-0.58024-0.79864-0.86299-0.66000.h5\n",
            "Epoch 6/20\n",
            "34/34 [==============================] - 102s 3s/step - loss: 0.5392 - categorical_accuracy: 0.8124 - val_loss: 0.7656 - val_categorical_accuracy: 0.6700\n",
            "\n",
            "Epoch 00006: saving model to model_init_2020-08-1713_35_22.716313/model-00006-0.51756-0.82428-0.76564-0.67000.h5\n",
            "Epoch 7/20\n",
            "34/34 [==============================] - 102s 3s/step - loss: 0.4482 - categorical_accuracy: 0.8602 - val_loss: 0.7413 - val_categorical_accuracy: 0.7300\n",
            "\n",
            "Epoch 00007: saving model to model_init_2020-08-1713_35_22.716313/model-00007-0.45299-0.85671-0.74130-0.73000.h5\n",
            "Epoch 8/20\n",
            "34/34 [==============================] - 103s 3s/step - loss: 0.3731 - categorical_accuracy: 0.8705 - val_loss: 0.7204 - val_categorical_accuracy: 0.7100\n",
            "\n",
            "Epoch 00008: saving model to model_init_2020-08-1713_35_22.716313/model-00008-0.37372-0.87557-0.72038-0.71000.h5\n",
            "Epoch 9/20\n",
            "34/34 [==============================] - 104s 3s/step - loss: 0.3059 - categorical_accuracy: 0.9018 - val_loss: 0.7136 - val_categorical_accuracy: 0.6900\n",
            "\n",
            "Epoch 00009: saving model to model_init_2020-08-1713_35_22.716313/model-00009-0.30627-0.90347-0.71361-0.69000.h5\n",
            "Epoch 10/20\n",
            "34/34 [==============================] - 103s 3s/step - loss: 0.2575 - categorical_accuracy: 0.9194 - val_loss: 0.6913 - val_categorical_accuracy: 0.6800\n",
            "\n",
            "Epoch 00010: saving model to model_init_2020-08-1713_35_22.716313/model-00010-0.25170-0.92157-0.69125-0.68000.h5\n",
            "Epoch 11/20\n",
            "34/34 [==============================] - 103s 3s/step - loss: 0.2385 - categorical_accuracy: 0.9246 - val_loss: 0.8049 - val_categorical_accuracy: 0.7000\n",
            "\n",
            "Epoch 00011: saving model to model_init_2020-08-1713_35_22.716313/model-00011-0.22924-0.92685-0.80486-0.70000.h5\n",
            "Epoch 12/20\n",
            "34/34 [==============================] - 103s 3s/step - loss: 0.2141 - categorical_accuracy: 0.9419 - val_loss: 0.9415 - val_categorical_accuracy: 0.6800\n",
            "\n",
            "Epoch 00012: saving model to model_init_2020-08-1713_35_22.716313/model-00012-0.19849-0.94872-0.94148-0.68000.h5\n",
            "Epoch 13/20\n",
            "34/34 [==============================] - 103s 3s/step - loss: 0.1932 - categorical_accuracy: 0.9393 - val_loss: 0.6698 - val_categorical_accuracy: 0.7800\n",
            "\n",
            "Epoch 00013: saving model to model_init_2020-08-1713_35_22.716313/model-00013-0.19200-0.94193-0.66977-0.78000.h5\n",
            "Epoch 14/20\n",
            "34/34 [==============================] - 103s 3s/step - loss: 0.1744 - categorical_accuracy: 0.9489 - val_loss: 0.6929 - val_categorical_accuracy: 0.7600\n",
            "\n",
            "Epoch 00014: saving model to model_init_2020-08-1713_35_22.716313/model-00014-0.17218-0.95173-0.69289-0.76000.h5\n",
            "Epoch 15/20\n",
            "34/34 [==============================] - 104s 3s/step - loss: 0.1444 - categorical_accuracy: 0.9581 - val_loss: 0.7325 - val_categorical_accuracy: 0.7600\n",
            "\n",
            "Epoch 00015: saving model to model_init_2020-08-1713_35_22.716313/model-00015-0.14275-0.95701-0.73246-0.76000.h5\n",
            "Epoch 16/20\n",
            "34/34 [==============================] - 103s 3s/step - loss: 0.1215 - categorical_accuracy: 0.9654 - val_loss: 0.6637 - val_categorical_accuracy: 0.7700\n",
            "\n",
            "Epoch 00016: saving model to model_init_2020-08-1713_35_22.716313/model-00016-0.11988-0.96456-0.66368-0.77000.h5\n",
            "Epoch 17/20\n",
            "34/34 [==============================] - 104s 3s/step - loss: 0.0815 - categorical_accuracy: 0.9838 - val_loss: 0.6889 - val_categorical_accuracy: 0.7700\n",
            "\n",
            "Epoch 00017: saving model to model_init_2020-08-1713_35_22.716313/model-00017-0.08032-0.98341-0.68888-0.77000.h5\n",
            "Epoch 18/20\n",
            "34/34 [==============================] - 102s 3s/step - loss: 0.0744 - categorical_accuracy: 0.9831 - val_loss: 0.6160 - val_categorical_accuracy: 0.8000\n",
            "\n",
            "Epoch 00018: saving model to model_init_2020-08-1713_35_22.716313/model-00018-0.07419-0.98265-0.61599-0.80000.h5\n",
            "Epoch 19/20\n",
            "34/34 [==============================] - 103s 3s/step - loss: 0.0696 - categorical_accuracy: 0.9845 - val_loss: 0.6478 - val_categorical_accuracy: 0.8200\n",
            "\n",
            "Epoch 00019: saving model to model_init_2020-08-1713_35_22.716313/model-00019-0.06904-0.98416-0.64779-0.82000.h5\n",
            "Epoch 20/20\n",
            "34/34 [==============================] - 103s 3s/step - loss: 0.0506 - categorical_accuracy: 0.9904 - val_loss: 0.6128 - val_categorical_accuracy: 0.8000\n",
            "\n",
            "Epoch 00020: saving model to model_init_2020-08-1713_35_22.716313/model-00020-0.05089-0.99020-0.61279-0.80000.h5\n"
          ],
          "name": "stdout"
        }
      ]
    },
    {
      "cell_type": "code",
      "metadata": {
        "id": "PcE6oH2tS2W5",
        "outputId": "8dad84e2-109c-4216-c519-27f93530f379"
      },
      "source": [
        "plot(accuracy_check_model11)"
      ],
      "execution_count": null,
      "outputs": [
        {
          "output_type": "display_data",
          "data": {
            "image/png": "[encoded data removed]",
            "text/plain": [
              "<Figure size 1080x288 with 2 Axes>"
            ]
          },
          "metadata": {
            "tags": []
          }
        }
      ]
    },
    {
      "cell_type": "markdown",
      "metadata": {
        "id": "jkel888cS2W5"
      },
      "source": [
        "### Completely overfitting"
      ]
    }
  ]
}